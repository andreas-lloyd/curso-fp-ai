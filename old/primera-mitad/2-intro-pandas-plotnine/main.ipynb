{
 "cells": [
  {
   "cell_type": "markdown",
   "metadata": {},
   "source": [
    "# Crash course en Pandas y Plotnine\n",
    "Pandas es una de las librerias fundamentales para analizar los datos en Python - toma inspiracion de los data frames de R y nos hace la vida facil.\n",
    "\n",
    "Plotnine es una libreria mucho menos conocida pero vale la pena aprenderlo. Una critica comun de Python para data science es que R tiene mucho mejor capacidad de visualizacion de datos, gracias a la libreria de \"ggplot\". Ggplot es muy popular por haber inventado una \"gramatica\" de crear graficos que es muy intuitivo y muy flexible - mientras las opciones más tipicos de Python (matplotlib...) son todo lo opuesto (segun quien preguntas).\n",
    "\n",
    "Plotnine es basicamente un port de ggplot a Python, entonces ya no tenemos problemas! Te estaras preguntando \"si R tiene todo lo bueno y Python lo ha robado de ahi, porque no usamos R?\" Por mi lo fuerte de Python no es que sea un lenguaje bueno para analizar datos, pero es un lenguaje bueno para hacer todo lo demas!\n",
    "\n",
    "No queremos enseñar todo lo que hay, pero vale mucho la pena hacer un crash course para entender el core de estas librerias.\n",
    "\n",
    "## Versiones??\n",
    "No vamos a hacer nada que depende mucho de alguna version de Python ni libreria. Con tener una version de Python bastante actualizada basta. Si sois disciplinados y quereis utilizar entornos virtuales - recomiendo conda para trabajar con Jupyter."
   ]
  },
  {
   "cell_type": "code",
   "execution_count": 16,
   "metadata": {},
   "outputs": [],
   "source": [
    "from pathlib import Path\n",
    "\n",
    "import pandas as pd\n",
    "import plotnine as pn\n",
    "\n",
    "\n",
    "# Nuestros ficheros\n",
    "data_loc = Path('../1-descarga-datos/')\n",
    "handles_file = data_loc / '2021-08-11-handles-data.csv'\n",
    "tweet_file = data_loc / '2021-08-11-2021-08-12-2021-08-19-tweets-data.csv'\n",
    "\n",
    "# Algo util para visualizar mas columnas\n",
    "pd.set_option('display.max_columns', 500)"
   ]
  },
  {
   "cell_type": "markdown",
   "metadata": {},
   "source": [
    "## Creando data frames\n",
    "El objeto central de Pandas es el data frame. Es comparable a una \"hoja de Excel\" y es donde viven nuestros datos. Casi todo lo que vamos a hacer se orientara alrededor de crear un data frame y utilizar funciones del data frame para hacer nuestros analisis.\n",
    "\n",
    "Lo fundamental es que un data frame tiene filas y columnas. Cada fila tiene un \"nombre\" que es el index y cada columna tiene un nombre que se refiere como la columna y ya esta. Acedemos a los datos referiendonos a los indices y columnas.\n",
    "\n",
    "### Como se crean?\n",
    "Realmente hay varias formas de crear un data frame. Lo mas comun es tener un diccionario de listas donde los \"keys\" son las columnas y las listas son los datos de cada fila.\n",
    "\n",
    "Pandas es bastante listo y acepta otros formatos. Lo fundamental es que tiene que entender que son las filas y las columnas. No vamos a cubrir todo porque realmente es mas comun cargar datos directamente (no crear los DFs a mano)."
   ]
  },
  {
   "cell_type": "code",
   "execution_count": 3,
   "metadata": {},
   "outputs": [
    {
     "data": {
      "text/html": [
       "<div>\n",
       "<style scoped>\n",
       "    .dataframe tbody tr th:only-of-type {\n",
       "        vertical-align: middle;\n",
       "    }\n",
       "\n",
       "    .dataframe tbody tr th {\n",
       "        vertical-align: top;\n",
       "    }\n",
       "\n",
       "    .dataframe thead th {\n",
       "        text-align: right;\n",
       "    }\n",
       "</style>\n",
       "<table border=\"1\" class=\"dataframe\">\n",
       "  <thead>\n",
       "    <tr style=\"text-align: right;\">\n",
       "      <th></th>\n",
       "      <th>columna_1</th>\n",
       "      <th>columna_2</th>\n",
       "      <th>columna_letras</th>\n",
       "    </tr>\n",
       "  </thead>\n",
       "  <tbody>\n",
       "    <tr>\n",
       "      <th>0</th>\n",
       "      <td>1</td>\n",
       "      <td>6</td>\n",
       "      <td>a</td>\n",
       "    </tr>\n",
       "    <tr>\n",
       "      <th>1</th>\n",
       "      <td>2</td>\n",
       "      <td>7</td>\n",
       "      <td>b</td>\n",
       "    </tr>\n",
       "    <tr>\n",
       "      <th>2</th>\n",
       "      <td>3</td>\n",
       "      <td>8</td>\n",
       "      <td>c</td>\n",
       "    </tr>\n",
       "    <tr>\n",
       "      <th>3</th>\n",
       "      <td>4</td>\n",
       "      <td>9</td>\n",
       "      <td>d</td>\n",
       "    </tr>\n",
       "    <tr>\n",
       "      <th>4</th>\n",
       "      <td>5</td>\n",
       "      <td>10</td>\n",
       "      <td>e</td>\n",
       "    </tr>\n",
       "  </tbody>\n",
       "</table>\n",
       "</div>"
      ],
      "text/plain": [
       "   columna_1  columna_2 columna_letras\n",
       "0          1          6              a\n",
       "1          2          7              b\n",
       "2          3          8              c\n",
       "3          4          9              d\n",
       "4          5         10              e"
      ]
     },
     "execution_count": 3,
     "metadata": {},
     "output_type": "execute_result"
    }
   ],
   "source": [
    "data = {\n",
    "    'columna_1' : [1, 2, 3, 4, 5],\n",
    "    'columna_2' : [6, 7, 8, 9, 10],\n",
    "    'columna_letras' : ['a', 'b', 'c', 'd', 'e'],\n",
    "}\n",
    "\n",
    "my_df = pd.DataFrame(data)\n",
    "\n",
    "my_df"
   ]
  },
  {
   "cell_type": "code",
   "execution_count": 4,
   "metadata": {},
   "outputs": [
    {
     "data": {
      "text/html": [
       "<div>\n",
       "<style scoped>\n",
       "    .dataframe tbody tr th:only-of-type {\n",
       "        vertical-align: middle;\n",
       "    }\n",
       "\n",
       "    .dataframe tbody tr th {\n",
       "        vertical-align: top;\n",
       "    }\n",
       "\n",
       "    .dataframe thead th {\n",
       "        text-align: right;\n",
       "    }\n",
       "</style>\n",
       "<table border=\"1\" class=\"dataframe\">\n",
       "  <thead>\n",
       "    <tr style=\"text-align: right;\">\n",
       "      <th></th>\n",
       "      <th>columna_1</th>\n",
       "      <th>columna_2</th>\n",
       "      <th>columna_letras</th>\n",
       "    </tr>\n",
       "  </thead>\n",
       "  <tbody>\n",
       "    <tr>\n",
       "      <th>0</th>\n",
       "      <td>1</td>\n",
       "      <td>6</td>\n",
       "      <td>a</td>\n",
       "    </tr>\n",
       "    <tr>\n",
       "      <th>1</th>\n",
       "      <td>2</td>\n",
       "      <td>7</td>\n",
       "      <td>b</td>\n",
       "    </tr>\n",
       "  </tbody>\n",
       "</table>\n",
       "</div>"
      ],
      "text/plain": [
       "   columna_1  columna_2 columna_letras\n",
       "0          1          6              a\n",
       "1          2          7              b"
      ]
     },
     "execution_count": 4,
     "metadata": {},
     "output_type": "execute_result"
    }
   ],
   "source": [
    "data = [\n",
    "    (1, 6, 'a'),\n",
    "    (2, 7, 'b')\n",
    "]\n",
    "\n",
    "pd.DataFrame(data, columns=['columna_1', 'columna_2', 'columna_letras'])"
   ]
  },
  {
   "cell_type": "markdown",
   "metadata": {},
   "source": [
    "## Cargando datos\n",
    "No es lo mas habitular crear datos asi de esta forma (fuera de los tutoriales) - lo mas tipico es cargar unos datos externos directamente a un data frame. Posibles opciones son:\n",
    "\n",
    "* Cargar un fichero CSV\n",
    "* Cargar un JSON grande\n",
    "* Leer un fichero desde un URL\n",
    "* Leer datos directamente de una base de datos (lo mas comun en un ambito profesonal)\n",
    "\n",
    "Vamos a cargar nuestros datos sobre usuarios de Twitter"
   ]
  },
  {
   "cell_type": "code",
   "execution_count": 55,
   "metadata": {},
   "outputs": [
    {
     "data": {
      "text/html": [
       "<div>\n",
       "<style scoped>\n",
       "    .dataframe tbody tr th:only-of-type {\n",
       "        vertical-align: middle;\n",
       "    }\n",
       "\n",
       "    .dataframe tbody tr th {\n",
       "        vertical-align: top;\n",
       "    }\n",
       "\n",
       "    .dataframe thead th {\n",
       "        text-align: right;\n",
       "    }\n",
       "</style>\n",
       "<table border=\"1\" class=\"dataframe\">\n",
       "  <thead>\n",
       "    <tr style=\"text-align: right;\">\n",
       "      <th></th>\n",
       "      <th>id</th>\n",
       "      <th>name</th>\n",
       "      <th>username</th>\n",
       "      <th>bio</th>\n",
       "      <th>url</th>\n",
       "      <th>join_datetime</th>\n",
       "      <th>join_date</th>\n",
       "      <th>join_time</th>\n",
       "      <th>tweets</th>\n",
       "      <th>location</th>\n",
       "      <th>following</th>\n",
       "      <th>followers</th>\n",
       "      <th>likes</th>\n",
       "      <th>media</th>\n",
       "      <th>private</th>\n",
       "      <th>verified</th>\n",
       "      <th>avatar</th>\n",
       "      <th>background_image</th>\n",
       "    </tr>\n",
       "  </thead>\n",
       "  <tbody>\n",
       "    <tr>\n",
       "      <th>0</th>\n",
       "      <td>409486555</td>\n",
       "      <td>Michelle Obama</td>\n",
       "      <td>MichelleObama</td>\n",
       "      <td>Girl from the South Side and former First Lady...</td>\n",
       "      <td>https://t.co/HPYP9ad13Y</td>\n",
       "      <td>2011-11-10 20:13:01 UTC</td>\n",
       "      <td>2011-11-10</td>\n",
       "      <td>20:13:01 UTC</td>\n",
       "      <td>1770</td>\n",
       "      <td>Washington, DC</td>\n",
       "      <td>16</td>\n",
       "      <td>20854298</td>\n",
       "      <td>184</td>\n",
       "      <td>461</td>\n",
       "      <td>False</td>\n",
       "      <td>True</td>\n",
       "      <td>https://pbs.twimg.com/profile_images/136674780...</td>\n",
       "      <td>https://pbs.twimg.com/profile_banners/40948655...</td>\n",
       "    </tr>\n",
       "    <tr>\n",
       "      <th>1</th>\n",
       "      <td>19397785</td>\n",
       "      <td>Oprah Winfrey</td>\n",
       "      <td>Oprah</td>\n",
       "      <td>NaN</td>\n",
       "      <td>https://t.co/IKOnfAha8E</td>\n",
       "      <td>2009-01-23 15:18:34 UTC</td>\n",
       "      <td>2009-01-23</td>\n",
       "      <td>15:18:34 UTC</td>\n",
       "      <td>13388</td>\n",
       "      <td>NaN</td>\n",
       "      <td>323</td>\n",
       "      <td>43197469</td>\n",
       "      <td>224</td>\n",
       "      <td>951</td>\n",
       "      <td>False</td>\n",
       "      <td>True</td>\n",
       "      <td>https://pbs.twimg.com/profile_images/112335936...</td>\n",
       "      <td>https://pbs.twimg.com/profile_banners/19397785...</td>\n",
       "    </tr>\n",
       "    <tr>\n",
       "      <th>2</th>\n",
       "      <td>21447363</td>\n",
       "      <td>KATY PERRY</td>\n",
       "      <td>katyperry</td>\n",
       "      <td>Love. Light.</td>\n",
       "      <td>https://t.co/Rrwt0Kj2Q7</td>\n",
       "      <td>2009-02-20 23:45:56 UTC</td>\n",
       "      <td>2009-02-20</td>\n",
       "      <td>23:45:56 UTC</td>\n",
       "      <td>11420</td>\n",
       "      <td>NaN</td>\n",
       "      <td>235</td>\n",
       "      <td>108819032</td>\n",
       "      <td>7995</td>\n",
       "      <td>2170</td>\n",
       "      <td>False</td>\n",
       "      <td>True</td>\n",
       "      <td>https://pbs.twimg.com/profile_images/139246535...</td>\n",
       "      <td>https://pbs.twimg.com/profile_banners/21447363...</td>\n",
       "    </tr>\n",
       "    <tr>\n",
       "      <th>3</th>\n",
       "      <td>14230524</td>\n",
       "      <td>Lady Gaga</td>\n",
       "      <td>ladygaga</td>\n",
       "      <td>“Chromatica” ⚔️💓 OUT NOW https://t.co/dgVb2x2V...</td>\n",
       "      <td>https://t.co/r5yRJxteLd</td>\n",
       "      <td>2008-03-26 22:37:48 UTC</td>\n",
       "      <td>2008-03-26</td>\n",
       "      <td>22:37:48 UTC</td>\n",
       "      <td>9519</td>\n",
       "      <td>NaN</td>\n",
       "      <td>119314</td>\n",
       "      <td>83675119</td>\n",
       "      <td>2310</td>\n",
       "      <td>1795</td>\n",
       "      <td>False</td>\n",
       "      <td>True</td>\n",
       "      <td>https://pbs.twimg.com/profile_images/142258922...</td>\n",
       "      <td>https://pbs.twimg.com/profile_banners/14230524...</td>\n",
       "    </tr>\n",
       "    <tr>\n",
       "      <th>4</th>\n",
       "      <td>16409683</td>\n",
       "      <td>Britney Spears</td>\n",
       "      <td>britneyspears</td>\n",
       "      <td>NaN</td>\n",
       "      <td>https://t.co/v9ZAAXrNtg</td>\n",
       "      <td>2008-09-22 20:47:35 UTC</td>\n",
       "      <td>2008-09-22</td>\n",
       "      <td>20:47:35 UTC</td>\n",
       "      <td>5716</td>\n",
       "      <td>Los Angeles, CA</td>\n",
       "      <td>367095</td>\n",
       "      <td>55569235</td>\n",
       "      <td>2539</td>\n",
       "      <td>1362</td>\n",
       "      <td>False</td>\n",
       "      <td>True</td>\n",
       "      <td>https://pbs.twimg.com/profile_images/132341880...</td>\n",
       "      <td>https://pbs.twimg.com/profile_banners/16409683...</td>\n",
       "    </tr>\n",
       "    <tr>\n",
       "      <th>...</th>\n",
       "      <td>...</td>\n",
       "      <td>...</td>\n",
       "      <td>...</td>\n",
       "      <td>...</td>\n",
       "      <td>...</td>\n",
       "      <td>...</td>\n",
       "      <td>...</td>\n",
       "      <td>...</td>\n",
       "      <td>...</td>\n",
       "      <td>...</td>\n",
       "      <td>...</td>\n",
       "      <td>...</td>\n",
       "      <td>...</td>\n",
       "      <td>...</td>\n",
       "      <td>...</td>\n",
       "      <td>...</td>\n",
       "      <td>...</td>\n",
       "      <td>...</td>\n",
       "    </tr>\n",
       "    <tr>\n",
       "      <th>1241</th>\n",
       "      <td>841211876776259585</td>\n",
       "      <td>عبدالله بن الحسين</td>\n",
       "      <td>KingAbdullahII</td>\n",
       "      <td>عبدالله بن الحسين، ملك المملكة الأردنية الهاشم...</td>\n",
       "      <td>https://t.co/BrXkntz3j2</td>\n",
       "      <td>2017-03-13 08:58:35 UTC</td>\n",
       "      <td>2017-03-13</td>\n",
       "      <td>08:58:35 UTC</td>\n",
       "      <td>188</td>\n",
       "      <td>Reino Hachemita de Jordania</td>\n",
       "      <td>0</td>\n",
       "      <td>2021450</td>\n",
       "      <td>0</td>\n",
       "      <td>50</td>\n",
       "      <td>False</td>\n",
       "      <td>True</td>\n",
       "      <td>https://pbs.twimg.com/profile_images/845985887...</td>\n",
       "      <td>https://pbs.twimg.com/profile_banners/84121187...</td>\n",
       "    </tr>\n",
       "    <tr>\n",
       "      <th>1242</th>\n",
       "      <td>109226167</td>\n",
       "      <td>Mevlüt Çavuşoğlu</td>\n",
       "      <td>MevlutCavusoglu</td>\n",
       "      <td>T.C. Dışişleri Bakanı / Minister of Foreign Af...</td>\n",
       "      <td>https://t.co/XfLchcygHX</td>\n",
       "      <td>2010-01-28 10:50:37 UTC</td>\n",
       "      <td>2010-01-28</td>\n",
       "      <td>10:50:37 UTC</td>\n",
       "      <td>21185</td>\n",
       "      <td>NaN</td>\n",
       "      <td>126</td>\n",
       "      <td>2011441</td>\n",
       "      <td>2314</td>\n",
       "      <td>11365</td>\n",
       "      <td>False</td>\n",
       "      <td>True</td>\n",
       "      <td>https://pbs.twimg.com/profile_images/118200880...</td>\n",
       "      <td>https://pbs.twimg.com/profile_banners/10922616...</td>\n",
       "    </tr>\n",
       "    <tr>\n",
       "      <th>1243</th>\n",
       "      <td>444465942</td>\n",
       "      <td>문재인</td>\n",
       "      <td>moonriver365</td>\n",
       "      <td>대한민국 대통령 문재인입니다. President of the Republic of ...</td>\n",
       "      <td>https://t.co/FAKWOwyhHd</td>\n",
       "      <td>2011-12-23 08:46:08 UTC</td>\n",
       "      <td>2011-12-23</td>\n",
       "      <td>08:46:08 UTC</td>\n",
       "      <td>4216</td>\n",
       "      <td>대한민국</td>\n",
       "      <td>141040</td>\n",
       "      <td>1869489</td>\n",
       "      <td>720</td>\n",
       "      <td>2003</td>\n",
       "      <td>False</td>\n",
       "      <td>True</td>\n",
       "      <td>https://pbs.twimg.com/profile_images/798463233...</td>\n",
       "      <td>https://pbs.twimg.com/profile_banners/44446594...</td>\n",
       "    </tr>\n",
       "    <tr>\n",
       "      <th>1244</th>\n",
       "      <td>17481977</td>\n",
       "      <td>GOV.UK</td>\n",
       "      <td>GOVUK</td>\n",
       "      <td>Official Twitter channel providing support for...</td>\n",
       "      <td>https://t.co/4KBh38vztU</td>\n",
       "      <td>2008-11-19 07:25:05 UTC</td>\n",
       "      <td>2008-11-19</td>\n",
       "      <td>07:25:05 UTC</td>\n",
       "      <td>19867</td>\n",
       "      <td>UK</td>\n",
       "      <td>680</td>\n",
       "      <td>1849529</td>\n",
       "      <td>152</td>\n",
       "      <td>869</td>\n",
       "      <td>False</td>\n",
       "      <td>True</td>\n",
       "      <td>https://pbs.twimg.com/profile_images/141050879...</td>\n",
       "      <td>https://pbs.twimg.com/profile_banners/17481977...</td>\n",
       "    </tr>\n",
       "    <tr>\n",
       "      <th>1245</th>\n",
       "      <td>247217109</td>\n",
       "      <td>Nana Akufo-Addo</td>\n",
       "      <td>NAkufoAddo</td>\n",
       "      <td>Official Twitter account of Nana Addo Dankwa A...</td>\n",
       "      <td>https://t.co/UjPxYDnTjR</td>\n",
       "      <td>2011-02-04 10:14:22 UTC</td>\n",
       "      <td>2011-02-04</td>\n",
       "      <td>10:14:22 UTC</td>\n",
       "      <td>7744</td>\n",
       "      <td>Ghana</td>\n",
       "      <td>352</td>\n",
       "      <td>2003463</td>\n",
       "      <td>338</td>\n",
       "      <td>1499</td>\n",
       "      <td>False</td>\n",
       "      <td>True</td>\n",
       "      <td>https://pbs.twimg.com/profile_images/817691975...</td>\n",
       "      <td>https://pbs.twimg.com/profile_banners/24721710...</td>\n",
       "    </tr>\n",
       "  </tbody>\n",
       "</table>\n",
       "<p>1246 rows × 18 columns</p>\n",
       "</div>"
      ],
      "text/plain": [
       "                      id               name         username  \\\n",
       "0              409486555     Michelle Obama    MichelleObama   \n",
       "1               19397785      Oprah Winfrey            Oprah   \n",
       "2               21447363         KATY PERRY        katyperry   \n",
       "3               14230524          Lady Gaga         ladygaga   \n",
       "4               16409683     Britney Spears    britneyspears   \n",
       "...                  ...                ...              ...   \n",
       "1241  841211876776259585  عبدالله بن الحسين   KingAbdullahII   \n",
       "1242           109226167   Mevlüt Çavuşoğlu  MevlutCavusoglu   \n",
       "1243           444465942                문재인     moonriver365   \n",
       "1244            17481977             GOV.UK            GOVUK   \n",
       "1245           247217109    Nana Akufo-Addo       NAkufoAddo   \n",
       "\n",
       "                                                    bio  \\\n",
       "0     Girl from the South Side and former First Lady...   \n",
       "1                                                   NaN   \n",
       "2                                          Love. Light.   \n",
       "3     “Chromatica” ⚔️💓 OUT NOW https://t.co/dgVb2x2V...   \n",
       "4                                                   NaN   \n",
       "...                                                 ...   \n",
       "1241  عبدالله بن الحسين، ملك المملكة الأردنية الهاشم...   \n",
       "1242  T.C. Dışişleri Bakanı / Minister of Foreign Af...   \n",
       "1243  대한민국 대통령 문재인입니다. President of the Republic of ...   \n",
       "1244  Official Twitter channel providing support for...   \n",
       "1245  Official Twitter account of Nana Addo Dankwa A...   \n",
       "\n",
       "                          url            join_datetime   join_date  \\\n",
       "0     https://t.co/HPYP9ad13Y  2011-11-10 20:13:01 UTC  2011-11-10   \n",
       "1     https://t.co/IKOnfAha8E  2009-01-23 15:18:34 UTC  2009-01-23   \n",
       "2     https://t.co/Rrwt0Kj2Q7  2009-02-20 23:45:56 UTC  2009-02-20   \n",
       "3     https://t.co/r5yRJxteLd  2008-03-26 22:37:48 UTC  2008-03-26   \n",
       "4     https://t.co/v9ZAAXrNtg  2008-09-22 20:47:35 UTC  2008-09-22   \n",
       "...                       ...                      ...         ...   \n",
       "1241  https://t.co/BrXkntz3j2  2017-03-13 08:58:35 UTC  2017-03-13   \n",
       "1242  https://t.co/XfLchcygHX  2010-01-28 10:50:37 UTC  2010-01-28   \n",
       "1243  https://t.co/FAKWOwyhHd  2011-12-23 08:46:08 UTC  2011-12-23   \n",
       "1244  https://t.co/4KBh38vztU  2008-11-19 07:25:05 UTC  2008-11-19   \n",
       "1245  https://t.co/UjPxYDnTjR  2011-02-04 10:14:22 UTC  2011-02-04   \n",
       "\n",
       "         join_time  tweets                     location  following  followers  \\\n",
       "0     20:13:01 UTC    1770               Washington, DC         16   20854298   \n",
       "1     15:18:34 UTC   13388                          NaN        323   43197469   \n",
       "2     23:45:56 UTC   11420                          NaN        235  108819032   \n",
       "3     22:37:48 UTC    9519                          NaN     119314   83675119   \n",
       "4     20:47:35 UTC    5716              Los Angeles, CA     367095   55569235   \n",
       "...            ...     ...                          ...        ...        ...   \n",
       "1241  08:58:35 UTC     188  Reino Hachemita de Jordania          0    2021450   \n",
       "1242  10:50:37 UTC   21185                          NaN        126    2011441   \n",
       "1243  08:46:08 UTC    4216                         대한민국     141040    1869489   \n",
       "1244  07:25:05 UTC   19867                           UK        680    1849529   \n",
       "1245  10:14:22 UTC    7744                        Ghana        352    2003463   \n",
       "\n",
       "      likes  media private verified  \\\n",
       "0       184    461   False     True   \n",
       "1       224    951   False     True   \n",
       "2      7995   2170   False     True   \n",
       "3      2310   1795   False     True   \n",
       "4      2539   1362   False     True   \n",
       "...     ...    ...     ...      ...   \n",
       "1241      0     50   False     True   \n",
       "1242   2314  11365   False     True   \n",
       "1243    720   2003   False     True   \n",
       "1244    152    869   False     True   \n",
       "1245    338   1499   False     True   \n",
       "\n",
       "                                                 avatar  \\\n",
       "0     https://pbs.twimg.com/profile_images/136674780...   \n",
       "1     https://pbs.twimg.com/profile_images/112335936...   \n",
       "2     https://pbs.twimg.com/profile_images/139246535...   \n",
       "3     https://pbs.twimg.com/profile_images/142258922...   \n",
       "4     https://pbs.twimg.com/profile_images/132341880...   \n",
       "...                                                 ...   \n",
       "1241  https://pbs.twimg.com/profile_images/845985887...   \n",
       "1242  https://pbs.twimg.com/profile_images/118200880...   \n",
       "1243  https://pbs.twimg.com/profile_images/798463233...   \n",
       "1244  https://pbs.twimg.com/profile_images/141050879...   \n",
       "1245  https://pbs.twimg.com/profile_images/817691975...   \n",
       "\n",
       "                                       background_image  \n",
       "0     https://pbs.twimg.com/profile_banners/40948655...  \n",
       "1     https://pbs.twimg.com/profile_banners/19397785...  \n",
       "2     https://pbs.twimg.com/profile_banners/21447363...  \n",
       "3     https://pbs.twimg.com/profile_banners/14230524...  \n",
       "4     https://pbs.twimg.com/profile_banners/16409683...  \n",
       "...                                                 ...  \n",
       "1241  https://pbs.twimg.com/profile_banners/84121187...  \n",
       "1242  https://pbs.twimg.com/profile_banners/10922616...  \n",
       "1243  https://pbs.twimg.com/profile_banners/44446594...  \n",
       "1244  https://pbs.twimg.com/profile_banners/17481977...  \n",
       "1245  https://pbs.twimg.com/profile_banners/24721710...  \n",
       "\n",
       "[1246 rows x 18 columns]"
      ]
     },
     "execution_count": 55,
     "metadata": {},
     "output_type": "execute_result"
    }
   ],
   "source": [
    "twitter_users = pd.read_csv(handles_file)\n",
    "twitter_users"
   ]
  },
  {
   "cell_type": "code",
   "execution_count": null,
   "id": "f4cf283f",
   "metadata": {},
   "outputs": [],
   "source": [
    "tweets = pd.read_csv(tweet_file)\n",
    "tweets"
   ]
  },
  {
   "cell_type": "markdown",
   "metadata": {},
   "source": [
    "Ahora si que parece mas interesante! Unas observaciones:\n",
    "\n",
    "* Como nuestro CSV tiene un formato bien hecho, todas las columnas se han cargado bien como esperamos - hay opciones para adaptar la carga a diferentes formatos\n",
    "* Cuando carga de un CSV solo infiere que columnas son `str`, `int` y `float`"
   ]
  },
  {
   "cell_type": "markdown",
   "metadata": {},
   "source": [
    "## Viendo los datos\n",
    "Es importante \"mirar\" los datos que tenemos para asegurar que todo tiene sentido. Lo mas comun es imprimir el data frame (como vamos haciendo) o utilizar `head` o `tail` para ver solo unas lineas. Visualizar las columnas es muy similar, simplemente tenemos que referirnos a la columna con el sintaxis standard. Podemos tambien seleccionar varias columnas a la vez."
   ]
  },
  {
   "cell_type": "code",
   "execution_count": 19,
   "metadata": {},
   "outputs": [
    {
     "data": {
      "text/html": [
       "<div>\n",
       "<style scoped>\n",
       "    .dataframe tbody tr th:only-of-type {\n",
       "        vertical-align: middle;\n",
       "    }\n",
       "\n",
       "    .dataframe tbody tr th {\n",
       "        vertical-align: top;\n",
       "    }\n",
       "\n",
       "    .dataframe thead th {\n",
       "        text-align: right;\n",
       "    }\n",
       "</style>\n",
       "<table border=\"1\" class=\"dataframe\">\n",
       "  <thead>\n",
       "    <tr style=\"text-align: right;\">\n",
       "      <th></th>\n",
       "      <th>id</th>\n",
       "      <th>name</th>\n",
       "      <th>username</th>\n",
       "      <th>bio</th>\n",
       "      <th>url</th>\n",
       "      <th>join_datetime</th>\n",
       "      <th>join_date</th>\n",
       "      <th>join_time</th>\n",
       "      <th>tweets</th>\n",
       "      <th>location</th>\n",
       "      <th>following</th>\n",
       "      <th>followers</th>\n",
       "      <th>likes</th>\n",
       "      <th>media</th>\n",
       "      <th>private</th>\n",
       "      <th>verified</th>\n",
       "      <th>avatar</th>\n",
       "      <th>background_image</th>\n",
       "    </tr>\n",
       "  </thead>\n",
       "  <tbody>\n",
       "    <tr>\n",
       "      <th>0</th>\n",
       "      <td>409486555</td>\n",
       "      <td>Michelle Obama</td>\n",
       "      <td>MichelleObama</td>\n",
       "      <td>Girl from the South Side and former First Lady...</td>\n",
       "      <td>https://t.co/HPYP9ad13Y</td>\n",
       "      <td>2011-11-10 20:13:01 UTC</td>\n",
       "      <td>2011-11-10</td>\n",
       "      <td>20:13:01 UTC</td>\n",
       "      <td>1770</td>\n",
       "      <td>Washington, DC</td>\n",
       "      <td>16</td>\n",
       "      <td>20854298</td>\n",
       "      <td>184</td>\n",
       "      <td>461</td>\n",
       "      <td>False</td>\n",
       "      <td>True</td>\n",
       "      <td>https://pbs.twimg.com/profile_images/136674780...</td>\n",
       "      <td>https://pbs.twimg.com/profile_banners/40948655...</td>\n",
       "    </tr>\n",
       "    <tr>\n",
       "      <th>1</th>\n",
       "      <td>19397785</td>\n",
       "      <td>Oprah Winfrey</td>\n",
       "      <td>Oprah</td>\n",
       "      <td>NaN</td>\n",
       "      <td>https://t.co/IKOnfAha8E</td>\n",
       "      <td>2009-01-23 15:18:34 UTC</td>\n",
       "      <td>2009-01-23</td>\n",
       "      <td>15:18:34 UTC</td>\n",
       "      <td>13388</td>\n",
       "      <td>NaN</td>\n",
       "      <td>323</td>\n",
       "      <td>43197469</td>\n",
       "      <td>224</td>\n",
       "      <td>951</td>\n",
       "      <td>False</td>\n",
       "      <td>True</td>\n",
       "      <td>https://pbs.twimg.com/profile_images/112335936...</td>\n",
       "      <td>https://pbs.twimg.com/profile_banners/19397785...</td>\n",
       "    </tr>\n",
       "    <tr>\n",
       "      <th>2</th>\n",
       "      <td>21447363</td>\n",
       "      <td>KATY PERRY</td>\n",
       "      <td>katyperry</td>\n",
       "      <td>Love. Light.</td>\n",
       "      <td>https://t.co/Rrwt0Kj2Q7</td>\n",
       "      <td>2009-02-20 23:45:56 UTC</td>\n",
       "      <td>2009-02-20</td>\n",
       "      <td>23:45:56 UTC</td>\n",
       "      <td>11420</td>\n",
       "      <td>NaN</td>\n",
       "      <td>235</td>\n",
       "      <td>108819032</td>\n",
       "      <td>7995</td>\n",
       "      <td>2170</td>\n",
       "      <td>False</td>\n",
       "      <td>True</td>\n",
       "      <td>https://pbs.twimg.com/profile_images/139246535...</td>\n",
       "      <td>https://pbs.twimg.com/profile_banners/21447363...</td>\n",
       "    </tr>\n",
       "    <tr>\n",
       "      <th>3</th>\n",
       "      <td>14230524</td>\n",
       "      <td>Lady Gaga</td>\n",
       "      <td>ladygaga</td>\n",
       "      <td>“Chromatica” ⚔️💓 OUT NOW https://t.co/dgVb2x2V...</td>\n",
       "      <td>https://t.co/r5yRJxteLd</td>\n",
       "      <td>2008-03-26 22:37:48 UTC</td>\n",
       "      <td>2008-03-26</td>\n",
       "      <td>22:37:48 UTC</td>\n",
       "      <td>9519</td>\n",
       "      <td>NaN</td>\n",
       "      <td>119314</td>\n",
       "      <td>83675119</td>\n",
       "      <td>2310</td>\n",
       "      <td>1795</td>\n",
       "      <td>False</td>\n",
       "      <td>True</td>\n",
       "      <td>https://pbs.twimg.com/profile_images/142258922...</td>\n",
       "      <td>https://pbs.twimg.com/profile_banners/14230524...</td>\n",
       "    </tr>\n",
       "    <tr>\n",
       "      <th>4</th>\n",
       "      <td>16409683</td>\n",
       "      <td>Britney Spears</td>\n",
       "      <td>britneyspears</td>\n",
       "      <td>NaN</td>\n",
       "      <td>https://t.co/v9ZAAXrNtg</td>\n",
       "      <td>2008-09-22 20:47:35 UTC</td>\n",
       "      <td>2008-09-22</td>\n",
       "      <td>20:47:35 UTC</td>\n",
       "      <td>5716</td>\n",
       "      <td>Los Angeles, CA</td>\n",
       "      <td>367095</td>\n",
       "      <td>55569235</td>\n",
       "      <td>2539</td>\n",
       "      <td>1362</td>\n",
       "      <td>False</td>\n",
       "      <td>True</td>\n",
       "      <td>https://pbs.twimg.com/profile_images/132341880...</td>\n",
       "      <td>https://pbs.twimg.com/profile_banners/16409683...</td>\n",
       "    </tr>\n",
       "  </tbody>\n",
       "</table>\n",
       "</div>"
      ],
      "text/plain": [
       "          id            name       username  \\\n",
       "0  409486555  Michelle Obama  MichelleObama   \n",
       "1   19397785   Oprah Winfrey          Oprah   \n",
       "2   21447363      KATY PERRY      katyperry   \n",
       "3   14230524       Lady Gaga       ladygaga   \n",
       "4   16409683  Britney Spears  britneyspears   \n",
       "\n",
       "                                                 bio                      url  \\\n",
       "0  Girl from the South Side and former First Lady...  https://t.co/HPYP9ad13Y   \n",
       "1                                                NaN  https://t.co/IKOnfAha8E   \n",
       "2                                       Love. Light.  https://t.co/Rrwt0Kj2Q7   \n",
       "3  “Chromatica” ⚔️💓 OUT NOW https://t.co/dgVb2x2V...  https://t.co/r5yRJxteLd   \n",
       "4                                                NaN  https://t.co/v9ZAAXrNtg   \n",
       "\n",
       "             join_datetime   join_date     join_time  tweets         location  \\\n",
       "0  2011-11-10 20:13:01 UTC  2011-11-10  20:13:01 UTC    1770   Washington, DC   \n",
       "1  2009-01-23 15:18:34 UTC  2009-01-23  15:18:34 UTC   13388              NaN   \n",
       "2  2009-02-20 23:45:56 UTC  2009-02-20  23:45:56 UTC   11420              NaN   \n",
       "3  2008-03-26 22:37:48 UTC  2008-03-26  22:37:48 UTC    9519              NaN   \n",
       "4  2008-09-22 20:47:35 UTC  2008-09-22  20:47:35 UTC    5716  Los Angeles, CA   \n",
       "\n",
       "   following  followers  likes  media private verified  \\\n",
       "0         16   20854298    184    461   False     True   \n",
       "1        323   43197469    224    951   False     True   \n",
       "2        235  108819032   7995   2170   False     True   \n",
       "3     119314   83675119   2310   1795   False     True   \n",
       "4     367095   55569235   2539   1362   False     True   \n",
       "\n",
       "                                              avatar  \\\n",
       "0  https://pbs.twimg.com/profile_images/136674780...   \n",
       "1  https://pbs.twimg.com/profile_images/112335936...   \n",
       "2  https://pbs.twimg.com/profile_images/139246535...   \n",
       "3  https://pbs.twimg.com/profile_images/142258922...   \n",
       "4  https://pbs.twimg.com/profile_images/132341880...   \n",
       "\n",
       "                                    background_image  \n",
       "0  https://pbs.twimg.com/profile_banners/40948655...  \n",
       "1  https://pbs.twimg.com/profile_banners/19397785...  \n",
       "2  https://pbs.twimg.com/profile_banners/21447363...  \n",
       "3  https://pbs.twimg.com/profile_banners/14230524...  \n",
       "4  https://pbs.twimg.com/profile_banners/16409683...  "
      ]
     },
     "execution_count": 19,
     "metadata": {},
     "output_type": "execute_result"
    }
   ],
   "source": [
    "twitter_users.head()"
   ]
  },
  {
   "cell_type": "code",
   "execution_count": 20,
   "metadata": {},
   "outputs": [
    {
     "data": {
      "text/plain": [
       "0          Michelle Obama\n",
       "1           Oprah Winfrey\n",
       "2              KATY PERRY\n",
       "3               Lady Gaga\n",
       "4          Britney Spears\n",
       "              ...        \n",
       "1241    عبدالله بن الحسين\n",
       "1242     Mevlüt Çavuşoğlu\n",
       "1243                  문재인\n",
       "1244               GOV.UK\n",
       "1245      Nana Akufo-Addo\n",
       "Name: name, Length: 1246, dtype: object"
      ]
     },
     "execution_count": 20,
     "metadata": {},
     "output_type": "execute_result"
    }
   ],
   "source": [
    "twitter_users.name"
   ]
  },
  {
   "cell_type": "code",
   "execution_count": 21,
   "metadata": {},
   "outputs": [
    {
     "data": {
      "text/plain": [
       "0          Michelle Obama\n",
       "1           Oprah Winfrey\n",
       "2              KATY PERRY\n",
       "3               Lady Gaga\n",
       "4          Britney Spears\n",
       "              ...        \n",
       "1241    عبدالله بن الحسين\n",
       "1242     Mevlüt Çavuşoğlu\n",
       "1243                  문재인\n",
       "1244               GOV.UK\n",
       "1245      Nana Akufo-Addo\n",
       "Name: name, Length: 1246, dtype: object"
      ]
     },
     "execution_count": 21,
     "metadata": {},
     "output_type": "execute_result"
    }
   ],
   "source": [
    "twitter_users['name']"
   ]
  },
  {
   "cell_type": "code",
   "execution_count": 22,
   "metadata": {},
   "outputs": [
    {
     "data": {
      "text/html": [
       "<div>\n",
       "<style scoped>\n",
       "    .dataframe tbody tr th:only-of-type {\n",
       "        vertical-align: middle;\n",
       "    }\n",
       "\n",
       "    .dataframe tbody tr th {\n",
       "        vertical-align: top;\n",
       "    }\n",
       "\n",
       "    .dataframe thead th {\n",
       "        text-align: right;\n",
       "    }\n",
       "</style>\n",
       "<table border=\"1\" class=\"dataframe\">\n",
       "  <thead>\n",
       "    <tr style=\"text-align: right;\">\n",
       "      <th></th>\n",
       "      <th>name</th>\n",
       "      <th>following</th>\n",
       "      <th>followers</th>\n",
       "    </tr>\n",
       "  </thead>\n",
       "  <tbody>\n",
       "    <tr>\n",
       "      <th>0</th>\n",
       "      <td>Michelle Obama</td>\n",
       "      <td>16</td>\n",
       "      <td>20854298</td>\n",
       "    </tr>\n",
       "    <tr>\n",
       "      <th>1</th>\n",
       "      <td>Oprah Winfrey</td>\n",
       "      <td>323</td>\n",
       "      <td>43197469</td>\n",
       "    </tr>\n",
       "    <tr>\n",
       "      <th>2</th>\n",
       "      <td>KATY PERRY</td>\n",
       "      <td>235</td>\n",
       "      <td>108819032</td>\n",
       "    </tr>\n",
       "    <tr>\n",
       "      <th>3</th>\n",
       "      <td>Lady Gaga</td>\n",
       "      <td>119314</td>\n",
       "      <td>83675119</td>\n",
       "    </tr>\n",
       "    <tr>\n",
       "      <th>4</th>\n",
       "      <td>Britney Spears</td>\n",
       "      <td>367095</td>\n",
       "      <td>55569235</td>\n",
       "    </tr>\n",
       "    <tr>\n",
       "      <th>...</th>\n",
       "      <td>...</td>\n",
       "      <td>...</td>\n",
       "      <td>...</td>\n",
       "    </tr>\n",
       "    <tr>\n",
       "      <th>1241</th>\n",
       "      <td>عبدالله بن الحسين</td>\n",
       "      <td>0</td>\n",
       "      <td>2021450</td>\n",
       "    </tr>\n",
       "    <tr>\n",
       "      <th>1242</th>\n",
       "      <td>Mevlüt Çavuşoğlu</td>\n",
       "      <td>126</td>\n",
       "      <td>2011441</td>\n",
       "    </tr>\n",
       "    <tr>\n",
       "      <th>1243</th>\n",
       "      <td>문재인</td>\n",
       "      <td>141040</td>\n",
       "      <td>1869489</td>\n",
       "    </tr>\n",
       "    <tr>\n",
       "      <th>1244</th>\n",
       "      <td>GOV.UK</td>\n",
       "      <td>680</td>\n",
       "      <td>1849529</td>\n",
       "    </tr>\n",
       "    <tr>\n",
       "      <th>1245</th>\n",
       "      <td>Nana Akufo-Addo</td>\n",
       "      <td>352</td>\n",
       "      <td>2003463</td>\n",
       "    </tr>\n",
       "  </tbody>\n",
       "</table>\n",
       "<p>1246 rows × 3 columns</p>\n",
       "</div>"
      ],
      "text/plain": [
       "                   name  following  followers\n",
       "0        Michelle Obama         16   20854298\n",
       "1         Oprah Winfrey        323   43197469\n",
       "2            KATY PERRY        235  108819032\n",
       "3             Lady Gaga     119314   83675119\n",
       "4        Britney Spears     367095   55569235\n",
       "...                 ...        ...        ...\n",
       "1241  عبدالله بن الحسين          0    2021450\n",
       "1242   Mevlüt Çavuşoğlu        126    2011441\n",
       "1243                문재인     141040    1869489\n",
       "1244             GOV.UK        680    1849529\n",
       "1245    Nana Akufo-Addo        352    2003463\n",
       "\n",
       "[1246 rows x 3 columns]"
      ]
     },
     "execution_count": 22,
     "metadata": {},
     "output_type": "execute_result"
    }
   ],
   "source": [
    "twitter_users[['name', 'following', 'followers']]"
   ]
  },
  {
   "cell_type": "markdown",
   "metadata": {},
   "source": [
    "## Tipos de columnas\n",
    "Las columnas siempre tienen un \"tipo\" y va un poco mas alla de los basicos de Python. Podemos ver que tipos tenemos utilizando `dtypes`"
   ]
  },
  {
   "cell_type": "code",
   "execution_count": 23,
   "metadata": {},
   "outputs": [
    {
     "data": {
      "text/plain": [
       "id                   int64\n",
       "name                object\n",
       "username            object\n",
       "bio                 object\n",
       "url                 object\n",
       "join_datetime       object\n",
       "join_date           object\n",
       "join_time           object\n",
       "tweets               int64\n",
       "location            object\n",
       "following            int64\n",
       "followers            int64\n",
       "likes                int64\n",
       "media                int64\n",
       "private             object\n",
       "verified            object\n",
       "avatar              object\n",
       "background_image    object\n",
       "dtype: object"
      ]
     },
     "execution_count": 23,
     "metadata": {},
     "output_type": "execute_result"
    }
   ],
   "source": [
    "twitter_users.dtypes"
   ]
  },
  {
   "cell_type": "markdown",
   "metadata": {},
   "source": [
    "Segun el tipo, diferentes operaciones hacen cosas distintas..."
   ]
  },
  {
   "cell_type": "code",
   "execution_count": 24,
   "metadata": {},
   "outputs": [
    {
     "data": {
      "text/plain": [
       "0        20854314\n",
       "1        43197792\n",
       "2       108819267\n",
       "3        83794433\n",
       "4        55936330\n",
       "          ...    \n",
       "1241      2021450\n",
       "1242      2011567\n",
       "1243      2010529\n",
       "1244      1850209\n",
       "1245      2003815\n",
       "Length: 1246, dtype: int64"
      ]
     },
     "execution_count": 24,
     "metadata": {},
     "output_type": "execute_result"
    }
   ],
   "source": [
    "twitter_users.followers + twitter_users.following"
   ]
  },
  {
   "cell_type": "code",
   "execution_count": 25,
   "metadata": {},
   "outputs": [
    {
     "data": {
      "text/plain": [
       "0       Michelle ObamaGirl from the South Side and for...\n",
       "1                                                     NaN\n",
       "2                                  KATY PERRYLove. Light.\n",
       "3       Lady Gaga“Chromatica” ⚔️💓 OUT NOW https://t.co...\n",
       "4                                                     NaN\n",
       "                              ...                        \n",
       "1241    عبدالله بن الحسينعبدالله بن الحسين، ملك المملك...\n",
       "1242    Mevlüt ÇavuşoğluT.C. Dışişleri Bakanı / Minist...\n",
       "1243    문재인대한민국 대통령 문재인입니다. President of the Republic ...\n",
       "1244    GOV.UKOfficial Twitter channel providing suppo...\n",
       "1245    Nana Akufo-AddoOfficial Twitter account of Nan...\n",
       "Length: 1246, dtype: object"
      ]
     },
     "execution_count": 25,
     "metadata": {},
     "output_type": "execute_result"
    }
   ],
   "source": [
    "twitter_users.name + twitter_users.bio"
   ]
  },
  {
   "cell_type": "markdown",
   "metadata": {},
   "source": [
    "Un tipo importante mencionar es la fecha, declaramos una fecha asi:"
   ]
  },
  {
   "cell_type": "code",
   "execution_count": 26,
   "metadata": {},
   "outputs": [
    {
     "data": {
      "text/plain": [
       "0      2011-11-10\n",
       "1      2009-01-23\n",
       "2      2009-02-20\n",
       "3      2008-03-26\n",
       "4      2008-09-22\n",
       "          ...    \n",
       "1241   2017-03-13\n",
       "1242   2010-01-28\n",
       "1243   2011-12-23\n",
       "1244   2008-11-19\n",
       "1245   2011-02-04\n",
       "Name: join_date, Length: 1246, dtype: datetime64[ns]"
      ]
     },
     "execution_count": 26,
     "metadata": {},
     "output_type": "execute_result"
    }
   ],
   "source": [
    "pd.to_datetime(twitter_users.join_date)"
   ]
  },
  {
   "cell_type": "code",
   "execution_count": 27,
   "metadata": {},
   "outputs": [
    {
     "data": {
      "text/plain": [
       "0       2011.0\n",
       "1       2009.0\n",
       "2       2009.0\n",
       "3       2008.0\n",
       "4       2008.0\n",
       "         ...  \n",
       "1241    2017.0\n",
       "1242    2010.0\n",
       "1243    2011.0\n",
       "1244    2008.0\n",
       "1245    2011.0\n",
       "Name: join_date, Length: 1246, dtype: float64"
      ]
     },
     "execution_count": 27,
     "metadata": {},
     "output_type": "execute_result"
    }
   ],
   "source": [
    "pd.to_datetime(twitter_users.join_date).dt.year"
   ]
  },
  {
   "cell_type": "markdown",
   "metadata": {},
   "source": [
    "## Seleccionando los datos\n",
    "Tenemos que poder seleccionar datos especificos. Hay 2 maneras comunes:\n",
    "\n",
    "* Seleccionar utilizando el index\n",
    "* Seleccionar utilizando una condicion / con un `bool`"
   ]
  },
  {
   "cell_type": "code",
   "execution_count": 28,
   "metadata": {},
   "outputs": [
    {
     "data": {
      "text/plain": [
       "id                                                           19397785\n",
       "name                                                    Oprah Winfrey\n",
       "username                                                        Oprah\n",
       "bio                                                               NaN\n",
       "url                                           https://t.co/IKOnfAha8E\n",
       "join_datetime                                 2009-01-23 15:18:34 UTC\n",
       "join_date                                                  2009-01-23\n",
       "join_time                                                15:18:34 UTC\n",
       "tweets                                                          13388\n",
       "location                                                          NaN\n",
       "following                                                         323\n",
       "followers                                                    43197469\n",
       "likes                                                             224\n",
       "media                                                             951\n",
       "private                                                         False\n",
       "verified                                                         True\n",
       "avatar              https://pbs.twimg.com/profile_images/112335936...\n",
       "background_image    https://pbs.twimg.com/profile_banners/19397785...\n",
       "Name: 1, dtype: object"
      ]
     },
     "execution_count": 28,
     "metadata": {},
     "output_type": "execute_result"
    }
   ],
   "source": [
    "# Seleccionar con el index\n",
    "twitter_users.loc[1]"
   ]
  },
  {
   "cell_type": "markdown",
   "metadata": {},
   "source": [
    "El otro caso comun es utilizar una condicion. Podemos comparar una columna contra un valor y nos devuelve algo que se llama una \"serie\" (como una lista o vector, pero especial de Pandas):"
   ]
  },
  {
   "cell_type": "code",
   "execution_count": 30,
   "metadata": {},
   "outputs": [
    {
     "data": {
      "text/plain": [
       "0       False\n",
       "1        True\n",
       "2       False\n",
       "3       False\n",
       "4       False\n",
       "        ...  \n",
       "1241    False\n",
       "1242    False\n",
       "1243    False\n",
       "1244    False\n",
       "1245    False\n",
       "Name: name, Length: 1246, dtype: bool"
      ]
     },
     "execution_count": 30,
     "metadata": {},
     "output_type": "execute_result"
    }
   ],
   "source": [
    "twitter_users.name == 'Oprah Winfrey'"
   ]
  },
  {
   "cell_type": "code",
   "execution_count": 36,
   "metadata": {},
   "outputs": [
    {
     "data": {
      "text/plain": [
       "0       False\n",
       "1       False\n",
       "2       False\n",
       "3        True\n",
       "4        True\n",
       "        ...  \n",
       "1241    False\n",
       "1242    False\n",
       "1243     True\n",
       "1244    False\n",
       "1245    False\n",
       "Name: following, Length: 1246, dtype: bool"
      ]
     },
     "execution_count": 36,
     "metadata": {},
     "output_type": "execute_result"
    }
   ],
   "source": [
    "twitter_users.following > 1000"
   ]
  },
  {
   "cell_type": "markdown",
   "metadata": {},
   "source": [
    "Con esto, podemos simplemente seleccionar las filas donde la comparativa es `True`"
   ]
  },
  {
   "cell_type": "code",
   "execution_count": 39,
   "metadata": {},
   "outputs": [
    {
     "data": {
      "text/html": [
       "<div>\n",
       "<style scoped>\n",
       "    .dataframe tbody tr th:only-of-type {\n",
       "        vertical-align: middle;\n",
       "    }\n",
       "\n",
       "    .dataframe tbody tr th {\n",
       "        vertical-align: top;\n",
       "    }\n",
       "\n",
       "    .dataframe thead th {\n",
       "        text-align: right;\n",
       "    }\n",
       "</style>\n",
       "<table border=\"1\" class=\"dataframe\">\n",
       "  <thead>\n",
       "    <tr style=\"text-align: right;\">\n",
       "      <th></th>\n",
       "      <th>id</th>\n",
       "      <th>name</th>\n",
       "      <th>username</th>\n",
       "      <th>bio</th>\n",
       "      <th>url</th>\n",
       "      <th>join_datetime</th>\n",
       "      <th>join_date</th>\n",
       "      <th>join_time</th>\n",
       "      <th>tweets</th>\n",
       "      <th>location</th>\n",
       "      <th>following</th>\n",
       "      <th>followers</th>\n",
       "      <th>likes</th>\n",
       "      <th>media</th>\n",
       "      <th>private</th>\n",
       "      <th>verified</th>\n",
       "      <th>avatar</th>\n",
       "      <th>background_image</th>\n",
       "    </tr>\n",
       "  </thead>\n",
       "  <tbody>\n",
       "    <tr>\n",
       "      <th>1</th>\n",
       "      <td>19397785</td>\n",
       "      <td>Oprah Winfrey</td>\n",
       "      <td>Oprah</td>\n",
       "      <td>NaN</td>\n",
       "      <td>https://t.co/IKOnfAha8E</td>\n",
       "      <td>2009-01-23 15:18:34 UTC</td>\n",
       "      <td>2009-01-23</td>\n",
       "      <td>15:18:34 UTC</td>\n",
       "      <td>13388</td>\n",
       "      <td>NaN</td>\n",
       "      <td>323</td>\n",
       "      <td>43197469</td>\n",
       "      <td>224</td>\n",
       "      <td>951</td>\n",
       "      <td>False</td>\n",
       "      <td>True</td>\n",
       "      <td>https://pbs.twimg.com/profile_images/112335936...</td>\n",
       "      <td>https://pbs.twimg.com/profile_banners/19397785...</td>\n",
       "    </tr>\n",
       "    <tr>\n",
       "      <th>136</th>\n",
       "      <td>19397785</td>\n",
       "      <td>Oprah Winfrey</td>\n",
       "      <td>Oprah</td>\n",
       "      <td>NaN</td>\n",
       "      <td>https://t.co/IKOnfAha8E</td>\n",
       "      <td>2009-01-23 15:18:34 UTC</td>\n",
       "      <td>2009-01-23</td>\n",
       "      <td>15:18:34 UTC</td>\n",
       "      <td>13388</td>\n",
       "      <td>NaN</td>\n",
       "      <td>323</td>\n",
       "      <td>43197473</td>\n",
       "      <td>224</td>\n",
       "      <td>951</td>\n",
       "      <td>False</td>\n",
       "      <td>True</td>\n",
       "      <td>https://pbs.twimg.com/profile_images/112335936...</td>\n",
       "      <td>https://pbs.twimg.com/profile_banners/19397785...</td>\n",
       "    </tr>\n",
       "  </tbody>\n",
       "</table>\n",
       "</div>"
      ],
      "text/plain": [
       "           id           name username  bio                      url  \\\n",
       "1    19397785  Oprah Winfrey    Oprah  NaN  https://t.co/IKOnfAha8E   \n",
       "136  19397785  Oprah Winfrey    Oprah  NaN  https://t.co/IKOnfAha8E   \n",
       "\n",
       "               join_datetime   join_date     join_time  tweets location  \\\n",
       "1    2009-01-23 15:18:34 UTC  2009-01-23  15:18:34 UTC   13388      NaN   \n",
       "136  2009-01-23 15:18:34 UTC  2009-01-23  15:18:34 UTC   13388      NaN   \n",
       "\n",
       "     following  followers  likes  media private verified  \\\n",
       "1          323   43197469    224    951   False     True   \n",
       "136        323   43197473    224    951   False     True   \n",
       "\n",
       "                                                avatar  \\\n",
       "1    https://pbs.twimg.com/profile_images/112335936...   \n",
       "136  https://pbs.twimg.com/profile_images/112335936...   \n",
       "\n",
       "                                      background_image  \n",
       "1    https://pbs.twimg.com/profile_banners/19397785...  \n",
       "136  https://pbs.twimg.com/profile_banners/19397785...  "
      ]
     },
     "execution_count": 39,
     "metadata": {},
     "output_type": "execute_result"
    }
   ],
   "source": [
    "twitter_users[twitter_users.name == 'Oprah Winfrey']"
   ]
  },
  {
   "cell_type": "code",
   "execution_count": 40,
   "metadata": {},
   "outputs": [
    {
     "data": {
      "text/html": [
       "<div>\n",
       "<style scoped>\n",
       "    .dataframe tbody tr th:only-of-type {\n",
       "        vertical-align: middle;\n",
       "    }\n",
       "\n",
       "    .dataframe tbody tr th {\n",
       "        vertical-align: top;\n",
       "    }\n",
       "\n",
       "    .dataframe thead th {\n",
       "        text-align: right;\n",
       "    }\n",
       "</style>\n",
       "<table border=\"1\" class=\"dataframe\">\n",
       "  <thead>\n",
       "    <tr style=\"text-align: right;\">\n",
       "      <th></th>\n",
       "      <th>id</th>\n",
       "      <th>name</th>\n",
       "      <th>username</th>\n",
       "      <th>bio</th>\n",
       "      <th>url</th>\n",
       "      <th>join_datetime</th>\n",
       "      <th>join_date</th>\n",
       "      <th>join_time</th>\n",
       "      <th>tweets</th>\n",
       "      <th>location</th>\n",
       "      <th>following</th>\n",
       "      <th>followers</th>\n",
       "      <th>likes</th>\n",
       "      <th>media</th>\n",
       "      <th>private</th>\n",
       "      <th>verified</th>\n",
       "      <th>avatar</th>\n",
       "      <th>background_image</th>\n",
       "    </tr>\n",
       "  </thead>\n",
       "  <tbody>\n",
       "    <tr>\n",
       "      <th>1</th>\n",
       "      <td>19397785</td>\n",
       "      <td>Oprah Winfrey</td>\n",
       "      <td>Oprah</td>\n",
       "      <td>NaN</td>\n",
       "      <td>https://t.co/IKOnfAha8E</td>\n",
       "      <td>2009-01-23 15:18:34 UTC</td>\n",
       "      <td>2009-01-23</td>\n",
       "      <td>15:18:34 UTC</td>\n",
       "      <td>13388</td>\n",
       "      <td>NaN</td>\n",
       "      <td>323</td>\n",
       "      <td>43197469</td>\n",
       "      <td>224</td>\n",
       "      <td>951</td>\n",
       "      <td>False</td>\n",
       "      <td>True</td>\n",
       "      <td>https://pbs.twimg.com/profile_images/112335936...</td>\n",
       "      <td>https://pbs.twimg.com/profile_banners/19397785...</td>\n",
       "    </tr>\n",
       "    <tr>\n",
       "      <th>136</th>\n",
       "      <td>19397785</td>\n",
       "      <td>Oprah Winfrey</td>\n",
       "      <td>Oprah</td>\n",
       "      <td>NaN</td>\n",
       "      <td>https://t.co/IKOnfAha8E</td>\n",
       "      <td>2009-01-23 15:18:34 UTC</td>\n",
       "      <td>2009-01-23</td>\n",
       "      <td>15:18:34 UTC</td>\n",
       "      <td>13388</td>\n",
       "      <td>NaN</td>\n",
       "      <td>323</td>\n",
       "      <td>43197473</td>\n",
       "      <td>224</td>\n",
       "      <td>951</td>\n",
       "      <td>False</td>\n",
       "      <td>True</td>\n",
       "      <td>https://pbs.twimg.com/profile_images/112335936...</td>\n",
       "      <td>https://pbs.twimg.com/profile_banners/19397785...</td>\n",
       "    </tr>\n",
       "  </tbody>\n",
       "</table>\n",
       "</div>"
      ],
      "text/plain": [
       "           id           name username  bio                      url  \\\n",
       "1    19397785  Oprah Winfrey    Oprah  NaN  https://t.co/IKOnfAha8E   \n",
       "136  19397785  Oprah Winfrey    Oprah  NaN  https://t.co/IKOnfAha8E   \n",
       "\n",
       "               join_datetime   join_date     join_time  tweets location  \\\n",
       "1    2009-01-23 15:18:34 UTC  2009-01-23  15:18:34 UTC   13388      NaN   \n",
       "136  2009-01-23 15:18:34 UTC  2009-01-23  15:18:34 UTC   13388      NaN   \n",
       "\n",
       "     following  followers  likes  media private verified  \\\n",
       "1          323   43197469    224    951   False     True   \n",
       "136        323   43197473    224    951   False     True   \n",
       "\n",
       "                                                avatar  \\\n",
       "1    https://pbs.twimg.com/profile_images/112335936...   \n",
       "136  https://pbs.twimg.com/profile_images/112335936...   \n",
       "\n",
       "                                      background_image  \n",
       "1    https://pbs.twimg.com/profile_banners/19397785...  \n",
       "136  https://pbs.twimg.com/profile_banners/19397785...  "
      ]
     },
     "execution_count": 40,
     "metadata": {},
     "output_type": "execute_result"
    }
   ],
   "source": [
    "twitter_users.loc[twitter_users.name == 'Oprah Winfrey']"
   ]
  },
  {
   "cell_type": "code",
   "execution_count": 38,
   "metadata": {},
   "outputs": [
    {
     "data": {
      "text/html": [
       "<div>\n",
       "<style scoped>\n",
       "    .dataframe tbody tr th:only-of-type {\n",
       "        vertical-align: middle;\n",
       "    }\n",
       "\n",
       "    .dataframe tbody tr th {\n",
       "        vertical-align: top;\n",
       "    }\n",
       "\n",
       "    .dataframe thead th {\n",
       "        text-align: right;\n",
       "    }\n",
       "</style>\n",
       "<table border=\"1\" class=\"dataframe\">\n",
       "  <thead>\n",
       "    <tr style=\"text-align: right;\">\n",
       "      <th></th>\n",
       "      <th>id</th>\n",
       "      <th>name</th>\n",
       "      <th>username</th>\n",
       "      <th>bio</th>\n",
       "      <th>url</th>\n",
       "      <th>join_datetime</th>\n",
       "      <th>join_date</th>\n",
       "      <th>join_time</th>\n",
       "      <th>tweets</th>\n",
       "      <th>location</th>\n",
       "      <th>following</th>\n",
       "      <th>followers</th>\n",
       "      <th>likes</th>\n",
       "      <th>media</th>\n",
       "      <th>private</th>\n",
       "      <th>verified</th>\n",
       "      <th>avatar</th>\n",
       "      <th>background_image</th>\n",
       "    </tr>\n",
       "  </thead>\n",
       "  <tbody>\n",
       "    <tr>\n",
       "      <th>3</th>\n",
       "      <td>14230524</td>\n",
       "      <td>Lady Gaga</td>\n",
       "      <td>ladygaga</td>\n",
       "      <td>“Chromatica” ⚔️💓 OUT NOW https://t.co/dgVb2x2V...</td>\n",
       "      <td>https://t.co/r5yRJxteLd</td>\n",
       "      <td>2008-03-26 22:37:48 UTC</td>\n",
       "      <td>2008-03-26</td>\n",
       "      <td>22:37:48 UTC</td>\n",
       "      <td>9519</td>\n",
       "      <td>NaN</td>\n",
       "      <td>119314</td>\n",
       "      <td>83675119</td>\n",
       "      <td>2310</td>\n",
       "      <td>1795</td>\n",
       "      <td>False</td>\n",
       "      <td>True</td>\n",
       "      <td>https://pbs.twimg.com/profile_images/142258922...</td>\n",
       "      <td>https://pbs.twimg.com/profile_banners/14230524...</td>\n",
       "    </tr>\n",
       "    <tr>\n",
       "      <th>4</th>\n",
       "      <td>16409683</td>\n",
       "      <td>Britney Spears</td>\n",
       "      <td>britneyspears</td>\n",
       "      <td>NaN</td>\n",
       "      <td>https://t.co/v9ZAAXrNtg</td>\n",
       "      <td>2008-09-22 20:47:35 UTC</td>\n",
       "      <td>2008-09-22</td>\n",
       "      <td>20:47:35 UTC</td>\n",
       "      <td>5716</td>\n",
       "      <td>Los Angeles, CA</td>\n",
       "      <td>367095</td>\n",
       "      <td>55569235</td>\n",
       "      <td>2539</td>\n",
       "      <td>1362</td>\n",
       "      <td>False</td>\n",
       "      <td>True</td>\n",
       "      <td>https://pbs.twimg.com/profile_images/132341880...</td>\n",
       "      <td>https://pbs.twimg.com/profile_banners/16409683...</td>\n",
       "    </tr>\n",
       "    <tr>\n",
       "      <th>6</th>\n",
       "      <td>35787166</td>\n",
       "      <td>Nicki Minaj</td>\n",
       "      <td>NICKIMINAJ</td>\n",
       "      <td>prolly your obsession</td>\n",
       "      <td>NaN</td>\n",
       "      <td>2009-04-27 16:36:43 UTC</td>\n",
       "      <td>2009-04-27</td>\n",
       "      <td>16:36:43 UTC</td>\n",
       "      <td>42231</td>\n",
       "      <td>Queendom</td>\n",
       "      <td>5767</td>\n",
       "      <td>22418403</td>\n",
       "      <td>88497</td>\n",
       "      <td>3149</td>\n",
       "      <td>False</td>\n",
       "      <td>True</td>\n",
       "      <td>https://pbs.twimg.com/profile_images/139535431...</td>\n",
       "      <td>https://pbs.twimg.com/profile_banners/35787166...</td>\n",
       "    </tr>\n",
       "    <tr>\n",
       "      <th>9</th>\n",
       "      <td>34507480</td>\n",
       "      <td>Ariana Grande</td>\n",
       "      <td>ArianaGrande</td>\n",
       "      <td>positions</td>\n",
       "      <td>https://t.co/WHnIWWi55D</td>\n",
       "      <td>2009-04-23 02:56:31 UTC</td>\n",
       "      <td>2009-04-23</td>\n",
       "      <td>02:56:31 UTC</td>\n",
       "      <td>46950</td>\n",
       "      <td>ǝʌɐ uooɯʎǝuoɥ</td>\n",
       "      <td>55953</td>\n",
       "      <td>83945661</td>\n",
       "      <td>43968</td>\n",
       "      <td>3936</td>\n",
       "      <td>False</td>\n",
       "      <td>True</td>\n",
       "      <td>https://pbs.twimg.com/profile_images/134830613...</td>\n",
       "      <td>https://pbs.twimg.com/profile_banners/34507480...</td>\n",
       "    </tr>\n",
       "    <tr>\n",
       "      <th>10</th>\n",
       "      <td>27260086</td>\n",
       "      <td>Justin Bieber</td>\n",
       "      <td>justinbieber</td>\n",
       "      <td>JUSTICE the album out now</td>\n",
       "      <td>https://t.co/kobIXw8MJn</td>\n",
       "      <td>2009-03-28 16:41:22 UTC</td>\n",
       "      <td>2009-03-28</td>\n",
       "      <td>16:41:22 UTC</td>\n",
       "      <td>31363</td>\n",
       "      <td>The 6</td>\n",
       "      <td>287772</td>\n",
       "      <td>113927565</td>\n",
       "      <td>4600</td>\n",
       "      <td>2741</td>\n",
       "      <td>False</td>\n",
       "      <td>True</td>\n",
       "      <td>https://pbs.twimg.com/profile_images/136534628...</td>\n",
       "      <td>https://pbs.twimg.com/profile_banners/27260086...</td>\n",
       "    </tr>\n",
       "    <tr>\n",
       "      <th>...</th>\n",
       "      <td>...</td>\n",
       "      <td>...</td>\n",
       "      <td>...</td>\n",
       "      <td>...</td>\n",
       "      <td>...</td>\n",
       "      <td>...</td>\n",
       "      <td>...</td>\n",
       "      <td>...</td>\n",
       "      <td>...</td>\n",
       "      <td>...</td>\n",
       "      <td>...</td>\n",
       "      <td>...</td>\n",
       "      <td>...</td>\n",
       "      <td>...</td>\n",
       "      <td>...</td>\n",
       "      <td>...</td>\n",
       "      <td>...</td>\n",
       "      <td>...</td>\n",
       "    </tr>\n",
       "    <tr>\n",
       "      <th>1230</th>\n",
       "      <td>13623532</td>\n",
       "      <td>Sebastian Piñera</td>\n",
       "      <td>sebastianpinera</td>\n",
       "      <td>Presidente de la República de Chile. Junto a @...</td>\n",
       "      <td>https://t.co/9dlxS7gNp6</td>\n",
       "      <td>2008-02-18 13:59:12 UTC</td>\n",
       "      <td>2008-02-18</td>\n",
       "      <td>13:59:12 UTC</td>\n",
       "      <td>4548</td>\n",
       "      <td>Chile</td>\n",
       "      <td>19665</td>\n",
       "      <td>2494733</td>\n",
       "      <td>2604</td>\n",
       "      <td>1145</td>\n",
       "      <td>False</td>\n",
       "      <td>True</td>\n",
       "      <td>https://pbs.twimg.com/profile_images/130047072...</td>\n",
       "      <td>https://pbs.twimg.com/profile_banners/13623532...</td>\n",
       "    </tr>\n",
       "    <tr>\n",
       "      <th>1236</th>\n",
       "      <td>77653794</td>\n",
       "      <td>Iván Duque 🇨🇴</td>\n",
       "      <td>IvanDuque</td>\n",
       "      <td>Presidente de la República de Colombia 🇨🇴 2018...</td>\n",
       "      <td>https://t.co/dgU6HaTLWV</td>\n",
       "      <td>2009-09-27 03:53:46 UTC</td>\n",
       "      <td>2009-09-27</td>\n",
       "      <td>03:53:46 UTC</td>\n",
       "      <td>31765</td>\n",
       "      <td>NaN</td>\n",
       "      <td>1767</td>\n",
       "      <td>2335978</td>\n",
       "      <td>1133</td>\n",
       "      <td>12514</td>\n",
       "      <td>False</td>\n",
       "      <td>True</td>\n",
       "      <td>https://pbs.twimg.com/profile_images/136713235...</td>\n",
       "      <td>https://pbs.twimg.com/profile_banners/77653794...</td>\n",
       "    </tr>\n",
       "    <tr>\n",
       "      <th>1238</th>\n",
       "      <td>64798737</td>\n",
       "      <td>Marcelo Ebrard C.</td>\n",
       "      <td>m_ebrard</td>\n",
       "      <td>Secretario de Relaciones Exteriores de México</td>\n",
       "      <td>NaN</td>\n",
       "      <td>2009-08-11 19:31:27 UTC</td>\n",
       "      <td>2009-08-11</td>\n",
       "      <td>19:31:27 UTC</td>\n",
       "      <td>12195</td>\n",
       "      <td>Ciudad de México</td>\n",
       "      <td>1307</td>\n",
       "      <td>2178950</td>\n",
       "      <td>2680</td>\n",
       "      <td>1260</td>\n",
       "      <td>False</td>\n",
       "      <td>True</td>\n",
       "      <td>https://pbs.twimg.com/profile_images/112442922...</td>\n",
       "      <td>https://pbs.twimg.com/profile_banners/64798737...</td>\n",
       "    </tr>\n",
       "    <tr>\n",
       "      <th>1239</th>\n",
       "      <td>149991703</td>\n",
       "      <td>Alberto Fernández</td>\n",
       "      <td>alferdez</td>\n",
       "      <td>Abogado. Profesor de Derecho Penal (UBA). Hinc...</td>\n",
       "      <td>https://t.co/1FuikS9nVQ</td>\n",
       "      <td>2010-05-30 19:38:40 UTC</td>\n",
       "      <td>2010-05-30</td>\n",
       "      <td>19:38:40 UTC</td>\n",
       "      <td>29026</td>\n",
       "      <td>Buenos Aires</td>\n",
       "      <td>7203</td>\n",
       "      <td>2113784</td>\n",
       "      <td>8057</td>\n",
       "      <td>2109</td>\n",
       "      <td>False</td>\n",
       "      <td>True</td>\n",
       "      <td>https://pbs.twimg.com/profile_images/119214978...</td>\n",
       "      <td>https://pbs.twimg.com/profile_banners/14999170...</td>\n",
       "    </tr>\n",
       "    <tr>\n",
       "      <th>1243</th>\n",
       "      <td>444465942</td>\n",
       "      <td>문재인</td>\n",
       "      <td>moonriver365</td>\n",
       "      <td>대한민국 대통령 문재인입니다. President of the Republic of ...</td>\n",
       "      <td>https://t.co/FAKWOwyhHd</td>\n",
       "      <td>2011-12-23 08:46:08 UTC</td>\n",
       "      <td>2011-12-23</td>\n",
       "      <td>08:46:08 UTC</td>\n",
       "      <td>4216</td>\n",
       "      <td>대한민국</td>\n",
       "      <td>141040</td>\n",
       "      <td>1869489</td>\n",
       "      <td>720</td>\n",
       "      <td>2003</td>\n",
       "      <td>False</td>\n",
       "      <td>True</td>\n",
       "      <td>https://pbs.twimg.com/profile_images/798463233...</td>\n",
       "      <td>https://pbs.twimg.com/profile_banners/44446594...</td>\n",
       "    </tr>\n",
       "  </tbody>\n",
       "</table>\n",
       "<p>355 rows × 18 columns</p>\n",
       "</div>"
      ],
      "text/plain": [
       "             id               name         username  \\\n",
       "3      14230524          Lady Gaga         ladygaga   \n",
       "4      16409683     Britney Spears    britneyspears   \n",
       "6      35787166        Nicki Minaj       NICKIMINAJ   \n",
       "9      34507480      Ariana Grande     ArianaGrande   \n",
       "10     27260086      Justin Bieber     justinbieber   \n",
       "...         ...                ...              ...   \n",
       "1230   13623532   Sebastian Piñera  sebastianpinera   \n",
       "1236   77653794      Iván Duque 🇨🇴        IvanDuque   \n",
       "1238   64798737  Marcelo Ebrard C.         m_ebrard   \n",
       "1239  149991703  Alberto Fernández         alferdez   \n",
       "1243  444465942                문재인     moonriver365   \n",
       "\n",
       "                                                    bio  \\\n",
       "3     “Chromatica” ⚔️💓 OUT NOW https://t.co/dgVb2x2V...   \n",
       "4                                                   NaN   \n",
       "6                                 prolly your obsession   \n",
       "9                                             positions   \n",
       "10                            JUSTICE the album out now   \n",
       "...                                                 ...   \n",
       "1230  Presidente de la República de Chile. Junto a @...   \n",
       "1236  Presidente de la República de Colombia 🇨🇴 2018...   \n",
       "1238      Secretario de Relaciones Exteriores de México   \n",
       "1239  Abogado. Profesor de Derecho Penal (UBA). Hinc...   \n",
       "1243  대한민국 대통령 문재인입니다. President of the Republic of ...   \n",
       "\n",
       "                          url            join_datetime   join_date  \\\n",
       "3     https://t.co/r5yRJxteLd  2008-03-26 22:37:48 UTC  2008-03-26   \n",
       "4     https://t.co/v9ZAAXrNtg  2008-09-22 20:47:35 UTC  2008-09-22   \n",
       "6                         NaN  2009-04-27 16:36:43 UTC  2009-04-27   \n",
       "9     https://t.co/WHnIWWi55D  2009-04-23 02:56:31 UTC  2009-04-23   \n",
       "10    https://t.co/kobIXw8MJn  2009-03-28 16:41:22 UTC  2009-03-28   \n",
       "...                       ...                      ...         ...   \n",
       "1230  https://t.co/9dlxS7gNp6  2008-02-18 13:59:12 UTC  2008-02-18   \n",
       "1236  https://t.co/dgU6HaTLWV  2009-09-27 03:53:46 UTC  2009-09-27   \n",
       "1238                      NaN  2009-08-11 19:31:27 UTC  2009-08-11   \n",
       "1239  https://t.co/1FuikS9nVQ  2010-05-30 19:38:40 UTC  2010-05-30   \n",
       "1243  https://t.co/FAKWOwyhHd  2011-12-23 08:46:08 UTC  2011-12-23   \n",
       "\n",
       "         join_time  tweets          location  following  followers  likes  \\\n",
       "3     22:37:48 UTC    9519               NaN     119314   83675119   2310   \n",
       "4     20:47:35 UTC    5716   Los Angeles, CA     367095   55569235   2539   \n",
       "6     16:36:43 UTC   42231          Queendom       5767   22418403  88497   \n",
       "9     02:56:31 UTC   46950     ǝʌɐ uooɯʎǝuoɥ      55953   83945661  43968   \n",
       "10    16:41:22 UTC   31363             The 6     287772  113927565   4600   \n",
       "...            ...     ...               ...        ...        ...    ...   \n",
       "1230  13:59:12 UTC    4548             Chile      19665    2494733   2604   \n",
       "1236  03:53:46 UTC   31765               NaN       1767    2335978   1133   \n",
       "1238  19:31:27 UTC   12195  Ciudad de México       1307    2178950   2680   \n",
       "1239  19:38:40 UTC   29026      Buenos Aires       7203    2113784   8057   \n",
       "1243  08:46:08 UTC    4216              대한민국     141040    1869489    720   \n",
       "\n",
       "      media private verified  \\\n",
       "3      1795   False     True   \n",
       "4      1362   False     True   \n",
       "6      3149   False     True   \n",
       "9      3936   False     True   \n",
       "10     2741   False     True   \n",
       "...     ...     ...      ...   \n",
       "1230   1145   False     True   \n",
       "1236  12514   False     True   \n",
       "1238   1260   False     True   \n",
       "1239   2109   False     True   \n",
       "1243   2003   False     True   \n",
       "\n",
       "                                                 avatar  \\\n",
       "3     https://pbs.twimg.com/profile_images/142258922...   \n",
       "4     https://pbs.twimg.com/profile_images/132341880...   \n",
       "6     https://pbs.twimg.com/profile_images/139535431...   \n",
       "9     https://pbs.twimg.com/profile_images/134830613...   \n",
       "10    https://pbs.twimg.com/profile_images/136534628...   \n",
       "...                                                 ...   \n",
       "1230  https://pbs.twimg.com/profile_images/130047072...   \n",
       "1236  https://pbs.twimg.com/profile_images/136713235...   \n",
       "1238  https://pbs.twimg.com/profile_images/112442922...   \n",
       "1239  https://pbs.twimg.com/profile_images/119214978...   \n",
       "1243  https://pbs.twimg.com/profile_images/798463233...   \n",
       "\n",
       "                                       background_image  \n",
       "3     https://pbs.twimg.com/profile_banners/14230524...  \n",
       "4     https://pbs.twimg.com/profile_banners/16409683...  \n",
       "6     https://pbs.twimg.com/profile_banners/35787166...  \n",
       "9     https://pbs.twimg.com/profile_banners/34507480...  \n",
       "10    https://pbs.twimg.com/profile_banners/27260086...  \n",
       "...                                                 ...  \n",
       "1230  https://pbs.twimg.com/profile_banners/13623532...  \n",
       "1236  https://pbs.twimg.com/profile_banners/77653794...  \n",
       "1238  https://pbs.twimg.com/profile_banners/64798737...  \n",
       "1239  https://pbs.twimg.com/profile_banners/14999170...  \n",
       "1243  https://pbs.twimg.com/profile_banners/44446594...  \n",
       "\n",
       "[355 rows x 18 columns]"
      ]
     },
     "execution_count": 38,
     "metadata": {},
     "output_type": "execute_result"
    }
   ],
   "source": [
    "twitter_users[twitter_users.following > 1000]"
   ]
  },
  {
   "cell_type": "markdown",
   "metadata": {},
   "source": [
    "Y si queremos tambien seleccionar una columna (o columnas), hacemos esto con `loc` asi"
   ]
  },
  {
   "cell_type": "code",
   "execution_count": 42,
   "metadata": {},
   "outputs": [
    {
     "data": {
      "text/html": [
       "<div>\n",
       "<style scoped>\n",
       "    .dataframe tbody tr th:only-of-type {\n",
       "        vertical-align: middle;\n",
       "    }\n",
       "\n",
       "    .dataframe tbody tr th {\n",
       "        vertical-align: top;\n",
       "    }\n",
       "\n",
       "    .dataframe thead th {\n",
       "        text-align: right;\n",
       "    }\n",
       "</style>\n",
       "<table border=\"1\" class=\"dataframe\">\n",
       "  <thead>\n",
       "    <tr style=\"text-align: right;\">\n",
       "      <th></th>\n",
       "      <th>username</th>\n",
       "      <th>followers</th>\n",
       "    </tr>\n",
       "  </thead>\n",
       "  <tbody>\n",
       "    <tr>\n",
       "      <th>1</th>\n",
       "      <td>Oprah</td>\n",
       "      <td>43197469</td>\n",
       "    </tr>\n",
       "    <tr>\n",
       "      <th>136</th>\n",
       "      <td>Oprah</td>\n",
       "      <td>43197473</td>\n",
       "    </tr>\n",
       "  </tbody>\n",
       "</table>\n",
       "</div>"
      ],
      "text/plain": [
       "    username  followers\n",
       "1      Oprah   43197469\n",
       "136    Oprah   43197473"
      ]
     },
     "execution_count": 42,
     "metadata": {},
     "output_type": "execute_result"
    }
   ],
   "source": [
    "twitter_users.loc[twitter_users.name == 'Oprah Winfrey', ['username', 'followers']]"
   ]
  },
  {
   "cell_type": "markdown",
   "metadata": {},
   "source": [
    "### El index: lo bueno, lo malo, y lo feo...\n",
    "Para su funcionamiento correcto, Pandas invento un concepto que se llama el \"index\". El index es un identificador de una fila que permite seleccionar esta fila o hasta \"unificar\" datos separados haciendo un \"join\" implicito utilizando este index."
   ]
  },
  {
   "cell_type": "code",
   "execution_count": 57,
   "metadata": {},
   "outputs": [
    {
     "data": {
      "text/html": [
       "<div>\n",
       "<style scoped>\n",
       "    .dataframe tbody tr th:only-of-type {\n",
       "        vertical-align: middle;\n",
       "    }\n",
       "\n",
       "    .dataframe tbody tr th {\n",
       "        vertical-align: top;\n",
       "    }\n",
       "\n",
       "    .dataframe thead th {\n",
       "        text-align: right;\n",
       "    }\n",
       "</style>\n",
       "<table border=\"1\" class=\"dataframe\">\n",
       "  <thead>\n",
       "    <tr style=\"text-align: right;\">\n",
       "      <th></th>\n",
       "      <th>id</th>\n",
       "      <th>name</th>\n",
       "      <th>username</th>\n",
       "      <th>bio</th>\n",
       "      <th>url</th>\n",
       "      <th>join_datetime</th>\n",
       "      <th>join_date</th>\n",
       "      <th>join_time</th>\n",
       "      <th>tweets</th>\n",
       "      <th>location</th>\n",
       "      <th>following</th>\n",
       "      <th>followers</th>\n",
       "      <th>likes</th>\n",
       "      <th>media</th>\n",
       "      <th>private</th>\n",
       "      <th>verified</th>\n",
       "      <th>avatar</th>\n",
       "      <th>background_image</th>\n",
       "    </tr>\n",
       "  </thead>\n",
       "  <tbody>\n",
       "    <tr>\n",
       "      <th>5</th>\n",
       "      <td>26565946</td>\n",
       "      <td>Justin Timberlake</td>\n",
       "      <td>jtimberlake</td>\n",
       "      <td>NaN</td>\n",
       "      <td>https://t.co/ZihLAQPPzw</td>\n",
       "      <td>2009-03-25 19:10:50 UTC</td>\n",
       "      <td>2009-03-25</td>\n",
       "      <td>19:10:50 UTC</td>\n",
       "      <td>4329</td>\n",
       "      <td>Memphis, TN</td>\n",
       "      <td>324</td>\n",
       "      <td>63446026</td>\n",
       "      <td>1066</td>\n",
       "      <td>622</td>\n",
       "      <td>False</td>\n",
       "      <td>True</td>\n",
       "      <td>https://pbs.twimg.com/profile_images/123209623...</td>\n",
       "      <td>https://pbs.twimg.com/profile_banners/26565946...</td>\n",
       "    </tr>\n",
       "    <tr>\n",
       "      <th>6</th>\n",
       "      <td>35787166</td>\n",
       "      <td>Nicki Minaj</td>\n",
       "      <td>NICKIMINAJ</td>\n",
       "      <td>prolly your obsession</td>\n",
       "      <td>NaN</td>\n",
       "      <td>2009-04-27 16:36:43 UTC</td>\n",
       "      <td>2009-04-27</td>\n",
       "      <td>16:36:43 UTC</td>\n",
       "      <td>42231</td>\n",
       "      <td>Queendom</td>\n",
       "      <td>5767</td>\n",
       "      <td>22418403</td>\n",
       "      <td>88497</td>\n",
       "      <td>3149</td>\n",
       "      <td>False</td>\n",
       "      <td>True</td>\n",
       "      <td>https://pbs.twimg.com/profile_images/139535431...</td>\n",
       "      <td>https://pbs.twimg.com/profile_banners/35787166...</td>\n",
       "    </tr>\n",
       "    <tr>\n",
       "      <th>7</th>\n",
       "      <td>19248106</td>\n",
       "      <td>Mariah Carey</td>\n",
       "      <td>MariahCarey</td>\n",
       "      <td>My memoir The Meaning of Mariah Carey is in st...</td>\n",
       "      <td>https://t.co/k2HuraD7lN</td>\n",
       "      <td>2009-01-20 18:08:51 UTC</td>\n",
       "      <td>2009-01-20</td>\n",
       "      <td>18:08:51 UTC</td>\n",
       "      <td>10252</td>\n",
       "      <td>Citizen of the World Dahhhling</td>\n",
       "      <td>188</td>\n",
       "      <td>21612341</td>\n",
       "      <td>4346</td>\n",
       "      <td>2504</td>\n",
       "      <td>False</td>\n",
       "      <td>True</td>\n",
       "      <td>https://pbs.twimg.com/profile_images/134656973...</td>\n",
       "      <td>https://pbs.twimg.com/profile_banners/19248106...</td>\n",
       "    </tr>\n",
       "    <tr>\n",
       "      <th>8</th>\n",
       "      <td>28706024</td>\n",
       "      <td>P!nk</td>\n",
       "      <td>Pink</td>\n",
       "      <td>it's all happening</td>\n",
       "      <td>https://t.co/jOQtIkWZKG</td>\n",
       "      <td>2009-04-04 01:16:34 UTC</td>\n",
       "      <td>2009-04-04</td>\n",
       "      <td>01:16:34 UTC</td>\n",
       "      <td>8070</td>\n",
       "      <td>los angeles</td>\n",
       "      <td>467</td>\n",
       "      <td>31648347</td>\n",
       "      <td>865</td>\n",
       "      <td>830</td>\n",
       "      <td>False</td>\n",
       "      <td>True</td>\n",
       "      <td>https://pbs.twimg.com/profile_images/138777139...</td>\n",
       "      <td>https://pbs.twimg.com/profile_banners/28706024...</td>\n",
       "    </tr>\n",
       "    <tr>\n",
       "      <th>9</th>\n",
       "      <td>34507480</td>\n",
       "      <td>Ariana Grande</td>\n",
       "      <td>ArianaGrande</td>\n",
       "      <td>positions</td>\n",
       "      <td>https://t.co/WHnIWWi55D</td>\n",
       "      <td>2009-04-23 02:56:31 UTC</td>\n",
       "      <td>2009-04-23</td>\n",
       "      <td>02:56:31 UTC</td>\n",
       "      <td>46950</td>\n",
       "      <td>ǝʌɐ uooɯʎǝuoɥ</td>\n",
       "      <td>55953</td>\n",
       "      <td>83945661</td>\n",
       "      <td>43968</td>\n",
       "      <td>3936</td>\n",
       "      <td>False</td>\n",
       "      <td>True</td>\n",
       "      <td>https://pbs.twimg.com/profile_images/134830613...</td>\n",
       "      <td>https://pbs.twimg.com/profile_banners/34507480...</td>\n",
       "    </tr>\n",
       "  </tbody>\n",
       "</table>\n",
       "</div>"
      ],
      "text/plain": [
       "         id               name      username  \\\n",
       "5  26565946  Justin Timberlake   jtimberlake   \n",
       "6  35787166        Nicki Minaj    NICKIMINAJ   \n",
       "7  19248106       Mariah Carey   MariahCarey   \n",
       "8  28706024               P!nk          Pink   \n",
       "9  34507480      Ariana Grande  ArianaGrande   \n",
       "\n",
       "                                                 bio                      url  \\\n",
       "5                                                NaN  https://t.co/ZihLAQPPzw   \n",
       "6                              prolly your obsession                      NaN   \n",
       "7  My memoir The Meaning of Mariah Carey is in st...  https://t.co/k2HuraD7lN   \n",
       "8                                 it's all happening  https://t.co/jOQtIkWZKG   \n",
       "9                                          positions  https://t.co/WHnIWWi55D   \n",
       "\n",
       "             join_datetime   join_date     join_time  tweets  \\\n",
       "5  2009-03-25 19:10:50 UTC  2009-03-25  19:10:50 UTC    4329   \n",
       "6  2009-04-27 16:36:43 UTC  2009-04-27  16:36:43 UTC   42231   \n",
       "7  2009-01-20 18:08:51 UTC  2009-01-20  18:08:51 UTC   10252   \n",
       "8  2009-04-04 01:16:34 UTC  2009-04-04  01:16:34 UTC    8070   \n",
       "9  2009-04-23 02:56:31 UTC  2009-04-23  02:56:31 UTC   46950   \n",
       "\n",
       "                         location  following  followers  likes  media private  \\\n",
       "5                     Memphis, TN        324   63446026   1066    622   False   \n",
       "6                        Queendom       5767   22418403  88497   3149   False   \n",
       "7  Citizen of the World Dahhhling        188   21612341   4346   2504   False   \n",
       "8                     los angeles        467   31648347    865    830   False   \n",
       "9                   ǝʌɐ uooɯʎǝuoɥ      55953   83945661  43968   3936   False   \n",
       "\n",
       "  verified                                             avatar  \\\n",
       "5     True  https://pbs.twimg.com/profile_images/123209623...   \n",
       "6     True  https://pbs.twimg.com/profile_images/139535431...   \n",
       "7     True  https://pbs.twimg.com/profile_images/134656973...   \n",
       "8     True  https://pbs.twimg.com/profile_images/138777139...   \n",
       "9     True  https://pbs.twimg.com/profile_images/134830613...   \n",
       "\n",
       "                                    background_image  \n",
       "5  https://pbs.twimg.com/profile_banners/26565946...  \n",
       "6  https://pbs.twimg.com/profile_banners/35787166...  \n",
       "7  https://pbs.twimg.com/profile_banners/19248106...  \n",
       "8  https://pbs.twimg.com/profile_banners/28706024...  \n",
       "9  https://pbs.twimg.com/profile_banners/34507480...  "
      ]
     },
     "execution_count": 57,
     "metadata": {},
     "output_type": "execute_result"
    }
   ],
   "source": [
    "# Example showing selection\n",
    "twitter_users.loc[range(5, 10)]"
   ]
  },
  {
   "cell_type": "code",
   "execution_count": 58,
   "metadata": {},
   "outputs": [
    {
     "data": {
      "text/plain": [
       "5     jtimberlake\n",
       "6      NICKIMINAJ\n",
       "7     MariahCarey\n",
       "8            Pink\n",
       "9    ArianaGrande\n",
       "Name: username, dtype: object"
      ]
     },
     "execution_count": 58,
     "metadata": {},
     "output_type": "execute_result"
    }
   ],
   "source": [
    "# Example separating data with a condition and then adding it back on\n",
    "selected_data = twitter_users.loc[range(5, 10), 'username']\n",
    "selected_data"
   ]
  },
  {
   "cell_type": "code",
   "execution_count": 59,
   "metadata": {},
   "outputs": [
    {
     "data": {
      "text/plain": [
       "5     jtimberlake_test\n",
       "6      NICKIMINAJ_test\n",
       "7     MariahCarey_test\n",
       "8            Pink_test\n",
       "9    ArianaGrande_test\n",
       "Name: username, dtype: object"
      ]
     },
     "execution_count": 59,
     "metadata": {},
     "output_type": "execute_result"
    }
   ],
   "source": [
    "modified_data = selected_data + '_test'\n",
    "modified_data"
   ]
  },
  {
   "cell_type": "code",
   "execution_count": 60,
   "metadata": {},
   "outputs": [],
   "source": [
    "twitter_users.username = modified_data"
   ]
  },
  {
   "cell_type": "code",
   "execution_count": 61,
   "metadata": {},
   "outputs": [
    {
     "data": {
      "text/plain": [
       "0                  NaN\n",
       "1                  NaN\n",
       "2                  NaN\n",
       "3                  NaN\n",
       "4                  NaN\n",
       "5     jtimberlake_test\n",
       "6      NICKIMINAJ_test\n",
       "7     MariahCarey_test\n",
       "8            Pink_test\n",
       "9    ArianaGrande_test\n",
       "Name: username, dtype: object"
      ]
     },
     "execution_count": 61,
     "metadata": {},
     "output_type": "execute_result"
    }
   ],
   "source": [
    "twitter_users.username.head(10)"
   ]
  },
  {
   "cell_type": "markdown",
   "metadata": {},
   "source": [
    "Ahora, el index a a veces hace cosas muy raras... vamos a intentar coger coger los followers de Lady Gaga y dividir todos los numeros de followers por este numero"
   ]
  },
  {
   "cell_type": "code",
   "execution_count": 63,
   "metadata": {},
   "outputs": [
    {
     "data": {
      "text/plain": [
       "3    83675119\n",
       "Name: followers, dtype: int64"
      ]
     },
     "execution_count": 63,
     "metadata": {},
     "output_type": "execute_result"
    }
   ],
   "source": [
    "gaga_followers = twitter_users.loc[twitter_users.name == 'Lady Gaga', 'followers']\n",
    "gaga_followers\n"
   ]
  },
  {
   "cell_type": "code",
   "execution_count": 64,
   "metadata": {},
   "outputs": [
    {
     "data": {
      "text/plain": [
       "0       NaN\n",
       "1       NaN\n",
       "2       NaN\n",
       "3       1.0\n",
       "4       NaN\n",
       "       ... \n",
       "1241    NaN\n",
       "1242    NaN\n",
       "1243    NaN\n",
       "1244    NaN\n",
       "1245    NaN\n",
       "Name: followers, Length: 1246, dtype: float64"
      ]
     },
     "execution_count": 64,
     "metadata": {},
     "output_type": "execute_result"
    }
   ],
   "source": [
    "twitter_users.followers / gaga_followers"
   ]
  },
  {
   "cell_type": "markdown",
   "metadata": {},
   "source": [
    "No ha funcionado porque de forma implicita Pandas ha hecho un join"
   ]
  },
  {
   "cell_type": "code",
   "execution_count": 65,
   "metadata": {},
   "outputs": [
    {
     "data": {
      "text/plain": [
       "0       0.249229\n",
       "1       0.516252\n",
       "2       1.300494\n",
       "3       1.000000\n",
       "4       0.664107\n",
       "          ...   \n",
       "1241    0.024158\n",
       "1242    0.024039\n",
       "1243    0.022342\n",
       "1244    0.022104\n",
       "1245    0.023943\n",
       "Name: followers, Length: 1246, dtype: float64"
      ]
     },
     "execution_count": 65,
     "metadata": {},
     "output_type": "execute_result"
    }
   ],
   "source": [
    "twitter_users.followers / gaga_followers.values"
   ]
  },
  {
   "cell_type": "markdown",
   "metadata": {},
   "source": [
    "`values` es la propiedad de la serie que contiene solo los valores - a menudo hay que usarlo para quitar el index"
   ]
  },
  {
   "cell_type": "code",
   "execution_count": 66,
   "metadata": {},
   "outputs": [],
   "source": [
    "twitter_users = pd.read_csv(handles_file)"
   ]
  },
  {
   "cell_type": "markdown",
   "metadata": {},
   "source": [
    "## Creando columnas\n",
    "Se crean las columnas de forma facil - nos refereimos a la columna nueva como si fuera una existente y asignamos"
   ]
  },
  {
   "cell_type": "code",
   "execution_count": 67,
   "metadata": {},
   "outputs": [
    {
     "data": {
      "text/plain": [
       "0       new\n",
       "1       new\n",
       "2       new\n",
       "3       new\n",
       "4       new\n",
       "       ... \n",
       "1241    new\n",
       "1242    new\n",
       "1243    new\n",
       "1244    new\n",
       "1245    new\n",
       "Name: new_column, Length: 1246, dtype: object"
      ]
     },
     "execution_count": 67,
     "metadata": {},
     "output_type": "execute_result"
    }
   ],
   "source": [
    "twitter_users['new_column'] = 'new'\n",
    "twitter_users.new_column"
   ]
  },
  {
   "cell_type": "code",
   "execution_count": 68,
   "metadata": {},
   "outputs": [
    {
     "data": {
      "text/plain": [
       "0        20854.298\n",
       "1        43197.469\n",
       "2       108819.032\n",
       "3        83675.119\n",
       "4        55569.235\n",
       "           ...    \n",
       "1241      2021.450\n",
       "1242      2011.441\n",
       "1243      1869.489\n",
       "1244      1849.529\n",
       "1245      2003.463\n",
       "Name: followers_in_1000s, Length: 1246, dtype: float64"
      ]
     },
     "execution_count": 68,
     "metadata": {},
     "output_type": "execute_result"
    }
   ],
   "source": [
    "twitter_users['followers_in_1000s'] = twitter_users.followers / 1000\n",
    "twitter_users.followers_in_1000s"
   ]
  },
  {
   "cell_type": "markdown",
   "metadata": {},
   "source": [
    "### Creando columnas para \"algunas\" filas\n",
    "Combinamos lo que ya hemos visto"
   ]
  },
  {
   "cell_type": "code",
   "execution_count": 69,
   "metadata": {},
   "outputs": [
    {
     "data": {
      "text/plain": [
       "0         NaN\n",
       "1         NaN\n",
       "2         NaN\n",
       "3         NaN\n",
       "4       toxic\n",
       "        ...  \n",
       "1241      NaN\n",
       "1242      NaN\n",
       "1243      NaN\n",
       "1244      NaN\n",
       "1245      NaN\n",
       "Name: britney_column, Length: 1246, dtype: object"
      ]
     },
     "execution_count": 69,
     "metadata": {},
     "output_type": "execute_result"
    }
   ],
   "source": [
    "twitter_users.loc[twitter_users.name == 'Britney Spears', 'britney_column'] = 'toxic'\n",
    "twitter_users.britney_column"
   ]
  },
  {
   "cell_type": "markdown",
   "metadata": {},
   "source": [
    "## Vectorizacion\n",
    "Algo muy especial de Pandas es que aprovecha de la vectorizacion de operaciones de Numpy. En Python los loops son lentos y los debemos de evitar. Entonces, como podemos hacer una operacion a todas las filas de nuestro data set? Pues simplemente aprovechamos (siempre cuando sea posible) las funciones vectorizadas\n",
    "\n",
    "Ya hemos visto algunos ejemplos"
   ]
  },
  {
   "cell_type": "code",
   "execution_count": 70,
   "metadata": {},
   "outputs": [
    {
     "data": {
      "text/plain": [
       "0        20854.298\n",
       "1        43197.469\n",
       "2       108819.032\n",
       "3        83675.119\n",
       "4        55569.235\n",
       "           ...    \n",
       "1241      2021.450\n",
       "1242      2011.441\n",
       "1243      1869.489\n",
       "1244      1849.529\n",
       "1245      2003.463\n",
       "Name: followers, Length: 1246, dtype: float64"
      ]
     },
     "execution_count": 70,
     "metadata": {},
     "output_type": "execute_result"
    }
   ],
   "source": [
    "# Dividir todo por 1000 sin loop\n",
    "twitter_users.followers / 1000"
   ]
  },
  {
   "cell_type": "code",
   "execution_count": 71,
   "metadata": {},
   "outputs": [
    {
     "data": {
      "text/plain": [
       "0       1.303394e+06\n",
       "1       1.337383e+05\n",
       "2       4.630597e+05\n",
       "3       7.013018e+02\n",
       "4       1.513756e+02\n",
       "            ...     \n",
       "1241             inf\n",
       "1242    1.596382e+04\n",
       "1243    1.325503e+01\n",
       "1244    2.719896e+03\n",
       "1245    5.691656e+03\n",
       "Length: 1246, dtype: float64"
      ]
     },
     "execution_count": 71,
     "metadata": {},
     "output_type": "execute_result"
    }
   ],
   "source": [
    "# Ratio entre 2 columnas\n",
    "twitter_users.followers / twitter_users.following"
   ]
  },
  {
   "cell_type": "markdown",
   "metadata": {},
   "source": [
    "Hay muchos ejemplos! Con operaciones basicas casi siempre hay una funciona vectorizada y merece la pena buscar. Podemos llegar a hacer cosas complejas..."
   ]
  },
  {
   "cell_type": "code",
   "execution_count": 78,
   "metadata": {},
   "outputs": [
    {
     "data": {
      "text/plain": [
       "11        1.252142\n",
       "20        1.992925\n",
       "31       16.883095\n",
       "32        2.479147\n",
       "51        6.583763\n",
       "           ...    \n",
       "1160    617.024107\n",
       "1167      0.000000\n",
       "1193      0.012813\n",
       "1197    352.448853\n",
       "1239     46.997275\n",
       "Length: 86, dtype: float64"
      ]
     },
     "execution_count": 78,
     "metadata": {},
     "output_type": "execute_result"
    }
   ],
   "source": [
    "((\n",
    "    twitter_users.tweets /\n",
    "    (today_date - twitter_users.loc[twitter_users.name.str.contains('z').fillna(False), 'join_date']).dt.days\n",
    ") ** 2).dropna()"
   ]
  },
  {
   "cell_type": "markdown",
   "metadata": {},
   "source": [
    "## Funciones tipicos y group bys\n",
    "Hay algunas funciones muy tipicas para operaciones normales"
   ]
  },
  {
   "cell_type": "code",
   "execution_count": 79,
   "metadata": {},
   "outputs": [
    {
     "data": {
      "text/plain": [
       "28091.992776886036"
      ]
     },
     "execution_count": 79,
     "metadata": {},
     "output_type": "execute_result"
    }
   ],
   "source": [
    "twitter_users.tweets.mean()"
   ]
  },
  {
   "cell_type": "code",
   "execution_count": 80,
   "metadata": {},
   "outputs": [
    {
     "data": {
      "text/plain": [
       "10987.5"
      ]
     },
     "execution_count": 80,
     "metadata": {},
     "output_type": "execute_result"
    }
   ],
   "source": [
    "twitter_users.tweets.median()"
   ]
  },
  {
   "cell_type": "code",
   "execution_count": 81,
   "metadata": {},
   "outputs": [
    {
     "data": {
      "text/plain": [
       "730463"
      ]
     },
     "execution_count": 81,
     "metadata": {},
     "output_type": "execute_result"
    }
   ],
   "source": [
    "twitter_users.tweets.max()"
   ]
  },
  {
   "cell_type": "code",
   "execution_count": 82,
   "metadata": {},
   "outputs": [
    {
     "data": {
      "text/plain": [
       "count      1246.000000\n",
       "mean      28091.992777\n",
       "std       58852.437988\n",
       "min          -1.000000\n",
       "25%        4139.000000\n",
       "50%       10987.500000\n",
       "75%       25841.500000\n",
       "max      730463.000000\n",
       "Name: tweets, dtype: float64"
      ]
     },
     "execution_count": 82,
     "metadata": {},
     "output_type": "execute_result"
    }
   ],
   "source": [
    "twitter_users.tweets.describe()"
   ]
  },
  {
   "cell_type": "code",
   "execution_count": 83,
   "metadata": {},
   "outputs": [
    {
     "data": {
      "text/plain": [
       "True     1126\n",
       "False     103\n",
       "Name: verified, dtype: int64"
      ]
     },
     "execution_count": 83,
     "metadata": {},
     "output_type": "execute_result"
    }
   ],
   "source": [
    "twitter_users.verified.value_counts()"
   ]
  },
  {
   "cell_type": "markdown",
   "metadata": {},
   "source": [
    "Tambien podemos hacer un group by como si fuera SQL - nota que ahora vamos a crear data frames nuevos donde los indedx son los \"grupos\""
   ]
  },
  {
   "cell_type": "code",
   "execution_count": 84,
   "metadata": {},
   "outputs": [
    {
     "data": {
      "text/plain": [
       "verified\n",
       "False    13226.514563\n",
       "True     29875.940497\n",
       "Name: tweets, dtype: float64"
      ]
     },
     "execution_count": 84,
     "metadata": {},
     "output_type": "execute_result"
    }
   ],
   "source": [
    "twitter_users.groupby('verified').tweets.mean()"
   ]
  },
  {
   "cell_type": "code",
   "execution_count": 85,
   "metadata": {},
   "outputs": [
    {
     "data": {
      "text/html": [
       "<div>\n",
       "<style scoped>\n",
       "    .dataframe tbody tr th:only-of-type {\n",
       "        vertical-align: middle;\n",
       "    }\n",
       "\n",
       "    .dataframe tbody tr th {\n",
       "        vertical-align: top;\n",
       "    }\n",
       "\n",
       "    .dataframe thead th {\n",
       "        text-align: right;\n",
       "    }\n",
       "</style>\n",
       "<table border=\"1\" class=\"dataframe\">\n",
       "  <thead>\n",
       "    <tr style=\"text-align: right;\">\n",
       "      <th></th>\n",
       "      <th>verified</th>\n",
       "      <th>tweets</th>\n",
       "    </tr>\n",
       "  </thead>\n",
       "  <tbody>\n",
       "    <tr>\n",
       "      <th>0</th>\n",
       "      <td>False</td>\n",
       "      <td>13226.514563</td>\n",
       "    </tr>\n",
       "    <tr>\n",
       "      <th>1</th>\n",
       "      <td>True</td>\n",
       "      <td>29875.940497</td>\n",
       "    </tr>\n",
       "  </tbody>\n",
       "</table>\n",
       "</div>"
      ],
      "text/plain": [
       "   verified        tweets\n",
       "0     False  13226.514563\n",
       "1      True  29875.940497"
      ]
     },
     "execution_count": 85,
     "metadata": {},
     "output_type": "execute_result"
    }
   ],
   "source": [
    "twitter_users.groupby('verified').tweets.mean().reset_index()"
   ]
  },
  {
   "cell_type": "markdown",
   "metadata": {},
   "source": [
    "Existen muchas funciones - merece la pena buscar antes de ponerte a inventar algo nuevo!"
   ]
  },
  {
   "cell_type": "markdown",
   "metadata": {},
   "source": [
    "## Ponemos todo a prueba..."
   ]
  },
  {
   "cell_type": "code",
   "execution_count": null,
   "metadata": {},
   "outputs": [],
   "source": [
    "# Que es la fecha de unirse a twitter mas temprana?"
   ]
  },
  {
   "cell_type": "code",
   "execution_count": null,
   "metadata": {},
   "outputs": [],
   "source": [
    "# Quein fue?"
   ]
  },
  {
   "cell_type": "code",
   "execution_count": null,
   "metadata": {},
   "outputs": [],
   "source": [
    "# Quien sigue a mas gente de los Obamas?"
   ]
  },
  {
   "cell_type": "code",
   "execution_count": null,
   "metadata": {},
   "outputs": [],
   "source": [
    "# Cuantas cuentas unicas tenemos en el conjunto?"
   ]
  },
  {
   "cell_type": "code",
   "execution_count": null,
   "metadata": {},
   "outputs": [],
   "source": [
    "# En que mes de unirse a la plataforma tiene las cuentas mas tweets y seguidores (de media)?"
   ]
  },
  {
   "cell_type": "markdown",
   "metadata": {},
   "source": [
    "## Creando visualizaciones\n",
    "Data frames muy guay pero no es siempre la mejor forma de transmitir conclusiones.\n",
    "\n",
    "Una visualizacion se compone por unas piezas importantes:\n",
    "\n",
    "* Un data frame\n",
    "* Un(os) \"aesthetics\"\n",
    "* Una(s) gemoetrias\n",
    "* Un(os) temas o \"themes\"\n",
    "\n",
    "Todos los graficos se constuyen a partir de estas piezas y nos permite crear visualizaciones simples o complejas."
   ]
  },
  {
   "cell_type": "code",
   "execution_count": 102,
   "metadata": {},
   "outputs": [
    {
     "data": {
      "image/png": "[encoded data removed]",
      "text/plain": [
       "<Figure size 640x480 with 1 Axes>"
      ]
     },
     "metadata": {},
     "output_type": "display_data"
    }
   ],
   "source": [
    "data = pd.DataFrame({\n",
    "    'columna_1' : [1, 2, 3, 4, 5],\n",
    "    'columna_2' : [6, 7, 8, 9, 10],\n",
    "    'columna_letras' : ['a', 'a', 'd', 'd', 'e'],\n",
    "})\n",
    "\n",
    "graph = pn.ggplot(data, pn.aes(x='columna_1', y='columna_2')) + pn.geom_point()\n",
    "\n",
    "graph.draw();"
   ]
  },
  {
   "cell_type": "code",
   "execution_count": 89,
   "metadata": {},
   "outputs": [
    {
     "data": {
      "image/png": "[encoded data removed]",
      "text/plain": [
       "<Figure size 640x480 with 1 Axes>"
      ]
     },
     "metadata": {},
     "output_type": "display_data"
    }
   ],
   "source": [
    "graph = pn.ggplot(data, pn.aes(x='columna_1', y='columna_2')) + pn.geom_point() + pn.theme(axis_text=pn.element_text(size=20))\n",
    "\n",
    "graph.draw();"
   ]
  },
  {
   "cell_type": "markdown",
   "metadata": {},
   "source": [
    "## Los geometrias más comunes"
   ]
  },
  {
   "cell_type": "code",
   "execution_count": 90,
   "metadata": {},
   "outputs": [
    {
     "data": {
      "image/png": "[encoded data removed]",
      "text/plain": [
       "<Figure size 640x480 with 1 Axes>"
      ]
     },
     "metadata": {},
     "output_type": "display_data"
    }
   ],
   "source": [
    "graph = pn.ggplot(data, pn.aes(x='columna_1', y='columna_2')) + pn.geom_line()\n",
    "\n",
    "graph.draw();"
   ]
  },
  {
   "cell_type": "code",
   "execution_count": 91,
   "metadata": {},
   "outputs": [
    {
     "data": {
      "image/png": "[encoded data removed]",
      "text/plain": [
       "<Figure size 640x480 with 1 Axes>"
      ]
     },
     "metadata": {},
     "output_type": "display_data"
    }
   ],
   "source": [
    "graph = pn.ggplot(data, pn.aes(x='columna_1', y='columna_2')) + pn.geom_col()\n",
    "\n",
    "graph.draw();"
   ]
  },
  {
   "cell_type": "code",
   "execution_count": 92,
   "metadata": {},
   "outputs": [
    {
     "name": "stderr",
     "output_type": "stream",
     "text": [
      "/home/andreas/anaconda3/lib/python3.6/site-packages/plotnine/stats/stat_bin.py:95: PlotnineWarning: 'stat_bin()' using 'bins = 2'. Pick better value with 'binwidth'.\n"
     ]
    },
    {
     "data": {
      "image/png": "[encoded data removed]",
      "text/plain": [
       "<Figure size 640x480 with 1 Axes>"
      ]
     },
     "metadata": {},
     "output_type": "display_data"
    }
   ],
   "source": [
    "graph = pn.ggplot(data, pn.aes(x='columna_1')) + pn.geom_histogram()\n",
    "\n",
    "graph.draw();"
   ]
  },
  {
   "cell_type": "markdown",
   "metadata": {},
   "source": [
    "## Otras cosas..."
   ]
  },
  {
   "cell_type": "code",
   "execution_count": 95,
   "metadata": {},
   "outputs": [
    {
     "data": {
      "image/png": "[encoded data removed]",
      "text/plain": [
       "<Figure size 640x480 with 1 Axes>"
      ]
     },
     "metadata": {},
     "output_type": "display_data"
    }
   ],
   "source": [
    "# cambiar las etiquetas\n",
    "graph = pn.ggplot(data, pn.aes(x='columna_1', y='columna_2')) + pn.geom_point() + pn.xlab('Mejor etiqueta para la X')\n",
    "\n",
    "graph.draw();"
   ]
  },
  {
   "cell_type": "code",
   "execution_count": 96,
   "metadata": {},
   "outputs": [
    {
     "data": {
      "image/png": "[encoded data removed]",
      "text/plain": [
       "<Figure size 640x480 with 1 Axes>"
      ]
     },
     "metadata": {},
     "output_type": "display_data"
    }
   ],
   "source": [
    "# Combinar geometrias\n",
    "graph = pn.ggplot(data, pn.aes(x='columna_1', y='columna_2')) + pn.geom_line() + pn.geom_point()\n",
    "\n",
    "graph.draw();"
   ]
  },
  {
   "cell_type": "code",
   "execution_count": 98,
   "metadata": {},
   "outputs": [
    {
     "data": {
      "image/png": "[encoded data removed]",
      "text/plain": [
       "<Figure size 640x480 with 1 Axes>"
      ]
     },
     "metadata": {},
     "output_type": "display_data"
    }
   ],
   "source": [
    "# Darle un poco de estilo\n",
    "graph = pn.ggplot(data, pn.aes(x='columna_1', y='columna_2')) + pn.geom_point(color='red', size=10, shape='x')\n",
    "\n",
    "graph.draw();"
   ]
  },
  {
   "cell_type": "code",
   "execution_count": 103,
   "metadata": {},
   "outputs": [
    {
     "data": {
      "image/png": "[encoded data removed]",
      "text/plain": [
       "<Figure size 640x480 with 1 Axes>"
      ]
     },
     "metadata": {},
     "output_type": "display_data"
    }
   ],
   "source": [
    "# Color por variables\n",
    "graph = pn.ggplot(data, pn.aes(x='columna_1', y='columna_2', color='columna_letras')) + pn.geom_point(size=10)\n",
    "\n",
    "graph.draw();"
   ]
  },
  {
   "cell_type": "code",
   "execution_count": 107,
   "metadata": {},
   "outputs": [
    {
     "data": {
      "image/png": "[encoded data removed]",
      "text/plain": [
       "<Figure size 640x480 with 1 Axes>"
      ]
     },
     "metadata": {},
     "output_type": "display_data"
    }
   ],
   "source": [
    "# Color por variables\n",
    "graph = pn.ggplot(data, pn.aes(x='columna_1', y='columna_2', color='columna_letras')) + pn.geom_line(size=5) + pn.geom_point(size=10)\n",
    "\n",
    "graph.draw();"
   ]
  }
 ],
 "metadata": {
  "kernelspec": {
   "display_name": "Python 3",
   "language": "python",
   "name": "python3"
  },
  "language_info": {
   "codemirror_mode": {
    "name": "ipython",
    "version": 3
   },
   "file_extension": ".py",
   "mimetype": "text/x-python",
   "name": "python",
   "nbconvert_exporter": "python",
   "pygments_lexer": "ipython3",
   "version": "3.6.10"
  }
 },
 "nbformat": 4,
 "nbformat_minor": 5
}
