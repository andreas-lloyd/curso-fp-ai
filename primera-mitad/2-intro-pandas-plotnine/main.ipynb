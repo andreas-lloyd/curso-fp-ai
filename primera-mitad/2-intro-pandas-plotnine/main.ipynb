{
 "cells": [
  {
   "cell_type": "markdown",
   "id": "79ec5d96-53e2-4a01-8ad8-b8d893256463",
   "metadata": {},
   "source": [
    "# Crash course en Pandas y Plotnine\n",
    "Pandas es una de las librerias fundamentales para analizar los datos en Python. Ya lo hemos visto brevemente, pero es lo que nos permite explorar los datos de forma facil. Toma inspiracion de los data frames de R y nos hace la vida facil. En mi opinion puedes hacerte un muy buen data scientist sabiendo solo Pandas y nada más (bueno, plotnine tambien!).\n",
    "\n",
    "Plotnine es una libreria mucho menos conocida pero vale la pena aprenderlo. Una critica comun de Python para data science es que R tiene mucho mejor capacidad de visualizacion de datos, gracias a la libreria de \"ggplot\". Ggplot es muy popular por haber inventado una \"gramatica\" de crear graficos que es muy intuitivo y muy flexible - mientras las opciones más tipicos de Python (matplotlib...) son todo lo opuesto (segun quien preguntas).\n",
    "\n",
    "Plotnine es basicamente un port de ggplot a Python, entonces ya no tenemos problemas! Te estaras preguntando \"si R tiene todo lo bueno y Python lo ha robado de ahi, porque no usamos R?\" Por mi lo fuerte de Python no es que sea un lenguaje bueno para analizar datos, pero es un lenguaje bueno para hacer todo lo demas!\n",
    "\n",
    "No queremos enseñar todo lo que hay, pero vale mucho la pena hacer un crash course para entender el core de estas librerias."
   ]
  },
  {
   "cell_type": "code",
   "execution_count": null,
   "id": "3ee361a8-34ce-4f4d-9dfe-51fef9a6af1a",
   "metadata": {},
   "outputs": [],
   "source": [
    "import pandas as pd\n",
    "import plotnine as pn"
   ]
  },
  {
   "cell_type": "markdown",
   "id": "a935b2cc-9d2b-42ee-956a-73507f7e343d",
   "metadata": {},
   "source": [
    "## Creando data frames"
   ]
  },
  {
   "cell_type": "code",
   "execution_count": null,
   "id": "28dcd5c2-6434-47f4-a944-8791fd2ef2da",
   "metadata": {},
   "outputs": [],
   "source": []
  },
  {
   "cell_type": "markdown",
   "id": "48b5f5d6-65aa-48ed-a483-26edca2c9571",
   "metadata": {},
   "source": [
    "## Cargando datos"
   ]
  },
  {
   "cell_type": "code",
   "execution_count": null,
   "id": "9bf17493-e0b3-44a1-b0e3-f04739edb63a",
   "metadata": {},
   "outputs": [],
   "source": []
  },
  {
   "cell_type": "markdown",
   "id": "b29ea875-f930-4500-a444-fa9faacbfd92",
   "metadata": {},
   "source": [
    "## Viendo los datos"
   ]
  },
  {
   "cell_type": "code",
   "execution_count": null,
   "id": "5fe30d17-d6a1-4878-8d74-750f56baa5f9",
   "metadata": {},
   "outputs": [],
   "source": []
  },
  {
   "cell_type": "markdown",
   "id": "3ffd9a7b-902e-4444-b738-cd65c4286ac1",
   "metadata": {},
   "source": [
    "## Seleccionando los datos"
   ]
  },
  {
   "cell_type": "code",
   "execution_count": null,
   "id": "093d0645-4375-499b-b775-a32101ffc022",
   "metadata": {},
   "outputs": [],
   "source": []
  },
  {
   "cell_type": "markdown",
   "id": "943e603c-8789-417c-9ed5-8cb59753cf22",
   "metadata": {},
   "source": [
    "### El index: lo bueno, lo malo, y lo feo...\n",
    "Para su funcionamiento correcto, Pandas invento un concepto que se llama el \"index\". El index es un identificador de una fila que permite seleccionar esta fila o hasta \"unificar\" datos separados haciendo un \"join\" implicito utilizando este index."
   ]
  },
  {
   "cell_type": "code",
   "execution_count": null,
   "id": "211fc5e8-3d57-4b28-957f-c15fe7cd8756",
   "metadata": {},
   "outputs": [],
   "source": [
    "# Example showing selection"
   ]
  },
  {
   "cell_type": "code",
   "execution_count": null,
   "id": "90cdfdb8-4ca4-4f9c-9394-5084b9eaf1c5",
   "metadata": {},
   "outputs": [],
   "source": [
    "# Example separating data with a condition and then adding it back on"
   ]
  },
  {
   "cell_type": "markdown",
   "id": "9b37d1d3-96ab-4107-8e9d-2b983f11a4bd",
   "metadata": {},
   "source": [
    "Ahora, el index a a veces hace cosas muy raras..."
   ]
  },
  {
   "cell_type": "code",
   "execution_count": null,
   "id": "a19b4cbd-1aff-4207-b5a9-1d22414696d7",
   "metadata": {},
   "outputs": [],
   "source": [
    "# Try and do something similar to above, but extracting data like above, and then trying to insert it back into the data as if it was the value we wanted (let's say, grab 1 row and try and set this)"
   ]
  },
  {
   "cell_type": "markdown",
   "id": "048702c8-617a-47b6-9117-ddbc51f87e14",
   "metadata": {},
   "source": [
    "## Creando columnas"
   ]
  },
  {
   "cell_type": "code",
   "execution_count": null,
   "id": "405e7316-7163-4103-a063-39b1ad5b7823",
   "metadata": {},
   "outputs": [],
   "source": []
  },
  {
   "cell_type": "markdown",
   "id": "172c8c39-10a6-4a4c-be00-1f3ec17eb856",
   "metadata": {},
   "source": [
    "### Creando columnas para \"algunas\" filas"
   ]
  },
  {
   "cell_type": "code",
   "execution_count": null,
   "id": "562d50f6-0868-45a8-b4d6-4ea74581129e",
   "metadata": {},
   "outputs": [],
   "source": []
  },
  {
   "cell_type": "markdown",
   "id": "a7d3e589-062c-47e8-9355-3d8b55df07e0",
   "metadata": {},
   "source": [
    "## Vectorizacion"
   ]
  },
  {
   "cell_type": "code",
   "execution_count": null,
   "id": "8babbf76-ade1-48b8-ae9e-99fb61cd75ef",
   "metadata": {},
   "outputs": [],
   "source": []
  },
  {
   "cell_type": "markdown",
   "id": "1d06d731-bdf1-4adb-8dbf-7f0c5055027d",
   "metadata": {},
   "source": [
    "## Funciones tipicos y group bys"
   ]
  },
  {
   "cell_type": "code",
   "execution_count": null,
   "id": "8918503e-d86d-4f20-ba39-94557c1baf38",
   "metadata": {},
   "outputs": [],
   "source": []
  },
  {
   "cell_type": "markdown",
   "id": "71305ebe-acce-4265-9da4-f15c3b3559ed",
   "metadata": {},
   "source": [
    "## Creando visualizaciones\n",
    "Una visualizacion se compone por unas piezas importantes:\n",
    "\n",
    "* Un data frame\n",
    "* Un(os) \"aesthetics\"\n",
    "* Una(s) gemoetrias\n",
    "* Un(os) temas o \"themes\"\n",
    "\n",
    "Todos los graficos se constuyen a partir de estas piezas y nos permite crear visualizaciones simples o complejas."
   ]
  },
  {
   "cell_type": "code",
   "execution_count": null,
   "id": "9f224fe1-84c9-4230-afe3-92d06f5c8abe",
   "metadata": {},
   "outputs": [],
   "source": []
  },
  {
   "cell_type": "markdown",
   "id": "f1a508d3-fabf-4532-8a91-45be9c37a26e",
   "metadata": {},
   "source": [
    "## Los geometrias más comunes"
   ]
  },
  {
   "cell_type": "code",
   "execution_count": null,
   "id": "14bfaf47-a6df-440a-afc4-8c437099ab2d",
   "metadata": {},
   "outputs": [],
   "source": []
  },
  {
   "cell_type": "markdown",
   "id": "f3430a25-a02d-4b76-b4f0-ec1e82600ee8",
   "metadata": {},
   "source": [
    "## "
   ]
  },
  {
   "cell_type": "code",
   "execution_count": null,
   "id": "468d75a7-7746-403c-bac6-417c0d5bd404",
   "metadata": {},
   "outputs": [],
   "source": []
  },
  {
   "cell_type": "markdown",
   "id": "590d35ef-3be7-4cbd-9c0f-ea127aea9308",
   "metadata": {},
   "source": [
    "## "
   ]
  },
  {
   "cell_type": "code",
   "execution_count": null,
   "id": "7975195b-dee4-43cc-9d0b-57656ff72d34",
   "metadata": {},
   "outputs": [],
   "source": []
  }
 ],
 "metadata": {
  "kernelspec": {
   "display_name": "Python 3",
   "language": "python",
   "name": "python3"
  },
  "language_info": {
   "codemirror_mode": {
    "name": "ipython",
    "version": 3
   },
   "file_extension": ".py",
   "mimetype": "text/x-python",
   "name": "python",
   "nbconvert_exporter": "python",
   "pygments_lexer": "ipython3",
   "version": "3.8.2"
  }
 },
 "nbformat": 4,
 "nbformat_minor": 5
}
