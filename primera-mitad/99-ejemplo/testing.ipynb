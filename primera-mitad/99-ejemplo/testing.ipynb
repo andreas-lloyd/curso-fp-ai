{
 "cells": [
  {
   "cell_type": "code",
   "execution_count": 20,
   "metadata": {},
   "outputs": [],
   "source": [
    "from pathlib import Path\n",
    "import warnings\n",
    "\n",
    "import pandas as pd\n",
    "import plotnine as pn\n",
    "import numpy as np\n",
    "from mizani.formatters import percent_format\n",
    "from sklearn.metrics import median_absolute_error\n",
    "from sklearn.linear_model import LinearRegression\n",
    "from sklearn.ensemble import RandomForestRegressor, RandomForestClassifier\n",
    "\n",
    "\n",
    "data_loc = Path('../1-descarga-datos/')\n",
    "users_file = '2021-08-11-handles-data.csv'\n",
    "tweet_file = '2021-08-11-2021-08-12-2021-08-19-tweets-data.csv'\n",
    "\n",
    "pd.set_option('display.max_columns', 500)\n",
    "warnings.filterwarnings('ignore', module='plotnine')"
   ]
  },
  {
   "cell_type": "code",
   "execution_count": 2,
   "metadata": {},
   "outputs": [
    {
     "name": "stderr",
     "output_type": "stream",
     "text": [
      "/Users/andreas/miniforge3/envs/generic-ds/lib/python3.9/site-packages/IPython/core/interactiveshell.py:3444: DtypeWarning: Columns (5) have mixed types.Specify dtype option on import or set low_memory=False.\n"
     ]
    }
   ],
   "source": [
    "user_dates = ['join_datetime']\n",
    "users = pd.read_csv(data_loc / users_file, parse_dates=user_dates)\n",
    "\n",
    "tweet_dates = ['date']\n",
    "tweets = pd.read_csv(data_loc / tweet_file, parse_dates=tweet_dates)"
   ]
  },
  {
   "cell_type": "code",
   "execution_count": 3,
   "metadata": {},
   "outputs": [],
   "source": [
    "users = users.sort_values('followers').drop_duplicates(subset=['id'], keep='last').reset_index(drop=True)"
   ]
  },
  {
   "cell_type": "code",
   "execution_count": 4,
   "metadata": {},
   "outputs": [],
   "source": [
    "# A veces Pandas es horrible\n",
    "useless_cols = (tweets.nunique() < 2).reset_index().rename(columns = {0 : 'to_drop'}).query('to_drop')['index'].tolist()\n",
    "\n",
    "user_text_cols = ['username', 'name', 'bio', 'location', 'avatar', 'background_image', 'url', 'join_date', 'join_time']\n",
    "tweet_text_cols = ['user_id_str', 'username', 'name', 'link', 'user_rt', 'place']\n",
    "\n",
    "users = users.drop(user_text_cols, axis=1).reset_index(drop=True)\n",
    "tweets = tweets.drop(tweet_text_cols + useless_cols, axis=1).reset_index(drop=True)"
   ]
  },
  {
   "cell_type": "code",
   "execution_count": 5,
   "metadata": {},
   "outputs": [],
   "source": [
    "# Tambien vemos que hay una fecha vacia\n",
    "users.loc[users.join_datetime == ' ', 'join_datetime'] = np.NaN\n",
    "users['join_datetime'] = pd.to_datetime(users.join_datetime)"
   ]
  },
  {
   "cell_type": "code",
   "execution_count": 6,
   "metadata": {},
   "outputs": [],
   "source": [
    "bad_rows = users.isnull().sum(axis=1) == 3"
   ]
  },
  {
   "cell_type": "code",
   "execution_count": 7,
   "metadata": {},
   "outputs": [],
   "source": [
    "users = users[~bad_rows].reset_index(drop=True)"
   ]
  },
  {
   "cell_type": "code",
   "execution_count": 8,
   "metadata": {},
   "outputs": [],
   "source": [
    "tweets = tweets[~tweets.retweet].reset_index(drop=True)"
   ]
  },
  {
   "cell_type": "code",
   "execution_count": 9,
   "metadata": {},
   "outputs": [],
   "source": [
    "tweets['same_convo_id'] = tweets.id == tweets.conversation_id\n",
    "tweets['has_reply_to'] = tweets.reply_to != '[]'"
   ]
  },
  {
   "cell_type": "code",
   "execution_count": 10,
   "metadata": {},
   "outputs": [],
   "source": [
    "tweets = tweets[~tweets.has_reply_to].reset_index(drop=True)"
   ]
  },
  {
   "cell_type": "code",
   "execution_count": 12,
   "metadata": {},
   "outputs": [],
   "source": [
    "tweets['tweet_length'] = tweets.tweet.str.len()\n",
    "\n",
    "tweets['num_hashtags'] = (tweets.hashtags.str.extractall('(,)').reset_index().groupby('level_0').match.max() + 1)\n",
    "tweets['num_hashtags'] = tweets.num_hashtags.fillna(0)\n",
    "\n",
    "tweets['num_cashtags'] = (tweets.cashtags.str.extractall('(,)').reset_index().groupby('level_0').match.max() + 1)\n",
    "tweets['num_cashtags'] = tweets.num_cashtags.fillna(0)\n",
    "\n",
    "tweets['num_urls'] = (tweets.urls.str.extractall('(,)').reset_index().groupby('level_0').match.max() + 1)\n",
    "tweets['num_urls'] = tweets.num_urls.fillna(0)\n",
    "\n",
    "tweets['num_photos'] = (tweets.photos.str.extractall('(,)').reset_index().groupby('level_0').match.max() + 1)\n",
    "tweets['num_photos'] = tweets.num_photos.fillna(0)\n",
    "\n",
    "tweets['has_quotes'] = tweets.quote_url != '0'\n",
    "\n",
    "tweets['has_thumbnail'] = tweets.thumbnail.notna()\n",
    "\n",
    "tweets['day'] = tweets.date.dt.date\n"
   ]
  },
  {
   "cell_type": "code",
   "execution_count": 16,
   "metadata": {},
   "outputs": [],
   "source": [
    "cont_cols = ['nlikes', 'nreplies', 'nretweets']\n",
    "keep_users = [col for col in users if col != 'join_datetime']\n",
    "keep_tweets = ['id', 'tweet', 'user_id', 'day', 'hour', 'language', 'video', 'num_hashtags', 'tweet_length', 'num_photos', 'has_quotes', 'same_convo_id'] + cont_cols\n",
    "\n",
    "users = users[keep_users].reset_index(drop=True)\n",
    "tweets = tweets[keep_tweets].reset_index(drop=True)\n",
    "\n",
    "to_drop = ['id_user']\n",
    "final_data = tweets.merge(users, left_on='user_id', right_on='id', suffixes=['', '_user']).drop(to_drop, axis=1)"
   ]
  },
  {
   "cell_type": "code",
   "execution_count": 18,
   "metadata": {},
   "outputs": [
    {
     "name": "stdout",
     "output_type": "stream",
     "text": [
      "(13228, 23)\n",
      "(7552, 23)\n",
      "(9675, 23)\n"
     ]
    }
   ],
   "source": [
    "train_days = ['2021-08-12', '2021-08-13', '2021-08-14']\n",
    "val_days = ['2021-08-15', '2021-08-16']\n",
    "test_days = ['2021-08-17', '2021-08-18']\n",
    "\n",
    "final_data['target'] = final_data.nlikes >= 500\n",
    "\n",
    "train = final_data[final_data.day.astype(str).isin(train_days)].reset_index(drop=True)\n",
    "val = final_data[final_data.day.astype(str).isin(val_days)].reset_index(drop=True)\n",
    "test = final_data[final_data.day.astype(str).isin(test_days)].reset_index(drop=True)\n",
    "\n",
    "print(train.shape)\n",
    "print(val.shape)\n",
    "print(test.shape)"
   ]
  },
  {
   "cell_type": "markdown",
   "metadata": {},
   "source": [
    "### Text"
   ]
  },
  {
   "cell_type": "code",
   "execution_count": 21,
   "metadata": {},
   "outputs": [],
   "source": [
    "from sklearn.feature_extraction.text import CountVectorizer\n",
    "\n",
    "# Ojo, haz una mezcla de idiomas\n",
    "vectorizer = CountVectorizer(min_df=3, strip_accents='unicode', token_pattern=r'\\w{1,}', ngram_range=(1, 2), stop_words='english')\n",
    "\n",
    "vectorizer.fit(train['tweet'])\n",
    "\n",
    "model = RandomForestClassifier(random_state=1)\n",
    "\n",
    "model.fit(vectorizer.transform(train['tweet']), train['target'])\n",
    "\n",
    "predictions = model.predict(vectorizer.transform(test['tweet']))\n",
    "\n",
    "print((predictions == test['target']).mean())\n"
   ]
  },
  {
   "cell_type": "code",
   "execution_count": null,
   "metadata": {},
   "outputs": [],
   "source": []
  }
 ],
 "metadata": {
  "interpreter": {
   "hash": "74a568880be0cfc5745ab616d2ec23524bd7f26e651cefe4e246d5d739ab7712"
  },
  "kernelspec": {
   "display_name": "Python 3.9.7 ('generic-ds')",
   "language": "python",
   "name": "python3"
  },
  "language_info": {
   "codemirror_mode": {
    "name": "ipython",
    "version": 3
   },
   "file_extension": ".py",
   "mimetype": "text/x-python",
   "name": "python",
   "nbconvert_exporter": "python",
   "pygments_lexer": "ipython3",
   "version": "3.9.7"
  },
  "orig_nbformat": 4
 },
 "nbformat": 4,
 "nbformat_minor": 2
}
