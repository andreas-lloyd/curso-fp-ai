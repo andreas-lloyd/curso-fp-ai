{
 "cells": [
  {
   "cell_type": "markdown",
   "metadata": {},
   "source": [
    "# Un tweet va a ser popular?\n",
    "Vamos a investigar si es posible predicir si un Tweet va a ser popular, utilizando los datos descargados en agosto 2021. En general tenemos datos de cuentas famosas y tenemos detalles del usuario ademas de los tweets.\n",
    "\n",
    "Esto va a ser \"modo express\" - no vamos a profundizar del todo en todo."
   ]
  },
  {
   "cell_type": "code",
   "execution_count": 1,
   "metadata": {},
   "outputs": [],
   "source": [
    "from pathlib import Path\n",
    "import warnings\n",
    "\n",
    "import pandas as pd\n",
    "import plotnine as pn\n",
    "import numpy as np\n",
    "from mizani.formatters import percent_format\n",
    "from sklearn.metrics import median_absolute_error\n",
    "from sklearn.linear_model import LinearRegression\n",
    "from sklearn.ensemble import RandomForestRegressor\n",
    "\n",
    "\n",
    "data_loc = Path('../1-descarga-datos/')\n",
    "users_file = '2021-08-11-handles-data.csv'\n",
    "tweet_file = '2021-08-11-2021-08-12-2021-08-19-tweets-data.csv'\n",
    "\n",
    "pd.set_option('display.max_columns', 500)\n",
    "warnings.filterwarnings('ignore', module='plotnine')"
   ]
  },
  {
   "cell_type": "code",
   "execution_count": 2,
   "metadata": {},
   "outputs": [
    {
     "name": "stderr",
     "output_type": "stream",
     "text": [
      "/Users/andreas/miniforge3/envs/generic-ds/lib/python3.9/site-packages/IPython/core/interactiveshell.py:3444: DtypeWarning: Columns (5) have mixed types.Specify dtype option on import or set low_memory=False.\n"
     ]
    }
   ],
   "source": [
    "user_dates = ['join_datetime']\n",
    "users = pd.read_csv(data_loc / users_file, parse_dates=user_dates)\n",
    "\n",
    "tweet_dates = ['date']\n",
    "tweets = pd.read_csv(data_loc / tweet_file, parse_dates=tweet_dates)\n"
   ]
  },
  {
   "cell_type": "code",
   "execution_count": 3,
   "metadata": {},
   "outputs": [
    {
     "data": {
      "text/html": [
       "<div>\n",
       "<style scoped>\n",
       "    .dataframe tbody tr th:only-of-type {\n",
       "        vertical-align: middle;\n",
       "    }\n",
       "\n",
       "    .dataframe tbody tr th {\n",
       "        vertical-align: top;\n",
       "    }\n",
       "\n",
       "    .dataframe thead th {\n",
       "        text-align: right;\n",
       "    }\n",
       "</style>\n",
       "<table border=\"1\" class=\"dataframe\">\n",
       "  <thead>\n",
       "    <tr style=\"text-align: right;\">\n",
       "      <th></th>\n",
       "      <th>id</th>\n",
       "      <th>name</th>\n",
       "      <th>username</th>\n",
       "      <th>bio</th>\n",
       "      <th>url</th>\n",
       "      <th>join_datetime</th>\n",
       "      <th>join_date</th>\n",
       "      <th>join_time</th>\n",
       "      <th>tweets</th>\n",
       "      <th>location</th>\n",
       "      <th>following</th>\n",
       "      <th>followers</th>\n",
       "      <th>likes</th>\n",
       "      <th>media</th>\n",
       "      <th>private</th>\n",
       "      <th>verified</th>\n",
       "      <th>avatar</th>\n",
       "      <th>background_image</th>\n",
       "    </tr>\n",
       "  </thead>\n",
       "  <tbody>\n",
       "    <tr>\n",
       "      <th>0</th>\n",
       "      <td>409486555</td>\n",
       "      <td>Michelle Obama</td>\n",
       "      <td>MichelleObama</td>\n",
       "      <td>Girl from the South Side and former First Lady...</td>\n",
       "      <td>https://t.co/HPYP9ad13Y</td>\n",
       "      <td>2011-11-10 20:13:01 UTC</td>\n",
       "      <td>2011-11-10</td>\n",
       "      <td>20:13:01 UTC</td>\n",
       "      <td>1770</td>\n",
       "      <td>Washington, DC</td>\n",
       "      <td>16</td>\n",
       "      <td>20854298</td>\n",
       "      <td>184</td>\n",
       "      <td>461</td>\n",
       "      <td>False</td>\n",
       "      <td>True</td>\n",
       "      <td>https://pbs.twimg.com/profile_images/136674780...</td>\n",
       "      <td>https://pbs.twimg.com/profile_banners/40948655...</td>\n",
       "    </tr>\n",
       "    <tr>\n",
       "      <th>1</th>\n",
       "      <td>19397785</td>\n",
       "      <td>Oprah Winfrey</td>\n",
       "      <td>Oprah</td>\n",
       "      <td>NaN</td>\n",
       "      <td>https://t.co/IKOnfAha8E</td>\n",
       "      <td>2009-01-23 15:18:34 UTC</td>\n",
       "      <td>2009-01-23</td>\n",
       "      <td>15:18:34 UTC</td>\n",
       "      <td>13388</td>\n",
       "      <td>NaN</td>\n",
       "      <td>323</td>\n",
       "      <td>43197469</td>\n",
       "      <td>224</td>\n",
       "      <td>951</td>\n",
       "      <td>False</td>\n",
       "      <td>True</td>\n",
       "      <td>https://pbs.twimg.com/profile_images/112335936...</td>\n",
       "      <td>https://pbs.twimg.com/profile_banners/19397785...</td>\n",
       "    </tr>\n",
       "    <tr>\n",
       "      <th>2</th>\n",
       "      <td>21447363</td>\n",
       "      <td>KATY PERRY</td>\n",
       "      <td>katyperry</td>\n",
       "      <td>Love. Light.</td>\n",
       "      <td>https://t.co/Rrwt0Kj2Q7</td>\n",
       "      <td>2009-02-20 23:45:56 UTC</td>\n",
       "      <td>2009-02-20</td>\n",
       "      <td>23:45:56 UTC</td>\n",
       "      <td>11420</td>\n",
       "      <td>NaN</td>\n",
       "      <td>235</td>\n",
       "      <td>108819032</td>\n",
       "      <td>7995</td>\n",
       "      <td>2170</td>\n",
       "      <td>False</td>\n",
       "      <td>True</td>\n",
       "      <td>https://pbs.twimg.com/profile_images/139246535...</td>\n",
       "      <td>https://pbs.twimg.com/profile_banners/21447363...</td>\n",
       "    </tr>\n",
       "    <tr>\n",
       "      <th>3</th>\n",
       "      <td>14230524</td>\n",
       "      <td>Lady Gaga</td>\n",
       "      <td>ladygaga</td>\n",
       "      <td>“Chromatica” ⚔️💓 OUT NOW https://t.co/dgVb2x2V...</td>\n",
       "      <td>https://t.co/r5yRJxteLd</td>\n",
       "      <td>2008-03-26 22:37:48 UTC</td>\n",
       "      <td>2008-03-26</td>\n",
       "      <td>22:37:48 UTC</td>\n",
       "      <td>9519</td>\n",
       "      <td>NaN</td>\n",
       "      <td>119314</td>\n",
       "      <td>83675119</td>\n",
       "      <td>2310</td>\n",
       "      <td>1795</td>\n",
       "      <td>False</td>\n",
       "      <td>True</td>\n",
       "      <td>https://pbs.twimg.com/profile_images/142258922...</td>\n",
       "      <td>https://pbs.twimg.com/profile_banners/14230524...</td>\n",
       "    </tr>\n",
       "    <tr>\n",
       "      <th>4</th>\n",
       "      <td>16409683</td>\n",
       "      <td>Britney Spears</td>\n",
       "      <td>britneyspears</td>\n",
       "      <td>NaN</td>\n",
       "      <td>https://t.co/v9ZAAXrNtg</td>\n",
       "      <td>2008-09-22 20:47:35 UTC</td>\n",
       "      <td>2008-09-22</td>\n",
       "      <td>20:47:35 UTC</td>\n",
       "      <td>5716</td>\n",
       "      <td>Los Angeles, CA</td>\n",
       "      <td>367095</td>\n",
       "      <td>55569235</td>\n",
       "      <td>2539</td>\n",
       "      <td>1362</td>\n",
       "      <td>False</td>\n",
       "      <td>True</td>\n",
       "      <td>https://pbs.twimg.com/profile_images/132341880...</td>\n",
       "      <td>https://pbs.twimg.com/profile_banners/16409683...</td>\n",
       "    </tr>\n",
       "  </tbody>\n",
       "</table>\n",
       "</div>"
      ],
      "text/plain": [
       "          id            name       username  \\\n",
       "0  409486555  Michelle Obama  MichelleObama   \n",
       "1   19397785   Oprah Winfrey          Oprah   \n",
       "2   21447363      KATY PERRY      katyperry   \n",
       "3   14230524       Lady Gaga       ladygaga   \n",
       "4   16409683  Britney Spears  britneyspears   \n",
       "\n",
       "                                                 bio                      url  \\\n",
       "0  Girl from the South Side and former First Lady...  https://t.co/HPYP9ad13Y   \n",
       "1                                                NaN  https://t.co/IKOnfAha8E   \n",
       "2                                       Love. Light.  https://t.co/Rrwt0Kj2Q7   \n",
       "3  “Chromatica” ⚔️💓 OUT NOW https://t.co/dgVb2x2V...  https://t.co/r5yRJxteLd   \n",
       "4                                                NaN  https://t.co/v9ZAAXrNtg   \n",
       "\n",
       "             join_datetime   join_date     join_time  tweets         location  \\\n",
       "0  2011-11-10 20:13:01 UTC  2011-11-10  20:13:01 UTC    1770   Washington, DC   \n",
       "1  2009-01-23 15:18:34 UTC  2009-01-23  15:18:34 UTC   13388              NaN   \n",
       "2  2009-02-20 23:45:56 UTC  2009-02-20  23:45:56 UTC   11420              NaN   \n",
       "3  2008-03-26 22:37:48 UTC  2008-03-26  22:37:48 UTC    9519              NaN   \n",
       "4  2008-09-22 20:47:35 UTC  2008-09-22  20:47:35 UTC    5716  Los Angeles, CA   \n",
       "\n",
       "   following  followers  likes  media private verified  \\\n",
       "0         16   20854298    184    461   False     True   \n",
       "1        323   43197469    224    951   False     True   \n",
       "2        235  108819032   7995   2170   False     True   \n",
       "3     119314   83675119   2310   1795   False     True   \n",
       "4     367095   55569235   2539   1362   False     True   \n",
       "\n",
       "                                              avatar  \\\n",
       "0  https://pbs.twimg.com/profile_images/136674780...   \n",
       "1  https://pbs.twimg.com/profile_images/112335936...   \n",
       "2  https://pbs.twimg.com/profile_images/139246535...   \n",
       "3  https://pbs.twimg.com/profile_images/142258922...   \n",
       "4  https://pbs.twimg.com/profile_images/132341880...   \n",
       "\n",
       "                                    background_image  \n",
       "0  https://pbs.twimg.com/profile_banners/40948655...  \n",
       "1  https://pbs.twimg.com/profile_banners/19397785...  \n",
       "2  https://pbs.twimg.com/profile_banners/21447363...  \n",
       "3  https://pbs.twimg.com/profile_banners/14230524...  \n",
       "4  https://pbs.twimg.com/profile_banners/16409683...  "
      ]
     },
     "execution_count": 3,
     "metadata": {},
     "output_type": "execute_result"
    }
   ],
   "source": [
    "users.head()"
   ]
  },
  {
   "cell_type": "code",
   "execution_count": 4,
   "metadata": {},
   "outputs": [
    {
     "data": {
      "text/html": [
       "<div>\n",
       "<style scoped>\n",
       "    .dataframe tbody tr th:only-of-type {\n",
       "        vertical-align: middle;\n",
       "    }\n",
       "\n",
       "    .dataframe tbody tr th {\n",
       "        vertical-align: top;\n",
       "    }\n",
       "\n",
       "    .dataframe thead th {\n",
       "        text-align: right;\n",
       "    }\n",
       "</style>\n",
       "<table border=\"1\" class=\"dataframe\">\n",
       "  <thead>\n",
       "    <tr style=\"text-align: right;\">\n",
       "      <th></th>\n",
       "      <th>id</th>\n",
       "      <th>conversation_id</th>\n",
       "      <th>created_at</th>\n",
       "      <th>date</th>\n",
       "      <th>timezone</th>\n",
       "      <th>place</th>\n",
       "      <th>tweet</th>\n",
       "      <th>language</th>\n",
       "      <th>hashtags</th>\n",
       "      <th>cashtags</th>\n",
       "      <th>user_id</th>\n",
       "      <th>user_id_str</th>\n",
       "      <th>username</th>\n",
       "      <th>name</th>\n",
       "      <th>day</th>\n",
       "      <th>hour</th>\n",
       "      <th>link</th>\n",
       "      <th>urls</th>\n",
       "      <th>photos</th>\n",
       "      <th>video</th>\n",
       "      <th>thumbnail</th>\n",
       "      <th>retweet</th>\n",
       "      <th>nlikes</th>\n",
       "      <th>nreplies</th>\n",
       "      <th>nretweets</th>\n",
       "      <th>quote_url</th>\n",
       "      <th>search</th>\n",
       "      <th>near</th>\n",
       "      <th>geo</th>\n",
       "      <th>source</th>\n",
       "      <th>user_rt_id</th>\n",
       "      <th>user_rt</th>\n",
       "      <th>retweet_id</th>\n",
       "      <th>reply_to</th>\n",
       "      <th>retweet_date</th>\n",
       "      <th>translate</th>\n",
       "      <th>trans_src</th>\n",
       "      <th>trans_dest</th>\n",
       "    </tr>\n",
       "  </thead>\n",
       "  <tbody>\n",
       "    <tr>\n",
       "      <th>0</th>\n",
       "      <td>1425590913959612419</td>\n",
       "      <td>1425590913959612419</td>\n",
       "      <td>1.628722e+12</td>\n",
       "      <td>2021-08-12 00:52:14</td>\n",
       "      <td>200</td>\n",
       "      <td>NaN</td>\n",
       "      <td>RT @girlsalliance: We're so proud of the four ...</td>\n",
       "      <td>en</td>\n",
       "      <td>[]</td>\n",
       "      <td>[]</td>\n",
       "      <td>409486555</td>\n",
       "      <td>409486555</td>\n",
       "      <td>MichelleObama</td>\n",
       "      <td>Michelle Obama</td>\n",
       "      <td>4</td>\n",
       "      <td>0</td>\n",
       "      <td>https://twitter.com/MichelleObama/status/14255...</td>\n",
       "      <td>[]</td>\n",
       "      <td>[]</td>\n",
       "      <td>0</td>\n",
       "      <td>NaN</td>\n",
       "      <td>True</td>\n",
       "      <td>0</td>\n",
       "      <td>0</td>\n",
       "      <td>232</td>\n",
       "      <td>0</td>\n",
       "      <td>None</td>\n",
       "      <td>NaN</td>\n",
       "      <td>NaN</td>\n",
       "      <td>NaN</td>\n",
       "      <td>1.047165e+18</td>\n",
       "      <td>We're so proud of the four organizations in ou...</td>\n",
       "      <td>1.425590e+18</td>\n",
       "      <td>[]</td>\n",
       "      <td>2021-08-12 00:46:58 CEST</td>\n",
       "      <td>NaN</td>\n",
       "      <td>NaN</td>\n",
       "      <td>NaN</td>\n",
       "    </tr>\n",
       "    <tr>\n",
       "      <th>1</th>\n",
       "      <td>1427736867739299841</td>\n",
       "      <td>1427736867739299841</td>\n",
       "      <td>1.629234e+12</td>\n",
       "      <td>2021-08-17 22:59:29</td>\n",
       "      <td>200</td>\n",
       "      <td>NaN</td>\n",
       "      <td>Some casual suggestions to 😏SLIDE😏 into when u...</td>\n",
       "      <td>en</td>\n",
       "      <td>['shoesdaytuesday', 'afterskewlslide']</td>\n",
       "      <td>[]</td>\n",
       "      <td>21447363</td>\n",
       "      <td>21447363</td>\n",
       "      <td>katyperry</td>\n",
       "      <td>KATY PERRY</td>\n",
       "      <td>2</td>\n",
       "      <td>22</td>\n",
       "      <td>https://twitter.com/katyperry/status/142773686...</td>\n",
       "      <td>[]</td>\n",
       "      <td>['https://pbs.twimg.com/media/E9BXG4YVkAAl3_A....</td>\n",
       "      <td>1</td>\n",
       "      <td>https://pbs.twimg.com/media/E9BXG4YVkAAl3_A.jpg</td>\n",
       "      <td>False</td>\n",
       "      <td>5266</td>\n",
       "      <td>368</td>\n",
       "      <td>408</td>\n",
       "      <td>0</td>\n",
       "      <td>None</td>\n",
       "      <td>NaN</td>\n",
       "      <td>NaN</td>\n",
       "      <td>NaN</td>\n",
       "      <td>NaN</td>\n",
       "      <td>NaN</td>\n",
       "      <td>NaN</td>\n",
       "      <td>[]</td>\n",
       "      <td>NaN</td>\n",
       "      <td>NaN</td>\n",
       "      <td>NaN</td>\n",
       "      <td>NaN</td>\n",
       "    </tr>\n",
       "    <tr>\n",
       "      <th>2</th>\n",
       "      <td>1427667300488937476</td>\n",
       "      <td>1427667300488937476</td>\n",
       "      <td>1.629217e+12</td>\n",
       "      <td>2021-08-17 18:23:03</td>\n",
       "      <td>200</td>\n",
       "      <td>NaN</td>\n",
       "      <td>RT @ValaAfshar: You are not your job.</td>\n",
       "      <td>en</td>\n",
       "      <td>[]</td>\n",
       "      <td>[]</td>\n",
       "      <td>21447363</td>\n",
       "      <td>21447363</td>\n",
       "      <td>katyperry</td>\n",
       "      <td>KATY PERRY</td>\n",
       "      <td>2</td>\n",
       "      <td>18</td>\n",
       "      <td>https://twitter.com/katyperry/status/142766730...</td>\n",
       "      <td>[]</td>\n",
       "      <td>[]</td>\n",
       "      <td>0</td>\n",
       "      <td>NaN</td>\n",
       "      <td>True</td>\n",
       "      <td>0</td>\n",
       "      <td>0</td>\n",
       "      <td>764</td>\n",
       "      <td>0</td>\n",
       "      <td>None</td>\n",
       "      <td>NaN</td>\n",
       "      <td>NaN</td>\n",
       "      <td>NaN</td>\n",
       "      <td>2.597252e+08</td>\n",
       "      <td>You are not your job.</td>\n",
       "      <td>1.427648e+18</td>\n",
       "      <td>[]</td>\n",
       "      <td>2021-08-17 17:05:53 CEST</td>\n",
       "      <td>NaN</td>\n",
       "      <td>NaN</td>\n",
       "      <td>NaN</td>\n",
       "    </tr>\n",
       "    <tr>\n",
       "      <th>3</th>\n",
       "      <td>1427667012105371652</td>\n",
       "      <td>1427667012105371652</td>\n",
       "      <td>1.629217e+12</td>\n",
       "      <td>2021-08-17 18:21:55</td>\n",
       "      <td>200</td>\n",
       "      <td>NaN</td>\n",
       "      <td>What have we become 😔😂  Toddler Cites Freedom ...</td>\n",
       "      <td>en</td>\n",
       "      <td>[]</td>\n",
       "      <td>[]</td>\n",
       "      <td>21447363</td>\n",
       "      <td>21447363</td>\n",
       "      <td>katyperry</td>\n",
       "      <td>KATY PERRY</td>\n",
       "      <td>2</td>\n",
       "      <td>18</td>\n",
       "      <td>https://twitter.com/katyperry/status/142766701...</td>\n",
       "      <td>['https://www.theonion.com/toddler-cites-freed...</td>\n",
       "      <td>[]</td>\n",
       "      <td>0</td>\n",
       "      <td>NaN</td>\n",
       "      <td>False</td>\n",
       "      <td>5638</td>\n",
       "      <td>476</td>\n",
       "      <td>438</td>\n",
       "      <td>0</td>\n",
       "      <td>None</td>\n",
       "      <td>NaN</td>\n",
       "      <td>NaN</td>\n",
       "      <td>NaN</td>\n",
       "      <td>NaN</td>\n",
       "      <td>NaN</td>\n",
       "      <td>NaN</td>\n",
       "      <td>[]</td>\n",
       "      <td>NaN</td>\n",
       "      <td>NaN</td>\n",
       "      <td>NaN</td>\n",
       "      <td>NaN</td>\n",
       "    </tr>\n",
       "    <tr>\n",
       "      <th>4</th>\n",
       "      <td>1427497703596990467</td>\n",
       "      <td>1427497703596990467</td>\n",
       "      <td>1.629177e+12</td>\n",
       "      <td>2021-08-17 07:09:08</td>\n",
       "      <td>200</td>\n",
       "      <td>NaN</td>\n",
       "      <td>The tech giants that refuse to massively addre...</td>\n",
       "      <td>en</td>\n",
       "      <td>[]</td>\n",
       "      <td>[]</td>\n",
       "      <td>21447363</td>\n",
       "      <td>21447363</td>\n",
       "      <td>katyperry</td>\n",
       "      <td>KATY PERRY</td>\n",
       "      <td>2</td>\n",
       "      <td>7</td>\n",
       "      <td>https://twitter.com/katyperry/status/142749770...</td>\n",
       "      <td>[]</td>\n",
       "      <td>[]</td>\n",
       "      <td>0</td>\n",
       "      <td>NaN</td>\n",
       "      <td>False</td>\n",
       "      <td>8810</td>\n",
       "      <td>546</td>\n",
       "      <td>1211</td>\n",
       "      <td>https://twitter.com/VICENews/status/1427311204...</td>\n",
       "      <td>None</td>\n",
       "      <td>NaN</td>\n",
       "      <td>NaN</td>\n",
       "      <td>NaN</td>\n",
       "      <td>NaN</td>\n",
       "      <td>NaN</td>\n",
       "      <td>NaN</td>\n",
       "      <td>[]</td>\n",
       "      <td>NaN</td>\n",
       "      <td>NaN</td>\n",
       "      <td>NaN</td>\n",
       "      <td>NaN</td>\n",
       "    </tr>\n",
       "  </tbody>\n",
       "</table>\n",
       "</div>"
      ],
      "text/plain": [
       "                    id      conversation_id    created_at                date  \\\n",
       "0  1425590913959612419  1425590913959612419  1.628722e+12 2021-08-12 00:52:14   \n",
       "1  1427736867739299841  1427736867739299841  1.629234e+12 2021-08-17 22:59:29   \n",
       "2  1427667300488937476  1427667300488937476  1.629217e+12 2021-08-17 18:23:03   \n",
       "3  1427667012105371652  1427667012105371652  1.629217e+12 2021-08-17 18:21:55   \n",
       "4  1427497703596990467  1427497703596990467  1.629177e+12 2021-08-17 07:09:08   \n",
       "\n",
       "   timezone place                                              tweet language  \\\n",
       "0       200   NaN  RT @girlsalliance: We're so proud of the four ...       en   \n",
       "1       200   NaN  Some casual suggestions to 😏SLIDE😏 into when u...       en   \n",
       "2       200   NaN              RT @ValaAfshar: You are not your job.       en   \n",
       "3       200   NaN  What have we become 😔😂  Toddler Cites Freedom ...       en   \n",
       "4       200   NaN  The tech giants that refuse to massively addre...       en   \n",
       "\n",
       "                                 hashtags cashtags    user_id  user_id_str  \\\n",
       "0                                      []       []  409486555    409486555   \n",
       "1  ['shoesdaytuesday', 'afterskewlslide']       []   21447363     21447363   \n",
       "2                                      []       []   21447363     21447363   \n",
       "3                                      []       []   21447363     21447363   \n",
       "4                                      []       []   21447363     21447363   \n",
       "\n",
       "        username            name  day  hour  \\\n",
       "0  MichelleObama  Michelle Obama    4     0   \n",
       "1      katyperry      KATY PERRY    2    22   \n",
       "2      katyperry      KATY PERRY    2    18   \n",
       "3      katyperry      KATY PERRY    2    18   \n",
       "4      katyperry      KATY PERRY    2     7   \n",
       "\n",
       "                                                link  \\\n",
       "0  https://twitter.com/MichelleObama/status/14255...   \n",
       "1  https://twitter.com/katyperry/status/142773686...   \n",
       "2  https://twitter.com/katyperry/status/142766730...   \n",
       "3  https://twitter.com/katyperry/status/142766701...   \n",
       "4  https://twitter.com/katyperry/status/142749770...   \n",
       "\n",
       "                                                urls  \\\n",
       "0                                                 []   \n",
       "1                                                 []   \n",
       "2                                                 []   \n",
       "3  ['https://www.theonion.com/toddler-cites-freed...   \n",
       "4                                                 []   \n",
       "\n",
       "                                              photos  video  \\\n",
       "0                                                 []      0   \n",
       "1  ['https://pbs.twimg.com/media/E9BXG4YVkAAl3_A....      1   \n",
       "2                                                 []      0   \n",
       "3                                                 []      0   \n",
       "4                                                 []      0   \n",
       "\n",
       "                                         thumbnail  retweet  nlikes  nreplies  \\\n",
       "0                                              NaN     True       0         0   \n",
       "1  https://pbs.twimg.com/media/E9BXG4YVkAAl3_A.jpg    False    5266       368   \n",
       "2                                              NaN     True       0         0   \n",
       "3                                              NaN    False    5638       476   \n",
       "4                                              NaN    False    8810       546   \n",
       "\n",
       "   nretweets                                          quote_url search  near  \\\n",
       "0        232                                                  0   None   NaN   \n",
       "1        408                                                  0   None   NaN   \n",
       "2        764                                                  0   None   NaN   \n",
       "3        438                                                  0   None   NaN   \n",
       "4       1211  https://twitter.com/VICENews/status/1427311204...   None   NaN   \n",
       "\n",
       "   geo  source    user_rt_id  \\\n",
       "0  NaN     NaN  1.047165e+18   \n",
       "1  NaN     NaN           NaN   \n",
       "2  NaN     NaN  2.597252e+08   \n",
       "3  NaN     NaN           NaN   \n",
       "4  NaN     NaN           NaN   \n",
       "\n",
       "                                             user_rt    retweet_id reply_to  \\\n",
       "0  We're so proud of the four organizations in ou...  1.425590e+18       []   \n",
       "1                                                NaN           NaN       []   \n",
       "2                              You are not your job.  1.427648e+18       []   \n",
       "3                                                NaN           NaN       []   \n",
       "4                                                NaN           NaN       []   \n",
       "\n",
       "               retweet_date  translate  trans_src  trans_dest  \n",
       "0  2021-08-12 00:46:58 CEST        NaN        NaN         NaN  \n",
       "1                       NaN        NaN        NaN         NaN  \n",
       "2  2021-08-17 17:05:53 CEST        NaN        NaN         NaN  \n",
       "3                       NaN        NaN        NaN         NaN  \n",
       "4                       NaN        NaN        NaN         NaN  "
      ]
     },
     "execution_count": 4,
     "metadata": {},
     "output_type": "execute_result"
    }
   ],
   "source": [
    "tweets.head()"
   ]
  },
  {
   "cell_type": "code",
   "execution_count": 5,
   "metadata": {},
   "outputs": [
    {
     "name": "stdout",
     "output_type": "stream",
     "text": [
      "(1246, 18) 1226\n",
      "(40581, 38) 40581\n"
     ]
    }
   ],
   "source": [
    "print(users.shape, users.id.nunique())\n",
    "print(tweets.shape, tweets.id.nunique())"
   ]
  },
  {
   "cell_type": "markdown",
   "metadata": {},
   "source": [
    "Ya vemos que en nuestros datos de los usuarios tenemos algún duplicado - vamos a quitarlo ya, guardando el la ultima fila ordenando por el numero de follows (supongo que followers crece en el tiempo, no?)."
   ]
  },
  {
   "cell_type": "code",
   "execution_count": 6,
   "metadata": {},
   "outputs": [],
   "source": [
    "users = users.sort_values('followers').drop_duplicates(subset=['id'], keep='last').reset_index(drop=True)"
   ]
  },
  {
   "cell_type": "code",
   "execution_count": 7,
   "metadata": {},
   "outputs": [
    {
     "name": "stdout",
     "output_type": "stream",
     "text": [
      "(1226, 18) 1226\n"
     ]
    }
   ],
   "source": [
    "print(users.shape, users.id.nunique())"
   ]
  },
  {
   "cell_type": "markdown",
   "metadata": {},
   "source": [
    "## Lo basico de los datos\n",
    "Tenemos muchas columnas y muchas seguramente no son interesantes. Vamos a ver primero el `info` de las columnas - ya estoy copiando a vosotros."
   ]
  },
  {
   "cell_type": "code",
   "execution_count": 8,
   "metadata": {},
   "outputs": [
    {
     "name": "stdout",
     "output_type": "stream",
     "text": [
      "<class 'pandas.core.frame.DataFrame'>\n",
      "RangeIndex: 1226 entries, 0 to 1225\n",
      "Data columns (total 18 columns):\n",
      " #   Column            Non-Null Count  Dtype \n",
      "---  ------            --------------  ----- \n",
      " 0   id                1226 non-null   int64 \n",
      " 1   name              1209 non-null   object\n",
      " 2   username          1209 non-null   object\n",
      " 3   bio               1099 non-null   object\n",
      " 4   url               991 non-null    object\n",
      " 5   join_datetime     1226 non-null   object\n",
      " 6   join_date         1209 non-null   object\n",
      " 7   join_time         1209 non-null   object\n",
      " 8   tweets            1226 non-null   int64 \n",
      " 9   location          825 non-null    object\n",
      " 10  following         1226 non-null   int64 \n",
      " 11  followers         1226 non-null   int64 \n",
      " 12  likes             1226 non-null   int64 \n",
      " 13  media             1226 non-null   int64 \n",
      " 14  private           1209 non-null   object\n",
      " 15  verified          1209 non-null   object\n",
      " 16  avatar            1209 non-null   object\n",
      " 17  background_image  1099 non-null   object\n",
      "dtypes: int64(6), object(12)\n",
      "memory usage: 172.5+ KB\n"
     ]
    }
   ],
   "source": [
    "users.info()"
   ]
  },
  {
   "cell_type": "code",
   "execution_count": 9,
   "metadata": {},
   "outputs": [
    {
     "name": "stdout",
     "output_type": "stream",
     "text": [
      "<class 'pandas.core.frame.DataFrame'>\n",
      "RangeIndex: 40581 entries, 0 to 40580\n",
      "Data columns (total 38 columns):\n",
      " #   Column           Non-Null Count  Dtype         \n",
      "---  ------           --------------  -----         \n",
      " 0   id               40581 non-null  int64         \n",
      " 1   conversation_id  40581 non-null  int64         \n",
      " 2   created_at       40581 non-null  float64       \n",
      " 3   date             40581 non-null  datetime64[ns]\n",
      " 4   timezone         40581 non-null  int64         \n",
      " 5   place            34 non-null     object        \n",
      " 6   tweet            40581 non-null  object        \n",
      " 7   language         40581 non-null  object        \n",
      " 8   hashtags         40581 non-null  object        \n",
      " 9   cashtags         40581 non-null  object        \n",
      " 10  user_id          40581 non-null  int64         \n",
      " 11  user_id_str      40581 non-null  int64         \n",
      " 12  username         40581 non-null  object        \n",
      " 13  name             40581 non-null  object        \n",
      " 14  day              40581 non-null  int64         \n",
      " 15  hour             40581 non-null  int64         \n",
      " 16  link             40581 non-null  object        \n",
      " 17  urls             40581 non-null  object        \n",
      " 18  photos           40581 non-null  object        \n",
      " 19  video            40581 non-null  int64         \n",
      " 20  thumbnail        9155 non-null   object        \n",
      " 21  retweet          40581 non-null  bool          \n",
      " 22  nlikes           40581 non-null  int64         \n",
      " 23  nreplies         40581 non-null  int64         \n",
      " 24  nretweets        40581 non-null  int64         \n",
      " 25  quote_url        40581 non-null  object        \n",
      " 26  search           40581 non-null  object        \n",
      " 27  near             0 non-null      float64       \n",
      " 28  geo              0 non-null      float64       \n",
      " 29  source           0 non-null      float64       \n",
      " 30  user_rt_id       6147 non-null   float64       \n",
      " 31  user_rt          6147 non-null   object        \n",
      " 32  retweet_id       6147 non-null   float64       \n",
      " 33  reply_to         40581 non-null  object        \n",
      " 34  retweet_date     6147 non-null   object        \n",
      " 35  translate        0 non-null      float64       \n",
      " 36  trans_src        0 non-null      float64       \n",
      " 37  trans_dest       0 non-null      float64       \n",
      "dtypes: bool(1), datetime64[ns](1), float64(9), int64(11), object(16)\n",
      "memory usage: 11.5+ MB\n"
     ]
    }
   ],
   "source": [
    "tweets.info()"
   ]
  },
  {
   "cell_type": "code",
   "execution_count": 10,
   "metadata": {},
   "outputs": [
    {
     "data": {
      "text/plain": [
       "id                  1226\n",
       "name                1209\n",
       "username            1209\n",
       "bio                 1099\n",
       "url                  987\n",
       "join_datetime       1210\n",
       "join_date            806\n",
       "join_time           1204\n",
       "tweets              1155\n",
       "location             517\n",
       "following            838\n",
       "followers           1201\n",
       "likes                931\n",
       "media               1045\n",
       "private                2\n",
       "verified               2\n",
       "avatar              1190\n",
       "background_image    1099\n",
       "dtype: int64"
      ]
     },
     "execution_count": 10,
     "metadata": {},
     "output_type": "execute_result"
    }
   ],
   "source": [
    "users.nunique()"
   ]
  },
  {
   "cell_type": "code",
   "execution_count": 11,
   "metadata": {},
   "outputs": [
    {
     "data": {
      "text/plain": [
       "id                 40581\n",
       "conversation_id    37273\n",
       "created_at         36756\n",
       "date               36756\n",
       "timezone               1\n",
       "place                 22\n",
       "tweet              40026\n",
       "language              40\n",
       "hashtags            2561\n",
       "cashtags               4\n",
       "user_id              847\n",
       "user_id_str          847\n",
       "username             847\n",
       "name                 847\n",
       "day                    7\n",
       "hour                  24\n",
       "link               40581\n",
       "urls               19576\n",
       "photos              5344\n",
       "video                  2\n",
       "thumbnail           8661\n",
       "retweet                2\n",
       "nlikes              4573\n",
       "nreplies            1258\n",
       "nretweets           2281\n",
       "quote_url           2446\n",
       "search                 1\n",
       "near                   0\n",
       "geo                    0\n",
       "source                 0\n",
       "user_rt_id          3559\n",
       "user_rt             6046\n",
       "retweet_id          6047\n",
       "reply_to            3576\n",
       "retweet_date        5972\n",
       "translate              0\n",
       "trans_src              0\n",
       "trans_dest             0\n",
       "dtype: int64"
      ]
     },
     "execution_count": 11,
     "metadata": {},
     "output_type": "execute_result"
    }
   ],
   "source": [
    "tweets.nunique()"
   ]
  },
  {
   "cell_type": "code",
   "execution_count": 12,
   "metadata": {},
   "outputs": [
    {
     "data": {
      "text/plain": [
       "id                  0.000000\n",
       "name                0.000000\n",
       "username            0.000000\n",
       "bio                 0.000000\n",
       "url                 0.000000\n",
       "join_datetime       0.013866\n",
       "join_date           0.000000\n",
       "join_time           0.000000\n",
       "tweets              0.000000\n",
       "location            0.001631\n",
       "following           0.000000\n",
       "followers           0.000000\n",
       "likes               0.000000\n",
       "media               0.000000\n",
       "private             0.000000\n",
       "verified            0.000000\n",
       "avatar              0.000000\n",
       "background_image    0.000000\n",
       "dtype: float64"
      ]
     },
     "execution_count": 12,
     "metadata": {},
     "output_type": "execute_result"
    }
   ],
   "source": [
    "(users.isin(['', ' '])).mean()"
   ]
  },
  {
   "cell_type": "markdown",
   "metadata": {},
   "source": [
    "Hay un par de columnas que son todos nulos y tambien algunas que solo tienen un valor unico. Mirando las columnas parece información que podria ser útil pero es lo que hay - seran cosas deprecadas del API.\n",
    "\n",
    "Tambien hay varias columnas de texto que por ahora no nos van a interesar - simplemente es un poco \"out of scope\"."
   ]
  },
  {
   "cell_type": "code",
   "execution_count": 13,
   "metadata": {},
   "outputs": [],
   "source": [
    "# A veces Pandas es horrible\n",
    "useless_cols = (tweets.nunique() < 2).reset_index().rename(columns = {0 : 'to_drop'}).query('to_drop')['index'].tolist()\n",
    "\n",
    "user_text_cols = ['username', 'name', 'bio', 'location', 'avatar', 'background_image', 'url', 'join_date', 'join_time']\n",
    "tweet_text_cols = ['user_id_str', 'username', 'name', 'link', 'user_rt', 'place']\n",
    "\n",
    "users = users.drop(user_text_cols, axis=1).reset_index(drop=True)\n",
    "tweets = tweets.drop(tweet_text_cols + useless_cols, axis=1).reset_index(drop=True)"
   ]
  },
  {
   "cell_type": "code",
   "execution_count": 14,
   "metadata": {},
   "outputs": [],
   "source": [
    "# Tambien vemos que hay una fecha vacia\n",
    "users.loc[users.join_datetime == ' ', 'join_datetime'] = np.NaN\n",
    "users['join_datetime'] = pd.to_datetime(users.join_datetime)"
   ]
  },
  {
   "cell_type": "code",
   "execution_count": 15,
   "metadata": {},
   "outputs": [
    {
     "data": {
      "text/html": [
       "<div>\n",
       "<style scoped>\n",
       "    .dataframe tbody tr th:only-of-type {\n",
       "        vertical-align: middle;\n",
       "    }\n",
       "\n",
       "    .dataframe tbody tr th {\n",
       "        vertical-align: top;\n",
       "    }\n",
       "\n",
       "    .dataframe thead th {\n",
       "        text-align: right;\n",
       "    }\n",
       "</style>\n",
       "<table border=\"1\" class=\"dataframe\">\n",
       "  <thead>\n",
       "    <tr style=\"text-align: right;\">\n",
       "      <th></th>\n",
       "      <th>id</th>\n",
       "      <th>join_datetime</th>\n",
       "      <th>tweets</th>\n",
       "      <th>following</th>\n",
       "      <th>followers</th>\n",
       "      <th>likes</th>\n",
       "      <th>media</th>\n",
       "      <th>private</th>\n",
       "      <th>verified</th>\n",
       "    </tr>\n",
       "  </thead>\n",
       "  <tbody>\n",
       "    <tr>\n",
       "      <th>0</th>\n",
       "      <td>1730144024</td>\n",
       "      <td>NaT</td>\n",
       "      <td>-1</td>\n",
       "      <td>-1</td>\n",
       "      <td>-1</td>\n",
       "      <td>-1</td>\n",
       "      <td>-1</td>\n",
       "      <td>NaN</td>\n",
       "      <td>NaN</td>\n",
       "    </tr>\n",
       "    <tr>\n",
       "      <th>1</th>\n",
       "      <td>960604713661222913</td>\n",
       "      <td>NaT</td>\n",
       "      <td>-1</td>\n",
       "      <td>-1</td>\n",
       "      <td>-1</td>\n",
       "      <td>-1</td>\n",
       "      <td>-1</td>\n",
       "      <td>NaN</td>\n",
       "      <td>NaN</td>\n",
       "    </tr>\n",
       "    <tr>\n",
       "      <th>2</th>\n",
       "      <td>4150039286</td>\n",
       "      <td>NaT</td>\n",
       "      <td>-1</td>\n",
       "      <td>-1</td>\n",
       "      <td>-1</td>\n",
       "      <td>-1</td>\n",
       "      <td>-1</td>\n",
       "      <td>NaN</td>\n",
       "      <td>NaN</td>\n",
       "    </tr>\n",
       "    <tr>\n",
       "      <th>3</th>\n",
       "      <td>61003804</td>\n",
       "      <td>NaT</td>\n",
       "      <td>-1</td>\n",
       "      <td>-1</td>\n",
       "      <td>-1</td>\n",
       "      <td>-1</td>\n",
       "      <td>-1</td>\n",
       "      <td>NaN</td>\n",
       "      <td>NaN</td>\n",
       "    </tr>\n",
       "    <tr>\n",
       "      <th>4</th>\n",
       "      <td>25073877</td>\n",
       "      <td>NaT</td>\n",
       "      <td>-1</td>\n",
       "      <td>-1</td>\n",
       "      <td>-1</td>\n",
       "      <td>-1</td>\n",
       "      <td>-1</td>\n",
       "      <td>NaN</td>\n",
       "      <td>NaN</td>\n",
       "    </tr>\n",
       "  </tbody>\n",
       "</table>\n",
       "</div>"
      ],
      "text/plain": [
       "                   id join_datetime  tweets  following  followers  likes  \\\n",
       "0          1730144024           NaT      -1         -1         -1     -1   \n",
       "1  960604713661222913           NaT      -1         -1         -1     -1   \n",
       "2          4150039286           NaT      -1         -1         -1     -1   \n",
       "3            61003804           NaT      -1         -1         -1     -1   \n",
       "4            25073877           NaT      -1         -1         -1     -1   \n",
       "\n",
       "   media private verified  \n",
       "0     -1     NaN      NaN  \n",
       "1     -1     NaN      NaN  \n",
       "2     -1     NaN      NaN  \n",
       "3     -1     NaN      NaN  \n",
       "4     -1     NaN      NaN  "
      ]
     },
     "execution_count": 15,
     "metadata": {},
     "output_type": "execute_result"
    }
   ],
   "source": [
    "users.head()"
   ]
  },
  {
   "cell_type": "code",
   "execution_count": 16,
   "metadata": {},
   "outputs": [
    {
     "data": {
      "text/html": [
       "<div>\n",
       "<style scoped>\n",
       "    .dataframe tbody tr th:only-of-type {\n",
       "        vertical-align: middle;\n",
       "    }\n",
       "\n",
       "    .dataframe tbody tr th {\n",
       "        vertical-align: top;\n",
       "    }\n",
       "\n",
       "    .dataframe thead th {\n",
       "        text-align: right;\n",
       "    }\n",
       "</style>\n",
       "<table border=\"1\" class=\"dataframe\">\n",
       "  <thead>\n",
       "    <tr style=\"text-align: right;\">\n",
       "      <th></th>\n",
       "      <th>id</th>\n",
       "      <th>conversation_id</th>\n",
       "      <th>created_at</th>\n",
       "      <th>date</th>\n",
       "      <th>tweet</th>\n",
       "      <th>language</th>\n",
       "      <th>hashtags</th>\n",
       "      <th>cashtags</th>\n",
       "      <th>user_id</th>\n",
       "      <th>day</th>\n",
       "      <th>hour</th>\n",
       "      <th>urls</th>\n",
       "      <th>photos</th>\n",
       "      <th>video</th>\n",
       "      <th>thumbnail</th>\n",
       "      <th>retweet</th>\n",
       "      <th>nlikes</th>\n",
       "      <th>nreplies</th>\n",
       "      <th>nretweets</th>\n",
       "      <th>quote_url</th>\n",
       "      <th>user_rt_id</th>\n",
       "      <th>retweet_id</th>\n",
       "      <th>reply_to</th>\n",
       "      <th>retweet_date</th>\n",
       "    </tr>\n",
       "  </thead>\n",
       "  <tbody>\n",
       "    <tr>\n",
       "      <th>0</th>\n",
       "      <td>1425590913959612419</td>\n",
       "      <td>1425590913959612419</td>\n",
       "      <td>1.628722e+12</td>\n",
       "      <td>2021-08-12 00:52:14</td>\n",
       "      <td>RT @girlsalliance: We're so proud of the four ...</td>\n",
       "      <td>en</td>\n",
       "      <td>[]</td>\n",
       "      <td>[]</td>\n",
       "      <td>409486555</td>\n",
       "      <td>4</td>\n",
       "      <td>0</td>\n",
       "      <td>[]</td>\n",
       "      <td>[]</td>\n",
       "      <td>0</td>\n",
       "      <td>NaN</td>\n",
       "      <td>True</td>\n",
       "      <td>0</td>\n",
       "      <td>0</td>\n",
       "      <td>232</td>\n",
       "      <td>0</td>\n",
       "      <td>1.047165e+18</td>\n",
       "      <td>1.425590e+18</td>\n",
       "      <td>[]</td>\n",
       "      <td>2021-08-12 00:46:58 CEST</td>\n",
       "    </tr>\n",
       "    <tr>\n",
       "      <th>1</th>\n",
       "      <td>1427736867739299841</td>\n",
       "      <td>1427736867739299841</td>\n",
       "      <td>1.629234e+12</td>\n",
       "      <td>2021-08-17 22:59:29</td>\n",
       "      <td>Some casual suggestions to 😏SLIDE😏 into when u...</td>\n",
       "      <td>en</td>\n",
       "      <td>['shoesdaytuesday', 'afterskewlslide']</td>\n",
       "      <td>[]</td>\n",
       "      <td>21447363</td>\n",
       "      <td>2</td>\n",
       "      <td>22</td>\n",
       "      <td>[]</td>\n",
       "      <td>['https://pbs.twimg.com/media/E9BXG4YVkAAl3_A....</td>\n",
       "      <td>1</td>\n",
       "      <td>https://pbs.twimg.com/media/E9BXG4YVkAAl3_A.jpg</td>\n",
       "      <td>False</td>\n",
       "      <td>5266</td>\n",
       "      <td>368</td>\n",
       "      <td>408</td>\n",
       "      <td>0</td>\n",
       "      <td>NaN</td>\n",
       "      <td>NaN</td>\n",
       "      <td>[]</td>\n",
       "      <td>NaN</td>\n",
       "    </tr>\n",
       "    <tr>\n",
       "      <th>2</th>\n",
       "      <td>1427667300488937476</td>\n",
       "      <td>1427667300488937476</td>\n",
       "      <td>1.629217e+12</td>\n",
       "      <td>2021-08-17 18:23:03</td>\n",
       "      <td>RT @ValaAfshar: You are not your job.</td>\n",
       "      <td>en</td>\n",
       "      <td>[]</td>\n",
       "      <td>[]</td>\n",
       "      <td>21447363</td>\n",
       "      <td>2</td>\n",
       "      <td>18</td>\n",
       "      <td>[]</td>\n",
       "      <td>[]</td>\n",
       "      <td>0</td>\n",
       "      <td>NaN</td>\n",
       "      <td>True</td>\n",
       "      <td>0</td>\n",
       "      <td>0</td>\n",
       "      <td>764</td>\n",
       "      <td>0</td>\n",
       "      <td>2.597252e+08</td>\n",
       "      <td>1.427648e+18</td>\n",
       "      <td>[]</td>\n",
       "      <td>2021-08-17 17:05:53 CEST</td>\n",
       "    </tr>\n",
       "    <tr>\n",
       "      <th>3</th>\n",
       "      <td>1427667012105371652</td>\n",
       "      <td>1427667012105371652</td>\n",
       "      <td>1.629217e+12</td>\n",
       "      <td>2021-08-17 18:21:55</td>\n",
       "      <td>What have we become 😔😂  Toddler Cites Freedom ...</td>\n",
       "      <td>en</td>\n",
       "      <td>[]</td>\n",
       "      <td>[]</td>\n",
       "      <td>21447363</td>\n",
       "      <td>2</td>\n",
       "      <td>18</td>\n",
       "      <td>['https://www.theonion.com/toddler-cites-freed...</td>\n",
       "      <td>[]</td>\n",
       "      <td>0</td>\n",
       "      <td>NaN</td>\n",
       "      <td>False</td>\n",
       "      <td>5638</td>\n",
       "      <td>476</td>\n",
       "      <td>438</td>\n",
       "      <td>0</td>\n",
       "      <td>NaN</td>\n",
       "      <td>NaN</td>\n",
       "      <td>[]</td>\n",
       "      <td>NaN</td>\n",
       "    </tr>\n",
       "    <tr>\n",
       "      <th>4</th>\n",
       "      <td>1427497703596990467</td>\n",
       "      <td>1427497703596990467</td>\n",
       "      <td>1.629177e+12</td>\n",
       "      <td>2021-08-17 07:09:08</td>\n",
       "      <td>The tech giants that refuse to massively addre...</td>\n",
       "      <td>en</td>\n",
       "      <td>[]</td>\n",
       "      <td>[]</td>\n",
       "      <td>21447363</td>\n",
       "      <td>2</td>\n",
       "      <td>7</td>\n",
       "      <td>[]</td>\n",
       "      <td>[]</td>\n",
       "      <td>0</td>\n",
       "      <td>NaN</td>\n",
       "      <td>False</td>\n",
       "      <td>8810</td>\n",
       "      <td>546</td>\n",
       "      <td>1211</td>\n",
       "      <td>https://twitter.com/VICENews/status/1427311204...</td>\n",
       "      <td>NaN</td>\n",
       "      <td>NaN</td>\n",
       "      <td>[]</td>\n",
       "      <td>NaN</td>\n",
       "    </tr>\n",
       "  </tbody>\n",
       "</table>\n",
       "</div>"
      ],
      "text/plain": [
       "                    id      conversation_id    created_at                date  \\\n",
       "0  1425590913959612419  1425590913959612419  1.628722e+12 2021-08-12 00:52:14   \n",
       "1  1427736867739299841  1427736867739299841  1.629234e+12 2021-08-17 22:59:29   \n",
       "2  1427667300488937476  1427667300488937476  1.629217e+12 2021-08-17 18:23:03   \n",
       "3  1427667012105371652  1427667012105371652  1.629217e+12 2021-08-17 18:21:55   \n",
       "4  1427497703596990467  1427497703596990467  1.629177e+12 2021-08-17 07:09:08   \n",
       "\n",
       "                                               tweet language  \\\n",
       "0  RT @girlsalliance: We're so proud of the four ...       en   \n",
       "1  Some casual suggestions to 😏SLIDE😏 into when u...       en   \n",
       "2              RT @ValaAfshar: You are not your job.       en   \n",
       "3  What have we become 😔😂  Toddler Cites Freedom ...       en   \n",
       "4  The tech giants that refuse to massively addre...       en   \n",
       "\n",
       "                                 hashtags cashtags    user_id  day  hour  \\\n",
       "0                                      []       []  409486555    4     0   \n",
       "1  ['shoesdaytuesday', 'afterskewlslide']       []   21447363    2    22   \n",
       "2                                      []       []   21447363    2    18   \n",
       "3                                      []       []   21447363    2    18   \n",
       "4                                      []       []   21447363    2     7   \n",
       "\n",
       "                                                urls  \\\n",
       "0                                                 []   \n",
       "1                                                 []   \n",
       "2                                                 []   \n",
       "3  ['https://www.theonion.com/toddler-cites-freed...   \n",
       "4                                                 []   \n",
       "\n",
       "                                              photos  video  \\\n",
       "0                                                 []      0   \n",
       "1  ['https://pbs.twimg.com/media/E9BXG4YVkAAl3_A....      1   \n",
       "2                                                 []      0   \n",
       "3                                                 []      0   \n",
       "4                                                 []      0   \n",
       "\n",
       "                                         thumbnail  retweet  nlikes  nreplies  \\\n",
       "0                                              NaN     True       0         0   \n",
       "1  https://pbs.twimg.com/media/E9BXG4YVkAAl3_A.jpg    False    5266       368   \n",
       "2                                              NaN     True       0         0   \n",
       "3                                              NaN    False    5638       476   \n",
       "4                                              NaN    False    8810       546   \n",
       "\n",
       "   nretweets                                          quote_url    user_rt_id  \\\n",
       "0        232                                                  0  1.047165e+18   \n",
       "1        408                                                  0           NaN   \n",
       "2        764                                                  0  2.597252e+08   \n",
       "3        438                                                  0           NaN   \n",
       "4       1211  https://twitter.com/VICENews/status/1427311204...           NaN   \n",
       "\n",
       "     retweet_id reply_to              retweet_date  \n",
       "0  1.425590e+18       []  2021-08-12 00:46:58 CEST  \n",
       "1           NaN       []                       NaN  \n",
       "2  1.427648e+18       []  2021-08-17 17:05:53 CEST  \n",
       "3           NaN       []                       NaN  \n",
       "4           NaN       []                       NaN  "
      ]
     },
     "execution_count": 16,
     "metadata": {},
     "output_type": "execute_result"
    }
   ],
   "source": [
    "tweets.head()"
   ]
  },
  {
   "cell_type": "markdown",
   "metadata": {},
   "source": [
    "uhhh mira todos estos nulos! Vemos que en los usuarios hay varios que tienen todos nulos. Vamos a quitar estos - seguramente es un error del API. Primero vamos a ver si tenemos algun tweet de ellos."
   ]
  },
  {
   "cell_type": "code",
   "execution_count": 17,
   "metadata": {},
   "outputs": [
    {
     "data": {
      "text/plain": [
       "0    0.986134\n",
       "3    0.013866\n",
       "dtype: float64"
      ]
     },
     "execution_count": 17,
     "metadata": {},
     "output_type": "execute_result"
    }
   ],
   "source": [
    "users.isnull().sum(axis=1).value_counts(normalize=True)"
   ]
  },
  {
   "cell_type": "code",
   "execution_count": 18,
   "metadata": {},
   "outputs": [],
   "source": [
    "bad_rows = users.isnull().sum(axis=1) == 3"
   ]
  },
  {
   "cell_type": "code",
   "execution_count": 19,
   "metadata": {},
   "outputs": [
    {
     "data": {
      "text/html": [
       "<div>\n",
       "<style scoped>\n",
       "    .dataframe tbody tr th:only-of-type {\n",
       "        vertical-align: middle;\n",
       "    }\n",
       "\n",
       "    .dataframe tbody tr th {\n",
       "        vertical-align: top;\n",
       "    }\n",
       "\n",
       "    .dataframe thead th {\n",
       "        text-align: right;\n",
       "    }\n",
       "</style>\n",
       "<table border=\"1\" class=\"dataframe\">\n",
       "  <thead>\n",
       "    <tr style=\"text-align: right;\">\n",
       "      <th></th>\n",
       "      <th>id</th>\n",
       "      <th>conversation_id</th>\n",
       "      <th>created_at</th>\n",
       "      <th>date</th>\n",
       "      <th>tweet</th>\n",
       "      <th>language</th>\n",
       "      <th>hashtags</th>\n",
       "      <th>cashtags</th>\n",
       "      <th>user_id</th>\n",
       "      <th>day</th>\n",
       "      <th>hour</th>\n",
       "      <th>urls</th>\n",
       "      <th>photos</th>\n",
       "      <th>video</th>\n",
       "      <th>thumbnail</th>\n",
       "      <th>retweet</th>\n",
       "      <th>nlikes</th>\n",
       "      <th>nreplies</th>\n",
       "      <th>nretweets</th>\n",
       "      <th>quote_url</th>\n",
       "      <th>user_rt_id</th>\n",
       "      <th>retweet_id</th>\n",
       "      <th>reply_to</th>\n",
       "      <th>retweet_date</th>\n",
       "    </tr>\n",
       "  </thead>\n",
       "  <tbody>\n",
       "  </tbody>\n",
       "</table>\n",
       "</div>"
      ],
      "text/plain": [
       "Empty DataFrame\n",
       "Columns: [id, conversation_id, created_at, date, tweet, language, hashtags, cashtags, user_id, day, hour, urls, photos, video, thumbnail, retweet, nlikes, nreplies, nretweets, quote_url, user_rt_id, retweet_id, reply_to, retweet_date]\n",
       "Index: []"
      ]
     },
     "execution_count": 19,
     "metadata": {},
     "output_type": "execute_result"
    }
   ],
   "source": [
    "user_ids = users.loc[bad_rows, 'id']\n",
    "tweets[tweets.user_id.isin(user_ids)]"
   ]
  },
  {
   "cell_type": "code",
   "execution_count": 20,
   "metadata": {},
   "outputs": [],
   "source": [
    "users = users[~bad_rows].reset_index(drop=True)"
   ]
  },
  {
   "cell_type": "markdown",
   "metadata": {},
   "source": [
    "Vemos que no tienen ningun tweet de todas formas asi que no pasa nada. Vamos a ver si algo similar pasa en los tweets."
   ]
  },
  {
   "cell_type": "code",
   "execution_count": 21,
   "metadata": {},
   "outputs": [
    {
     "data": {
      "text/plain": [
       "4    0.649885\n",
       "3    0.198640\n",
       "1    0.124516\n",
       "0    0.026958\n",
       "dtype: float64"
      ]
     },
     "execution_count": 21,
     "metadata": {},
     "output_type": "execute_result"
    }
   ],
   "source": [
    "tweets.isnull().sum(axis=1).value_counts(normalize=True)"
   ]
  },
  {
   "cell_type": "markdown",
   "metadata": {},
   "source": [
    "No parece.\n",
    "\n",
    "Como ultimo check vamos a ver que todos los usuarios de nuestros tweets estan en la base de usuarios."
   ]
  },
  {
   "cell_type": "code",
   "execution_count": 22,
   "metadata": {},
   "outputs": [
    {
     "data": {
      "text/plain": [
       "1.0"
      ]
     },
     "execution_count": 22,
     "metadata": {},
     "output_type": "execute_result"
    }
   ],
   "source": [
    "tweet_users = pd.Series(tweets.user_id.unique())\n",
    "tweet_users.isin(users.id.unique()).mean()"
   ]
  },
  {
   "cell_type": "markdown",
   "metadata": {},
   "source": [
    "Esta todo bien."
   ]
  },
  {
   "cell_type": "markdown",
   "metadata": {},
   "source": [
    "## Vamos a entender mejor nuestros tweets\n",
    "Hemos visto que los datos más o menos tienen sentido. Vamos ahora a analizar un poco más en el contexto del mundo real."
   ]
  },
  {
   "cell_type": "markdown",
   "metadata": {},
   "source": [
    "### Como son nuestros usuarios?\n",
    "Lo primero es ver que tal se distribuyen nuestros usuarios."
   ]
  },
  {
   "cell_type": "code",
   "execution_count": 23,
   "metadata": {},
   "outputs": [
    {
     "data": {
      "text/plain": [
       "False    99%\n",
       "True      1%\n",
       "Name: private, dtype: object"
      ]
     },
     "execution_count": 23,
     "metadata": {},
     "output_type": "execute_result"
    }
   ],
   "source": [
    "(users.private.value_counts(normalize=True).round(2) * 100).astype(int).astype(str) + '%'"
   ]
  },
  {
   "cell_type": "code",
   "execution_count": 24,
   "metadata": {},
   "outputs": [
    {
     "data": {
      "text/plain": [
       "True     91%\n",
       "False     9%\n",
       "Name: verified, dtype: object"
      ]
     },
     "execution_count": 24,
     "metadata": {},
     "output_type": "execute_result"
    }
   ],
   "source": [
    "(users.verified.value_counts(normalize=True).round(2) * 100).astype(int).astype(str) + '%'"
   ]
  },
  {
   "cell_type": "code",
   "execution_count": 25,
   "metadata": {},
   "outputs": [
    {
     "data": {
      "text/html": [
       "<div>\n",
       "<style scoped>\n",
       "    .dataframe tbody tr th:only-of-type {\n",
       "        vertical-align: middle;\n",
       "    }\n",
       "\n",
       "    .dataframe tbody tr th {\n",
       "        vertical-align: top;\n",
       "    }\n",
       "\n",
       "    .dataframe thead th {\n",
       "        text-align: right;\n",
       "    }\n",
       "</style>\n",
       "<table border=\"1\" class=\"dataframe\">\n",
       "  <thead>\n",
       "    <tr style=\"text-align: right;\">\n",
       "      <th></th>\n",
       "      <th>tweets</th>\n",
       "      <th>following</th>\n",
       "      <th>followers</th>\n",
       "      <th>likes</th>\n",
       "      <th>media</th>\n",
       "    </tr>\n",
       "  </thead>\n",
       "  <tbody>\n",
       "    <tr>\n",
       "      <th>count</th>\n",
       "      <td>1209</td>\n",
       "      <td>1209</td>\n",
       "      <td>1209</td>\n",
       "      <td>1209</td>\n",
       "      <td>1209</td>\n",
       "    </tr>\n",
       "    <tr>\n",
       "      <th>mean</th>\n",
       "      <td>28624</td>\n",
       "      <td>10148</td>\n",
       "      <td>8132383</td>\n",
       "      <td>6040</td>\n",
       "      <td>6327</td>\n",
       "    </tr>\n",
       "    <tr>\n",
       "      <th>std</th>\n",
       "      <td>59597</td>\n",
       "      <td>132866</td>\n",
       "      <td>12578418</td>\n",
       "      <td>23323</td>\n",
       "      <td>24477</td>\n",
       "    </tr>\n",
       "    <tr>\n",
       "      <th>min</th>\n",
       "      <td>0</td>\n",
       "      <td>0</td>\n",
       "      <td>0</td>\n",
       "      <td>0</td>\n",
       "      <td>0</td>\n",
       "    </tr>\n",
       "    <tr>\n",
       "      <th>50%</th>\n",
       "      <td>11117</td>\n",
       "      <td>492</td>\n",
       "      <td>4459113</td>\n",
       "      <td>862</td>\n",
       "      <td>1499</td>\n",
       "    </tr>\n",
       "    <tr>\n",
       "      <th>90%</th>\n",
       "      <td>60497</td>\n",
       "      <td>4261</td>\n",
       "      <td>16942348</td>\n",
       "      <td>13329</td>\n",
       "      <td>7697</td>\n",
       "    </tr>\n",
       "    <tr>\n",
       "      <th>95%</th>\n",
       "      <td>109883</td>\n",
       "      <td>12565</td>\n",
       "      <td>29776022</td>\n",
       "      <td>25415</td>\n",
       "      <td>23411</td>\n",
       "    </tr>\n",
       "    <tr>\n",
       "      <th>99%</th>\n",
       "      <td>348896</td>\n",
       "      <td>133135</td>\n",
       "      <td>64875553</td>\n",
       "      <td>68441</td>\n",
       "      <td>118501</td>\n",
       "    </tr>\n",
       "    <tr>\n",
       "      <th>max</th>\n",
       "      <td>730463</td>\n",
       "      <td>4200793</td>\n",
       "      <td>129909278</td>\n",
       "      <td>492144</td>\n",
       "      <td>516329</td>\n",
       "    </tr>\n",
       "  </tbody>\n",
       "</table>\n",
       "</div>"
      ],
      "text/plain": [
       "       tweets  following  followers   likes   media\n",
       "count    1209       1209       1209    1209    1209\n",
       "mean    28624      10148    8132383    6040    6327\n",
       "std     59597     132866   12578418   23323   24477\n",
       "min         0          0          0       0       0\n",
       "50%     11117        492    4459113     862    1499\n",
       "90%     60497       4261   16942348   13329    7697\n",
       "95%    109883      12565   29776022   25415   23411\n",
       "99%    348896     133135   64875553   68441  118501\n",
       "max    730463    4200793  129909278  492144  516329"
      ]
     },
     "execution_count": 25,
     "metadata": {},
     "output_type": "execute_result"
    }
   ],
   "source": [
    "cont_cols = ['tweets', 'following', 'followers', 'likes', 'media']\n",
    "users[cont_cols].describe(percentiles=[0.9, 0.95, 0.99]).astype(int)"
   ]
  },
  {
   "cell_type": "code",
   "execution_count": 26,
   "metadata": {},
   "outputs": [
    {
     "data": {
      "text/plain": [
       "2006     0%\n",
       "2007     6%\n",
       "2008    10%\n",
       "2009    43%\n",
       "2010    18%\n",
       "2011    11%\n",
       "2012     5%\n",
       "2013     2%\n",
       "2014     1%\n",
       "2015     1%\n",
       "2016     1%\n",
       "2017     1%\n",
       "2018     1%\n",
       "2019     0%\n",
       "2020     1%\n",
       "2021     0%\n",
       "Name: join_datetime_year, dtype: object"
      ]
     },
     "execution_count": 26,
     "metadata": {},
     "output_type": "execute_result"
    }
   ],
   "source": [
    "users['join_datetime_year'] = users.join_datetime.dt.year\n",
    "(users.join_datetime_year.value_counts(normalize=True).sort_index().round(2) * 100).astype(int).astype(str) + '%'"
   ]
  },
  {
   "cell_type": "markdown",
   "metadata": {},
   "source": [
    "Aquí vemos varias cosas:\n",
    "\n",
    "* Casi ninguna cuenta es privada (normal, si fuera asi no sé como tendriamos los datos?)\n",
    "* Un 90% son verificados, que tambien tiene sentido ya que son cuentas famosas, pero es un dato guay tener\n",
    "* Las columnas de info sobre los followers, following y tweets son interesantes - generalmente tenemos muchisimos outliers, como por ejemplo el maximo siendo el doble que el 99%\n",
    "* Tambien vemos que los followers son muy altos en general mientras las demas columnas tienen un poco mas de rango de valores\n",
    "* La mayoria de las cuentas son de 2008 - 2011, que es cuando Twitter empezo a ganar mucha popularidad\n",
    "\n",
    "Vamos a ver los tweets\n",
    "\n",
    "### Los tweets\n",
    "Para empezar - he visto que hay retweets - vamos a verlos."
   ]
  },
  {
   "cell_type": "code",
   "execution_count": 27,
   "metadata": {},
   "outputs": [
    {
     "data": {
      "text/html": [
       "<div>\n",
       "<style scoped>\n",
       "    .dataframe tbody tr th:only-of-type {\n",
       "        vertical-align: middle;\n",
       "    }\n",
       "\n",
       "    .dataframe tbody tr th {\n",
       "        vertical-align: top;\n",
       "    }\n",
       "\n",
       "    .dataframe thead th {\n",
       "        text-align: right;\n",
       "    }\n",
       "</style>\n",
       "<table border=\"1\" class=\"dataframe\">\n",
       "  <thead>\n",
       "    <tr style=\"text-align: right;\">\n",
       "      <th></th>\n",
       "      <th>id</th>\n",
       "      <th>conversation_id</th>\n",
       "      <th>created_at</th>\n",
       "      <th>date</th>\n",
       "      <th>tweet</th>\n",
       "      <th>language</th>\n",
       "      <th>hashtags</th>\n",
       "      <th>cashtags</th>\n",
       "      <th>user_id</th>\n",
       "      <th>day</th>\n",
       "      <th>hour</th>\n",
       "      <th>urls</th>\n",
       "      <th>photos</th>\n",
       "      <th>video</th>\n",
       "      <th>thumbnail</th>\n",
       "      <th>retweet</th>\n",
       "      <th>nlikes</th>\n",
       "      <th>nreplies</th>\n",
       "      <th>nretweets</th>\n",
       "      <th>quote_url</th>\n",
       "      <th>user_rt_id</th>\n",
       "      <th>retweet_id</th>\n",
       "      <th>reply_to</th>\n",
       "      <th>retweet_date</th>\n",
       "    </tr>\n",
       "  </thead>\n",
       "  <tbody>\n",
       "    <tr>\n",
       "      <th>0</th>\n",
       "      <td>1425590913959612419</td>\n",
       "      <td>1425590913959612419</td>\n",
       "      <td>1.628722e+12</td>\n",
       "      <td>2021-08-12 00:52:14</td>\n",
       "      <td>RT @girlsalliance: We're so proud of the four ...</td>\n",
       "      <td>en</td>\n",
       "      <td>[]</td>\n",
       "      <td>[]</td>\n",
       "      <td>409486555</td>\n",
       "      <td>4</td>\n",
       "      <td>0</td>\n",
       "      <td>[]</td>\n",
       "      <td>[]</td>\n",
       "      <td>0</td>\n",
       "      <td>NaN</td>\n",
       "      <td>True</td>\n",
       "      <td>0</td>\n",
       "      <td>0</td>\n",
       "      <td>232</td>\n",
       "      <td>0</td>\n",
       "      <td>1.047165e+18</td>\n",
       "      <td>1.425590e+18</td>\n",
       "      <td>[]</td>\n",
       "      <td>2021-08-12 00:46:58 CEST</td>\n",
       "    </tr>\n",
       "    <tr>\n",
       "      <th>2</th>\n",
       "      <td>1427667300488937476</td>\n",
       "      <td>1427667300488937476</td>\n",
       "      <td>1.629217e+12</td>\n",
       "      <td>2021-08-17 18:23:03</td>\n",
       "      <td>RT @ValaAfshar: You are not your job.</td>\n",
       "      <td>en</td>\n",
       "      <td>[]</td>\n",
       "      <td>[]</td>\n",
       "      <td>21447363</td>\n",
       "      <td>2</td>\n",
       "      <td>18</td>\n",
       "      <td>[]</td>\n",
       "      <td>[]</td>\n",
       "      <td>0</td>\n",
       "      <td>NaN</td>\n",
       "      <td>True</td>\n",
       "      <td>0</td>\n",
       "      <td>0</td>\n",
       "      <td>764</td>\n",
       "      <td>0</td>\n",
       "      <td>2.597252e+08</td>\n",
       "      <td>1.427648e+18</td>\n",
       "      <td>[]</td>\n",
       "      <td>2021-08-17 17:05:53 CEST</td>\n",
       "    </tr>\n",
       "    <tr>\n",
       "      <th>5</th>\n",
       "      <td>1426598917471305735</td>\n",
       "      <td>1426598917471305735</td>\n",
       "      <td>1.628963e+12</td>\n",
       "      <td>2021-08-14 19:37:41</td>\n",
       "      <td>RT @peterdaou: An Italian town hit 124 degrees...</td>\n",
       "      <td>en</td>\n",
       "      <td>['climateemergency']</td>\n",
       "      <td>[]</td>\n",
       "      <td>21447363</td>\n",
       "      <td>6</td>\n",
       "      <td>19</td>\n",
       "      <td>[]</td>\n",
       "      <td>[]</td>\n",
       "      <td>0</td>\n",
       "      <td>NaN</td>\n",
       "      <td>True</td>\n",
       "      <td>0</td>\n",
       "      <td>0</td>\n",
       "      <td>430</td>\n",
       "      <td>0</td>\n",
       "      <td>1.846427e+07</td>\n",
       "      <td>1.426281e+18</td>\n",
       "      <td>[]</td>\n",
       "      <td>2021-08-13 22:32:52 CEST</td>\n",
       "    </tr>\n",
       "    <tr>\n",
       "      <th>9</th>\n",
       "      <td>1427758371873202177</td>\n",
       "      <td>1427758371873202177</td>\n",
       "      <td>1.629239e+12</td>\n",
       "      <td>2021-08-18 00:24:56</td>\n",
       "      <td>RT @mrtimchan: Wrote about @MariahCarey's new ...</td>\n",
       "      <td>en</td>\n",
       "      <td>[]</td>\n",
       "      <td>[]</td>\n",
       "      <td>19248106</td>\n",
       "      <td>3</td>\n",
       "      <td>0</td>\n",
       "      <td>[]</td>\n",
       "      <td>[]</td>\n",
       "      <td>0</td>\n",
       "      <td>NaN</td>\n",
       "      <td>True</td>\n",
       "      <td>0</td>\n",
       "      <td>0</td>\n",
       "      <td>176</td>\n",
       "      <td>0</td>\n",
       "      <td>4.543648e+08</td>\n",
       "      <td>1.427443e+18</td>\n",
       "      <td>[]</td>\n",
       "      <td>2021-08-17 03:29:49 CEST</td>\n",
       "    </tr>\n",
       "    <tr>\n",
       "      <th>10</th>\n",
       "      <td>1427757856661594114</td>\n",
       "      <td>1427757856661594114</td>\n",
       "      <td>1.629239e+12</td>\n",
       "      <td>2021-08-18 00:22:54</td>\n",
       "      <td>RT @foodandwine: Best paired with your favorit...</td>\n",
       "      <td>en</td>\n",
       "      <td>[]</td>\n",
       "      <td>[]</td>\n",
       "      <td>19248106</td>\n",
       "      <td>3</td>\n",
       "      <td>0</td>\n",
       "      <td>['https://www.foodandwine.com/news/mariah-care...</td>\n",
       "      <td>[]</td>\n",
       "      <td>0</td>\n",
       "      <td>NaN</td>\n",
       "      <td>True</td>\n",
       "      <td>0</td>\n",
       "      <td>0</td>\n",
       "      <td>295</td>\n",
       "      <td>0</td>\n",
       "      <td>3.027853e+07</td>\n",
       "      <td>1.427677e+18</td>\n",
       "      <td>[]</td>\n",
       "      <td>2021-08-17 19:00:09 CEST</td>\n",
       "    </tr>\n",
       "  </tbody>\n",
       "</table>\n",
       "</div>"
      ],
      "text/plain": [
       "                     id      conversation_id    created_at  \\\n",
       "0   1425590913959612419  1425590913959612419  1.628722e+12   \n",
       "2   1427667300488937476  1427667300488937476  1.629217e+12   \n",
       "5   1426598917471305735  1426598917471305735  1.628963e+12   \n",
       "9   1427758371873202177  1427758371873202177  1.629239e+12   \n",
       "10  1427757856661594114  1427757856661594114  1.629239e+12   \n",
       "\n",
       "                  date                                              tweet  \\\n",
       "0  2021-08-12 00:52:14  RT @girlsalliance: We're so proud of the four ...   \n",
       "2  2021-08-17 18:23:03              RT @ValaAfshar: You are not your job.   \n",
       "5  2021-08-14 19:37:41  RT @peterdaou: An Italian town hit 124 degrees...   \n",
       "9  2021-08-18 00:24:56  RT @mrtimchan: Wrote about @MariahCarey's new ...   \n",
       "10 2021-08-18 00:22:54  RT @foodandwine: Best paired with your favorit...   \n",
       "\n",
       "   language              hashtags cashtags    user_id  day  hour  \\\n",
       "0        en                    []       []  409486555    4     0   \n",
       "2        en                    []       []   21447363    2    18   \n",
       "5        en  ['climateemergency']       []   21447363    6    19   \n",
       "9        en                    []       []   19248106    3     0   \n",
       "10       en                    []       []   19248106    3     0   \n",
       "\n",
       "                                                 urls photos  video thumbnail  \\\n",
       "0                                                  []     []      0       NaN   \n",
       "2                                                  []     []      0       NaN   \n",
       "5                                                  []     []      0       NaN   \n",
       "9                                                  []     []      0       NaN   \n",
       "10  ['https://www.foodandwine.com/news/mariah-care...     []      0       NaN   \n",
       "\n",
       "    retweet  nlikes  nreplies  nretweets quote_url    user_rt_id  \\\n",
       "0      True       0         0        232         0  1.047165e+18   \n",
       "2      True       0         0        764         0  2.597252e+08   \n",
       "5      True       0         0        430         0  1.846427e+07   \n",
       "9      True       0         0        176         0  4.543648e+08   \n",
       "10     True       0         0        295         0  3.027853e+07   \n",
       "\n",
       "      retweet_id reply_to              retweet_date  \n",
       "0   1.425590e+18       []  2021-08-12 00:46:58 CEST  \n",
       "2   1.427648e+18       []  2021-08-17 17:05:53 CEST  \n",
       "5   1.426281e+18       []  2021-08-13 22:32:52 CEST  \n",
       "9   1.427443e+18       []  2021-08-17 03:29:49 CEST  \n",
       "10  1.427677e+18       []  2021-08-17 19:00:09 CEST  "
      ]
     },
     "execution_count": 27,
     "metadata": {},
     "output_type": "execute_result"
    }
   ],
   "source": [
    "tweets[tweets.retweet].head()"
   ]
  },
  {
   "cell_type": "code",
   "execution_count": 28,
   "metadata": {},
   "outputs": [
    {
     "data": {
      "text/html": [
       "<div>\n",
       "<style scoped>\n",
       "    .dataframe tbody tr th:only-of-type {\n",
       "        vertical-align: middle;\n",
       "    }\n",
       "\n",
       "    .dataframe tbody tr th {\n",
       "        vertical-align: top;\n",
       "    }\n",
       "\n",
       "    .dataframe thead th {\n",
       "        text-align: right;\n",
       "    }\n",
       "</style>\n",
       "<table border=\"1\" class=\"dataframe\">\n",
       "  <thead>\n",
       "    <tr style=\"text-align: right;\">\n",
       "      <th></th>\n",
       "      <th>nlikes</th>\n",
       "      <th>nreplies</th>\n",
       "      <th>nretweets</th>\n",
       "    </tr>\n",
       "  </thead>\n",
       "  <tbody>\n",
       "    <tr>\n",
       "      <th>count</th>\n",
       "      <td>6147.0</td>\n",
       "      <td>6147.0</td>\n",
       "      <td>6147.000000</td>\n",
       "    </tr>\n",
       "    <tr>\n",
       "      <th>mean</th>\n",
       "      <td>0.0</td>\n",
       "      <td>0.0</td>\n",
       "      <td>538.854238</td>\n",
       "    </tr>\n",
       "    <tr>\n",
       "      <th>std</th>\n",
       "      <td>0.0</td>\n",
       "      <td>0.0</td>\n",
       "      <td>3085.250851</td>\n",
       "    </tr>\n",
       "    <tr>\n",
       "      <th>min</th>\n",
       "      <td>0.0</td>\n",
       "      <td>0.0</td>\n",
       "      <td>1.000000</td>\n",
       "    </tr>\n",
       "    <tr>\n",
       "      <th>25%</th>\n",
       "      <td>0.0</td>\n",
       "      <td>0.0</td>\n",
       "      <td>8.000000</td>\n",
       "    </tr>\n",
       "    <tr>\n",
       "      <th>50%</th>\n",
       "      <td>0.0</td>\n",
       "      <td>0.0</td>\n",
       "      <td>30.000000</td>\n",
       "    </tr>\n",
       "    <tr>\n",
       "      <th>75%</th>\n",
       "      <td>0.0</td>\n",
       "      <td>0.0</td>\n",
       "      <td>154.000000</td>\n",
       "    </tr>\n",
       "    <tr>\n",
       "      <th>max</th>\n",
       "      <td>0.0</td>\n",
       "      <td>0.0</td>\n",
       "      <td>113226.000000</td>\n",
       "    </tr>\n",
       "  </tbody>\n",
       "</table>\n",
       "</div>"
      ],
      "text/plain": [
       "       nlikes  nreplies      nretweets\n",
       "count  6147.0    6147.0    6147.000000\n",
       "mean      0.0       0.0     538.854238\n",
       "std       0.0       0.0    3085.250851\n",
       "min       0.0       0.0       1.000000\n",
       "25%       0.0       0.0       8.000000\n",
       "50%       0.0       0.0      30.000000\n",
       "75%       0.0       0.0     154.000000\n",
       "max       0.0       0.0  113226.000000"
      ]
     },
     "execution_count": 28,
     "metadata": {},
     "output_type": "execute_result"
    }
   ],
   "source": [
    "tweets.loc[tweets.retweet, ['nlikes', 'nreplies', 'nretweets']].describe()"
   ]
  },
  {
   "cell_type": "markdown",
   "metadata": {},
   "source": [
    "Interesante! Parece ser que estos datos son ligeramente diferentes a los demas. Aqui tenemos 3 opciones:\n",
    "\n",
    "* Mantener estos datos y hacer nada --> mala opcion, mezclar tipos de datos no es buena idea\n",
    "* Mantener estos datos y scrapear la informacion \"correcta\" del tweet original (por ejemplo, no tenemos el numero de seguidores del usuario original) --> buena opcion, pero costoso\n",
    "* Quitarlos --> una opcion mala pero rapido y mejor que la primera, ding ding ding, we have a winner!"
   ]
  },
  {
   "cell_type": "code",
   "execution_count": 29,
   "metadata": {},
   "outputs": [],
   "source": [
    "tweets = tweets[~tweets.retweet].reset_index(drop=True)"
   ]
  },
  {
   "cell_type": "markdown",
   "metadata": {},
   "source": [
    "Tambien vamos a mirar la columna de \"conversation_id\" porque parece tener algo que ver con que sean respuestas."
   ]
  },
  {
   "cell_type": "code",
   "execution_count": 30,
   "metadata": {},
   "outputs": [],
   "source": [
    "tweets['same_convo_id'] = tweets.id == tweets.conversation_id\n",
    "tweets['has_reply_to'] = tweets.reply_to != '[]'"
   ]
  },
  {
   "cell_type": "code",
   "execution_count": 31,
   "metadata": {},
   "outputs": [
    {
     "data": {
      "text/plain": [
       "has_reply_to  same_convo_id\n",
       "False         True             0.957715\n",
       "              False            0.042285\n",
       "True          False            1.000000\n",
       "Name: same_convo_id, dtype: float64"
      ]
     },
     "execution_count": 31,
     "metadata": {},
     "output_type": "execute_result"
    }
   ],
   "source": [
    "tweets.groupby('has_reply_to').same_convo_id.value_counts(normalize=True)"
   ]
  },
  {
   "cell_type": "code",
   "execution_count": 32,
   "metadata": {},
   "outputs": [
    {
     "data": {
      "text/plain": [
       "has_reply_to  same_convo_id\n",
       "False         True             29172\n",
       "              False             1288\n",
       "True          False             3974\n",
       "Name: same_convo_id, dtype: int64"
      ]
     },
     "execution_count": 32,
     "metadata": {},
     "output_type": "execute_result"
    }
   ],
   "source": [
    "tweets.groupby('has_reply_to').same_convo_id.value_counts()"
   ]
  },
  {
   "cell_type": "markdown",
   "metadata": {},
   "source": [
    "Podemos ver que por lo menos todos los que tienen un \"reply to\" no tienen la conversion id igual. Los otros ejemplos no sé que pueden ser."
   ]
  },
  {
   "cell_type": "code",
   "execution_count": 33,
   "metadata": {},
   "outputs": [
    {
     "data": {
      "text/html": [
       "<div>\n",
       "<style scoped>\n",
       "    .dataframe tbody tr th:only-of-type {\n",
       "        vertical-align: middle;\n",
       "    }\n",
       "\n",
       "    .dataframe tbody tr th {\n",
       "        vertical-align: top;\n",
       "    }\n",
       "\n",
       "    .dataframe thead th {\n",
       "        text-align: right;\n",
       "    }\n",
       "</style>\n",
       "<table border=\"1\" class=\"dataframe\">\n",
       "  <thead>\n",
       "    <tr style=\"text-align: right;\">\n",
       "      <th></th>\n",
       "      <th>id</th>\n",
       "      <th>conversation_id</th>\n",
       "      <th>created_at</th>\n",
       "      <th>date</th>\n",
       "      <th>tweet</th>\n",
       "      <th>language</th>\n",
       "      <th>hashtags</th>\n",
       "      <th>cashtags</th>\n",
       "      <th>user_id</th>\n",
       "      <th>day</th>\n",
       "      <th>hour</th>\n",
       "      <th>urls</th>\n",
       "      <th>photos</th>\n",
       "      <th>video</th>\n",
       "      <th>thumbnail</th>\n",
       "      <th>retweet</th>\n",
       "      <th>nlikes</th>\n",
       "      <th>nreplies</th>\n",
       "      <th>nretweets</th>\n",
       "      <th>quote_url</th>\n",
       "      <th>user_rt_id</th>\n",
       "      <th>retweet_id</th>\n",
       "      <th>reply_to</th>\n",
       "      <th>retweet_date</th>\n",
       "      <th>same_convo_id</th>\n",
       "      <th>has_reply_to</th>\n",
       "    </tr>\n",
       "  </thead>\n",
       "  <tbody>\n",
       "    <tr>\n",
       "      <th>4</th>\n",
       "      <td>1427927723356430337</td>\n",
       "      <td>1427904450136510464</td>\n",
       "      <td>1.629279e+12</td>\n",
       "      <td>2021-08-18 11:37:53</td>\n",
       "      <td>@Jefflez @LeroyAhBen Love you !!!</td>\n",
       "      <td>en</td>\n",
       "      <td>[]</td>\n",
       "      <td>[]</td>\n",
       "      <td>19248106</td>\n",
       "      <td>3</td>\n",
       "      <td>11</td>\n",
       "      <td>[]</td>\n",
       "      <td>[]</td>\n",
       "      <td>0</td>\n",
       "      <td>NaN</td>\n",
       "      <td>False</td>\n",
       "      <td>375</td>\n",
       "      <td>29</td>\n",
       "      <td>35</td>\n",
       "      <td>0</td>\n",
       "      <td>NaN</td>\n",
       "      <td>NaN</td>\n",
       "      <td>[{'screen_name': 'Jefflez', 'name': 'Jeffrey I...</td>\n",
       "      <td>NaN</td>\n",
       "      <td>False</td>\n",
       "      <td>True</td>\n",
       "    </tr>\n",
       "    <tr>\n",
       "      <th>111</th>\n",
       "      <td>1427109341753139205</td>\n",
       "      <td>1427102755412393985</td>\n",
       "      <td>1.629084e+12</td>\n",
       "      <td>2021-08-16 05:25:56</td>\n",
       "      <td>@EliLake Honestly don’t know. But I asked what...</td>\n",
       "      <td>en</td>\n",
       "      <td>[]</td>\n",
       "      <td>[]</td>\n",
       "      <td>150078976</td>\n",
       "      <td>1</td>\n",
       "      <td>5</td>\n",
       "      <td>[]</td>\n",
       "      <td>[]</td>\n",
       "      <td>0</td>\n",
       "      <td>NaN</td>\n",
       "      <td>False</td>\n",
       "      <td>12</td>\n",
       "      <td>5</td>\n",
       "      <td>3</td>\n",
       "      <td>0</td>\n",
       "      <td>NaN</td>\n",
       "      <td>NaN</td>\n",
       "      <td>[{'screen_name': 'EliLake', 'name': 'Eli Lake'...</td>\n",
       "      <td>NaN</td>\n",
       "      <td>False</td>\n",
       "      <td>True</td>\n",
       "    </tr>\n",
       "    <tr>\n",
       "      <th>112</th>\n",
       "      <td>1427104985997840384</td>\n",
       "      <td>1427102755412393985</td>\n",
       "      <td>1.629083e+12</td>\n",
       "      <td>2021-08-16 05:08:37</td>\n",
       "      <td>@EliLake Are you referring to the unsourced re...</td>\n",
       "      <td>en</td>\n",
       "      <td>[]</td>\n",
       "      <td>[]</td>\n",
       "      <td>150078976</td>\n",
       "      <td>1</td>\n",
       "      <td>5</td>\n",
       "      <td>[]</td>\n",
       "      <td>[]</td>\n",
       "      <td>0</td>\n",
       "      <td>NaN</td>\n",
       "      <td>False</td>\n",
       "      <td>11</td>\n",
       "      <td>4</td>\n",
       "      <td>0</td>\n",
       "      <td>0</td>\n",
       "      <td>NaN</td>\n",
       "      <td>NaN</td>\n",
       "      <td>[{'screen_name': 'EliLake', 'name': 'Eli Lake'...</td>\n",
       "      <td>NaN</td>\n",
       "      <td>False</td>\n",
       "      <td>True</td>\n",
       "    </tr>\n",
       "    <tr>\n",
       "      <th>223</th>\n",
       "      <td>1426347545119232003</td>\n",
       "      <td>1426223408749088772</td>\n",
       "      <td>1.628903e+12</td>\n",
       "      <td>2021-08-14 02:58:49</td>\n",
       "      <td>@Bob_Casey @ReverendWarnock Sorry I had missed...</td>\n",
       "      <td>en</td>\n",
       "      <td>[]</td>\n",
       "      <td>[]</td>\n",
       "      <td>47747074</td>\n",
       "      <td>6</td>\n",
       "      <td>2</td>\n",
       "      <td>[]</td>\n",
       "      <td>[]</td>\n",
       "      <td>0</td>\n",
       "      <td>NaN</td>\n",
       "      <td>False</td>\n",
       "      <td>777</td>\n",
       "      <td>4</td>\n",
       "      <td>24</td>\n",
       "      <td>0</td>\n",
       "      <td>NaN</td>\n",
       "      <td>NaN</td>\n",
       "      <td>[{'screen_name': 'Bob_Casey', 'name': 'Bob Cas...</td>\n",
       "      <td>NaN</td>\n",
       "      <td>False</td>\n",
       "      <td>True</td>\n",
       "    </tr>\n",
       "    <tr>\n",
       "      <th>521</th>\n",
       "      <td>1425655357318258689</td>\n",
       "      <td>1425554543929176072</td>\n",
       "      <td>1.628738e+12</td>\n",
       "      <td>2021-08-12 05:08:19</td>\n",
       "      <td>@Makeublush DM me</td>\n",
       "      <td>en</td>\n",
       "      <td>[]</td>\n",
       "      <td>[]</td>\n",
       "      <td>16160352</td>\n",
       "      <td>4</td>\n",
       "      <td>5</td>\n",
       "      <td>[]</td>\n",
       "      <td>[]</td>\n",
       "      <td>0</td>\n",
       "      <td>NaN</td>\n",
       "      <td>False</td>\n",
       "      <td>3</td>\n",
       "      <td>0</td>\n",
       "      <td>0</td>\n",
       "      <td>0</td>\n",
       "      <td>NaN</td>\n",
       "      <td>NaN</td>\n",
       "      <td>[{'screen_name': 'Makeublush', 'name': 'Barbar...</td>\n",
       "      <td>NaN</td>\n",
       "      <td>False</td>\n",
       "      <td>True</td>\n",
       "    </tr>\n",
       "  </tbody>\n",
       "</table>\n",
       "</div>"
      ],
      "text/plain": [
       "                      id      conversation_id    created_at  \\\n",
       "4    1427927723356430337  1427904450136510464  1.629279e+12   \n",
       "111  1427109341753139205  1427102755412393985  1.629084e+12   \n",
       "112  1427104985997840384  1427102755412393985  1.629083e+12   \n",
       "223  1426347545119232003  1426223408749088772  1.628903e+12   \n",
       "521  1425655357318258689  1425554543929176072  1.628738e+12   \n",
       "\n",
       "                   date                                              tweet  \\\n",
       "4   2021-08-18 11:37:53                  @Jefflez @LeroyAhBen Love you !!!   \n",
       "111 2021-08-16 05:25:56  @EliLake Honestly don’t know. But I asked what...   \n",
       "112 2021-08-16 05:08:37  @EliLake Are you referring to the unsourced re...   \n",
       "223 2021-08-14 02:58:49  @Bob_Casey @ReverendWarnock Sorry I had missed...   \n",
       "521 2021-08-12 05:08:19                                  @Makeublush DM me   \n",
       "\n",
       "    language hashtags cashtags    user_id  day  hour urls photos  video  \\\n",
       "4         en       []       []   19248106    3    11   []     []      0   \n",
       "111       en       []       []  150078976    1     5   []     []      0   \n",
       "112       en       []       []  150078976    1     5   []     []      0   \n",
       "223       en       []       []   47747074    6     2   []     []      0   \n",
       "521       en       []       []   16160352    4     5   []     []      0   \n",
       "\n",
       "    thumbnail  retweet  nlikes  nreplies  nretweets quote_url  user_rt_id  \\\n",
       "4         NaN    False     375        29         35         0         NaN   \n",
       "111       NaN    False      12         5          3         0         NaN   \n",
       "112       NaN    False      11         4          0         0         NaN   \n",
       "223       NaN    False     777         4         24         0         NaN   \n",
       "521       NaN    False       3         0          0         0         NaN   \n",
       "\n",
       "     retweet_id                                           reply_to  \\\n",
       "4           NaN  [{'screen_name': 'Jefflez', 'name': 'Jeffrey I...   \n",
       "111         NaN  [{'screen_name': 'EliLake', 'name': 'Eli Lake'...   \n",
       "112         NaN  [{'screen_name': 'EliLake', 'name': 'Eli Lake'...   \n",
       "223         NaN  [{'screen_name': 'Bob_Casey', 'name': 'Bob Cas...   \n",
       "521         NaN  [{'screen_name': 'Makeublush', 'name': 'Barbar...   \n",
       "\n",
       "    retweet_date  same_convo_id  has_reply_to  \n",
       "4            NaN          False          True  \n",
       "111          NaN          False          True  \n",
       "112          NaN          False          True  \n",
       "223          NaN          False          True  \n",
       "521          NaN          False          True  "
      ]
     },
     "execution_count": 33,
     "metadata": {},
     "output_type": "execute_result"
    }
   ],
   "source": [
    "tweets[tweets.has_reply_to].head()"
   ]
  },
  {
   "cell_type": "markdown",
   "metadata": {},
   "source": [
    "Ahora vamos a hacer lo mismo - vamos a quitar estos tweets. Esto ya esta un poco menos claro pero seguiendo la mismoa logica que antes y el concepto del proyecto - no me parece 100% correcto estar mezclando respuestas con tweets normales.\n",
    "\n",
    "Aqui otra opcion podria ser entrenar un modelo separado para las respuestas, pero por tiempo no lo vamos a hacer."
   ]
  },
  {
   "cell_type": "code",
   "execution_count": 34,
   "metadata": {},
   "outputs": [],
   "source": [
    "tweets = tweets[~tweets.has_reply_to].reset_index(drop=True)"
   ]
  },
  {
   "cell_type": "code",
   "execution_count": 35,
   "metadata": {},
   "outputs": [
    {
     "data": {
      "text/plain": [
       "(30460, 26)"
      ]
     },
     "execution_count": 35,
     "metadata": {},
     "output_type": "execute_result"
    }
   ],
   "source": [
    "tweets.shape"
   ]
  },
  {
   "cell_type": "markdown",
   "metadata": {},
   "source": [
    "En total hemos quitado aproximadamente 10k tweets - un numero importante! Pero creo que el problema se quedara mejor definido."
   ]
  },
  {
   "cell_type": "markdown",
   "metadata": {},
   "source": [
    "Progresamos a explorar los tweets - esto es lo divertido!"
   ]
  },
  {
   "cell_type": "code",
   "execution_count": 36,
   "metadata": {},
   "outputs": [],
   "source": [
    "tweets['tweet_length'] = tweets.tweet.str.len()\n",
    "\n",
    "tweets['num_hashtags'] = (tweets.hashtags.str.extractall('(,)').reset_index().groupby('level_0').match.max() + 1)\n",
    "tweets['num_hashtags'] = tweets.num_hashtags.fillna(0)\n",
    "\n",
    "tweets['num_cashtags'] = (tweets.cashtags.str.extractall('(,)').reset_index().groupby('level_0').match.max() + 1)\n",
    "tweets['num_cashtags'] = tweets.num_cashtags.fillna(0)\n",
    "\n",
    "tweets['num_urls'] = (tweets.urls.str.extractall('(,)').reset_index().groupby('level_0').match.max() + 1)\n",
    "tweets['num_urls'] = tweets.num_urls.fillna(0)\n",
    "\n",
    "tweets['num_photos'] = (tweets.photos.str.extractall('(,)').reset_index().groupby('level_0').match.max() + 1)\n",
    "tweets['num_photos'] = tweets.num_photos.fillna(0)\n",
    "\n",
    "tweets['has_quotes'] = tweets.quote_url != '0'\n",
    "\n",
    "tweets['has_thumbnail'] = tweets.thumbnail.notna()\n",
    "\n",
    "tweets['day'] = tweets.date.dt.date\n",
    "\n",
    "tweet_counts = tweets.tweet.value_counts().reset_index().rename(columns={'tweet' : 'number_times_repeated', 'index' : 'tweet'})\n",
    "tweets = tweets.merge(tweet_counts, how='left')"
   ]
  },
  {
   "cell_type": "code",
   "execution_count": 37,
   "metadata": {},
   "outputs": [
    {
     "data": {
      "image/png": "[encoded data removed]",
      "text/plain": [
       "<Figure size 640x480 with 1 Axes>"
      ]
     },
     "metadata": {},
     "output_type": "display_data"
    }
   ],
   "source": [
    "graph_data = tweets.groupby('tweet_length').id.nunique().reset_index()\n",
    "graph_data['percentage'] = graph_data.id / graph_data.id.sum()\n",
    "\n",
    "graph = (\n",
    "    pn.ggplot(graph_data, pn.aes(x='tweet_length', y='percentage'))\n",
    "    + pn.geom_point()\n",
    "    + pn.scale_y_continuous(labels=percent_format())\n",
    ")\n",
    "\n",
    "graph.draw();"
   ]
  },
  {
   "cell_type": "code",
   "execution_count": 38,
   "metadata": {},
   "outputs": [
    {
     "name": "stdout",
     "output_type": "stream",
     "text": [
      "3.5% of tweets with a hashtag\n"
     ]
    },
    {
     "data": {
      "image/png": "[encoded data removed]",
      "text/plain": [
       "<Figure size 640x480 with 1 Axes>"
      ]
     },
     "metadata": {},
     "output_type": "display_data"
    }
   ],
   "source": [
    "print('{:.1%} of tweets with a hashtag'.format((tweets.num_hashtags > 0).mean()))\n",
    "\n",
    "graph_data = tweets[tweets.num_hashtags > 0].groupby('num_hashtags').id.nunique().reset_index()\n",
    "graph_data['percentage'] = graph_data.id / graph_data.id.sum()\n",
    "\n",
    "graph = (\n",
    "    pn.ggplot(graph_data, pn.aes(x='num_hashtags', y='percentage'))\n",
    "    + pn.geom_point()\n",
    "    + pn.scale_y_continuous(labels=percent_format())\n",
    ")\n",
    "\n",
    "graph.draw();"
   ]
  },
  {
   "cell_type": "code",
   "execution_count": 39,
   "metadata": {},
   "outputs": [
    {
     "name": "stdout",
     "output_type": "stream",
     "text": [
      "0.0% of tweets with a cashtag\n"
     ]
    },
    {
     "data": {
      "image/png": "[encoded data removed]",
      "text/plain": [
       "<Figure size 640x480 with 1 Axes>"
      ]
     },
     "metadata": {},
     "output_type": "display_data"
    }
   ],
   "source": [
    "print('{:.1%} of tweets with a cashtag'.format((tweets.num_cashtags > 0).mean()))\n",
    "\n",
    "graph_data = tweets[tweets.num_cashtags > 0].groupby('num_cashtags').id.nunique().reset_index()\n",
    "graph_data['percentage'] = graph_data.id / graph_data.id.sum()\n",
    "\n",
    "graph = (\n",
    "    pn.ggplot(graph_data, pn.aes(x='num_cashtags', y='percentage'))\n",
    "    + pn.geom_point()\n",
    "    + pn.scale_y_continuous(labels=percent_format())\n",
    ")\n",
    "\n",
    "graph.draw();"
   ]
  },
  {
   "cell_type": "code",
   "execution_count": 40,
   "metadata": {},
   "outputs": [
    {
     "name": "stdout",
     "output_type": "stream",
     "text": [
      "0.8% of tweets with a URL\n"
     ]
    },
    {
     "data": {
      "image/png": "[encoded data removed]",
      "text/plain": [
       "<Figure size 640x480 with 1 Axes>"
      ]
     },
     "metadata": {},
     "output_type": "display_data"
    }
   ],
   "source": [
    "print('{:.1%} of tweets with a URL'.format((tweets.num_urls > 0).mean()))\n",
    "\n",
    "graph_data = tweets[tweets.num_urls > 0].groupby('num_urls').id.nunique().reset_index()\n",
    "graph_data['percentage'] = graph_data.id / graph_data.id.sum()\n",
    "\n",
    "graph = (\n",
    "    pn.ggplot(graph_data, pn.aes(x='num_urls', y='percentage'))\n",
    "    + pn.geom_point()\n",
    "    + pn.scale_y_continuous(labels=percent_format())\n",
    ")\n",
    "\n",
    "graph.draw();"
   ]
  },
  {
   "cell_type": "code",
   "execution_count": 41,
   "metadata": {},
   "outputs": [
    {
     "name": "stdout",
     "output_type": "stream",
     "text": [
      "2.0% of tweets with a photo\n"
     ]
    },
    {
     "data": {
      "image/png": "[encoded data removed]",
      "text/plain": [
       "<Figure size 640x480 with 1 Axes>"
      ]
     },
     "metadata": {},
     "output_type": "display_data"
    }
   ],
   "source": [
    "print('{:.1%} of tweets with a photo'.format((tweets.num_photos > 0).mean()))\n",
    "\n",
    "graph_data = tweets[tweets.num_photos > 0].groupby('num_photos').id.nunique().reset_index()\n",
    "graph_data['percentage'] = graph_data.id / graph_data.id.sum()\n",
    "\n",
    "graph = (\n",
    "    pn.ggplot(graph_data, pn.aes(x='num_photos', y='percentage'))\n",
    "    + pn.geom_point()\n",
    "    + pn.scale_y_continuous(labels=percent_format())\n",
    ")\n",
    "\n",
    "graph.draw();"
   ]
  },
  {
   "cell_type": "code",
   "execution_count": 42,
   "metadata": {},
   "outputs": [
    {
     "name": "stdout",
     "output_type": "stream",
     "text": [
      "2.5% of tweets were repeated\n"
     ]
    },
    {
     "data": {
      "image/png": "[encoded data removed]",
      "text/plain": [
       "<Figure size 640x480 with 1 Axes>"
      ]
     },
     "metadata": {},
     "output_type": "display_data"
    }
   ],
   "source": [
    "print('{:.1%} of tweets were repeated'.format((tweets.number_times_repeated > 1).mean()))\n",
    "\n",
    "graph_data = tweets[tweets.number_times_repeated > 1].groupby('number_times_repeated').id.nunique().reset_index()\n",
    "graph_data['percentage'] = graph_data.id / graph_data.id.sum()\n",
    "\n",
    "graph = (\n",
    "    pn.ggplot(graph_data, pn.aes(x='number_times_repeated', y='percentage'))\n",
    "    + pn.geom_point()\n",
    "    + pn.scale_y_continuous(labels=percent_format())\n",
    ")\n",
    "\n",
    "graph.draw();"
   ]
  },
  {
   "cell_type": "code",
   "execution_count": 43,
   "metadata": {},
   "outputs": [
    {
     "data": {
      "image/png": "[encoded data removed]",
      "text/plain": [
       "<Figure size 640x480 with 1 Axes>"
      ]
     },
     "metadata": {},
     "output_type": "display_data"
    }
   ],
   "source": [
    "graph_data = tweets.groupby('hour').id.nunique().reset_index()\n",
    "graph_data['percentage'] = graph_data.id / graph_data.id.sum()\n",
    "\n",
    "graph = (\n",
    "    pn.ggplot(graph_data, pn.aes(x='hour', y='percentage'))\n",
    "    + pn.geom_point()\n",
    "    + pn.scale_y_continuous(labels=percent_format())\n",
    ")\n",
    "\n",
    "graph.draw();"
   ]
  },
  {
   "cell_type": "code",
   "execution_count": 44,
   "metadata": {},
   "outputs": [
    {
     "data": {
      "image/png": "[encoded data removed]",
      "text/plain": [
       "<Figure size 640x480 with 1 Axes>"
      ]
     },
     "metadata": {},
     "output_type": "display_data"
    }
   ],
   "source": [
    "graph_data = tweets.groupby('user_id').id.nunique().reset_index().groupby('id').user_id.nunique().reset_index()\n",
    "graph_data['percentage'] = (graph_data.user_id / graph_data.user_id.sum()).cumsum()\n",
    "\n",
    "graph = (\n",
    "    pn.ggplot(graph_data, pn.aes(x='id', y='percentage'))\n",
    "    + pn.geom_point()\n",
    "    + pn.scale_y_continuous(labels=percent_format())\n",
    "    + pn.xlab('At most this number tweets in period')\n",
    ")\n",
    "\n",
    "graph.draw();"
   ]
  },
  {
   "cell_type": "code",
   "execution_count": 45,
   "metadata": {},
   "outputs": [
    {
     "data": {
      "text/plain": [
       "False    93%\n",
       "True      7%\n",
       "Name: has_quotes, dtype: object"
      ]
     },
     "execution_count": 45,
     "metadata": {},
     "output_type": "execute_result"
    }
   ],
   "source": [
    "(tweets.has_quotes.value_counts(normalize=True).round(2) * 100).astype(int).astype(str) + '%'"
   ]
  },
  {
   "cell_type": "code",
   "execution_count": 46,
   "metadata": {},
   "outputs": [
    {
     "data": {
      "text/plain": [
       "False    74%\n",
       "True     26%\n",
       "Name: has_thumbnail, dtype: object"
      ]
     },
     "execution_count": 46,
     "metadata": {},
     "output_type": "execute_result"
    }
   ],
   "source": [
    "(tweets.has_thumbnail.value_counts(normalize=True).round(2) * 100).astype(int).astype(str) + '%'"
   ]
  },
  {
   "cell_type": "code",
   "execution_count": 47,
   "metadata": {},
   "outputs": [
    {
     "data": {
      "text/plain": [
       "2021-08-12    16%\n",
       "2021-08-13    16%\n",
       "2021-08-14    11%\n",
       "2021-08-15    11%\n",
       "2021-08-16    14%\n",
       "2021-08-17    16%\n",
       "2021-08-18    16%\n",
       "2021-08-19     0%\n",
       "Name: day, dtype: object"
      ]
     },
     "execution_count": 47,
     "metadata": {},
     "output_type": "execute_result"
    }
   ],
   "source": [
    "(tweets.day.value_counts(normalize=True).sort_index().round(2) * 100).astype(int).astype(str) + '%'"
   ]
  },
  {
   "cell_type": "code",
   "execution_count": 48,
   "metadata": {},
   "outputs": [
    {
     "data": {
      "text/plain": [
       "0    74%\n",
       "1    26%\n",
       "Name: video, dtype: object"
      ]
     },
     "execution_count": 48,
     "metadata": {},
     "output_type": "execute_result"
    }
   ],
   "source": [
    "(tweets.video.value_counts(normalize=True).sort_index().round(2) * 100).astype(int).astype(str) + '%'"
   ]
  },
  {
   "cell_type": "code",
   "execution_count": 49,
   "metadata": {},
   "outputs": [
    {
     "data": {
      "text/plain": [
       "1.0"
      ]
     },
     "execution_count": 49,
     "metadata": {},
     "output_type": "execute_result"
    }
   ],
   "source": [
    "tweets[tweets.video == 1].has_thumbnail.mean()"
   ]
  },
  {
   "cell_type": "code",
   "execution_count": 50,
   "metadata": {},
   "outputs": [
    {
     "data": {
      "text/plain": [
       "1.0"
      ]
     },
     "execution_count": 50,
     "metadata": {},
     "output_type": "execute_result"
    }
   ],
   "source": [
    "tweets[tweets.has_thumbnail == 1].video.mean()"
   ]
  },
  {
   "cell_type": "markdown",
   "metadata": {},
   "source": [
    "Muchas cosas!\n",
    "\n",
    "* Los longitudes de los tweets se distribuyen con unos picos, que es curioso\n",
    "* Muy pocos tweets tienen hashtags, urls, photos etc. --> dentro de todo esto una cosa interesante es que hay varios tweets que se han repetido varias veces, posiblemente es spam?\n",
    "* Hay picos de tweets despues de las 15:00, la hora normal de estar en twitter supongo --> nota que esta hora sera en UTC o algo, asi que realmente haria falta transformar a hora local, pero nuestro campo de zona horaria estaba vacia\n",
    "* Hay algunos usuarios que han tweeteado un monton!\n",
    "* Vemos que es un poco mas comun tener quotes, y bastante normal tener thumbnails o un video --> de hecho, siempre coinciden estas columnas!\n",
    "* Y la distribucion de tweets es muy estable en el tiempo\n",
    "\n",
    "Vamos ahora a echar un vistazo a las columnas continuas"
   ]
  },
  {
   "cell_type": "code",
   "execution_count": 51,
   "metadata": {},
   "outputs": [
    {
     "data": {
      "text/html": [
       "<div>\n",
       "<style scoped>\n",
       "    .dataframe tbody tr th:only-of-type {\n",
       "        vertical-align: middle;\n",
       "    }\n",
       "\n",
       "    .dataframe tbody tr th {\n",
       "        vertical-align: top;\n",
       "    }\n",
       "\n",
       "    .dataframe thead th {\n",
       "        text-align: right;\n",
       "    }\n",
       "</style>\n",
       "<table border=\"1\" class=\"dataframe\">\n",
       "  <thead>\n",
       "    <tr style=\"text-align: right;\">\n",
       "      <th></th>\n",
       "      <th>nlikes</th>\n",
       "      <th>nreplies</th>\n",
       "      <th>nretweets</th>\n",
       "    </tr>\n",
       "  </thead>\n",
       "  <tbody>\n",
       "    <tr>\n",
       "      <th>count</th>\n",
       "      <td>30460</td>\n",
       "      <td>30460</td>\n",
       "      <td>30460</td>\n",
       "    </tr>\n",
       "    <tr>\n",
       "      <th>mean</th>\n",
       "      <td>1702</td>\n",
       "      <td>93</td>\n",
       "      <td>254</td>\n",
       "    </tr>\n",
       "    <tr>\n",
       "      <th>std</th>\n",
       "      <td>20745</td>\n",
       "      <td>1011</td>\n",
       "      <td>5164</td>\n",
       "    </tr>\n",
       "    <tr>\n",
       "      <th>min</th>\n",
       "      <td>0</td>\n",
       "      <td>0</td>\n",
       "      <td>0</td>\n",
       "    </tr>\n",
       "    <tr>\n",
       "      <th>50%</th>\n",
       "      <td>75</td>\n",
       "      <td>8</td>\n",
       "      <td>18</td>\n",
       "    </tr>\n",
       "    <tr>\n",
       "      <th>90%</th>\n",
       "      <td>2114</td>\n",
       "      <td>140</td>\n",
       "      <td>294</td>\n",
       "    </tr>\n",
       "    <tr>\n",
       "      <th>95%</th>\n",
       "      <td>5831</td>\n",
       "      <td>312</td>\n",
       "      <td>797</td>\n",
       "    </tr>\n",
       "    <tr>\n",
       "      <th>99%</th>\n",
       "      <td>30254</td>\n",
       "      <td>1398</td>\n",
       "      <td>3677</td>\n",
       "    </tr>\n",
       "    <tr>\n",
       "      <th>max</th>\n",
       "      <td>1920242</td>\n",
       "      <td>88035</td>\n",
       "      <td>541964</td>\n",
       "    </tr>\n",
       "  </tbody>\n",
       "</table>\n",
       "</div>"
      ],
      "text/plain": [
       "        nlikes  nreplies  nretweets\n",
       "count    30460     30460      30460\n",
       "mean      1702        93        254\n",
       "std      20745      1011       5164\n",
       "min          0         0          0\n",
       "50%         75         8         18\n",
       "90%       2114       140        294\n",
       "95%       5831       312        797\n",
       "99%      30254      1398       3677\n",
       "max    1920242     88035     541964"
      ]
     },
     "execution_count": 51,
     "metadata": {},
     "output_type": "execute_result"
    }
   ],
   "source": [
    "cont_cols = ['nlikes', 'nreplies', 'nretweets']\n",
    "tweets[cont_cols].describe(percentiles=[0.9, 0.95, 0.99]).astype(int)"
   ]
  },
  {
   "cell_type": "code",
   "execution_count": 52,
   "metadata": {},
   "outputs": [
    {
     "data": {
      "text/plain": [
       "nlikes        0.5%\n",
       "nreplies     13.7%\n",
       "nretweets     3.8%\n",
       "dtype: object"
      ]
     },
     "execution_count": 52,
     "metadata": {},
     "output_type": "execute_result"
    }
   ],
   "source": [
    "((tweets[cont_cols] == 0).mean() * 100).round(1).astype(str) + '%'"
   ]
  },
  {
   "cell_type": "markdown",
   "metadata": {},
   "source": [
    "Aqui vemos otra vez que hay unos outliers muy fuertes! Como estas columnas seran las bases de nuestro target, esto es muy importante. Tambien observamos que hay bastantes con valor 0 - especialemente los \"nreplies\"."
   ]
  },
  {
   "cell_type": "markdown",
   "metadata": {},
   "source": [
    "### Resumiendo\n",
    "Vamos a quitar las columnas que no nos interesan para simplificar un poco en general.\n",
    "\n",
    "En este momento tambien vamos a hacer nuestro merge para combinar la info de los usuarios con los tweets."
   ]
  },
  {
   "cell_type": "code",
   "execution_count": 53,
   "metadata": {},
   "outputs": [],
   "source": [
    "tweets['number_tweets_in_period'] = tweets.groupby('user_id').id.transform('nunique')"
   ]
  },
  {
   "cell_type": "code",
   "execution_count": 54,
   "metadata": {},
   "outputs": [],
   "source": [
    "keep_users = [col for col in users if col != 'join_datetime']\n",
    "keep_tweets = ['id', 'tweet', 'user_id', 'day', 'hour', 'language', 'video', 'num_hashtags', 'tweet_length', 'num_photos', 'has_quotes', 'same_convo_id', 'number_times_repeated', 'number_tweets_in_period'] + cont_cols\n",
    "\n",
    "users = users[keep_users].reset_index(drop=True)\n",
    "tweets = tweets[keep_tweets].reset_index(drop=True)\n",
    "\n",
    "to_drop = ['id_user']\n",
    "final_data = tweets.merge(users, left_on='user_id', right_on='id', suffixes=['', '_user']).drop(to_drop, axis=1)"
   ]
  },
  {
   "cell_type": "code",
   "execution_count": 55,
   "metadata": {},
   "outputs": [
    {
     "data": {
      "text/html": [
       "<div>\n",
       "<style scoped>\n",
       "    .dataframe tbody tr th:only-of-type {\n",
       "        vertical-align: middle;\n",
       "    }\n",
       "\n",
       "    .dataframe tbody tr th {\n",
       "        vertical-align: top;\n",
       "    }\n",
       "\n",
       "    .dataframe thead th {\n",
       "        text-align: right;\n",
       "    }\n",
       "</style>\n",
       "<table border=\"1\" class=\"dataframe\">\n",
       "  <thead>\n",
       "    <tr style=\"text-align: right;\">\n",
       "      <th></th>\n",
       "      <th>id</th>\n",
       "      <th>tweet</th>\n",
       "      <th>user_id</th>\n",
       "      <th>day</th>\n",
       "      <th>hour</th>\n",
       "      <th>language</th>\n",
       "      <th>video</th>\n",
       "      <th>num_hashtags</th>\n",
       "      <th>tweet_length</th>\n",
       "      <th>num_photos</th>\n",
       "      <th>has_quotes</th>\n",
       "      <th>same_convo_id</th>\n",
       "      <th>number_times_repeated</th>\n",
       "      <th>number_tweets_in_period</th>\n",
       "      <th>nlikes</th>\n",
       "      <th>nreplies</th>\n",
       "      <th>nretweets</th>\n",
       "      <th>tweets</th>\n",
       "      <th>following</th>\n",
       "      <th>followers</th>\n",
       "      <th>likes</th>\n",
       "      <th>media</th>\n",
       "      <th>private</th>\n",
       "      <th>verified</th>\n",
       "      <th>join_datetime_year</th>\n",
       "    </tr>\n",
       "  </thead>\n",
       "  <tbody>\n",
       "    <tr>\n",
       "      <th>0</th>\n",
       "      <td>1427736867739299841</td>\n",
       "      <td>Some casual suggestions to 😏SLIDE😏 into when u...</td>\n",
       "      <td>21447363</td>\n",
       "      <td>2021-08-17</td>\n",
       "      <td>22</td>\n",
       "      <td>en</td>\n",
       "      <td>1</td>\n",
       "      <td>1.0</td>\n",
       "      <td>164</td>\n",
       "      <td>3.0</td>\n",
       "      <td>False</td>\n",
       "      <td>True</td>\n",
       "      <td>1</td>\n",
       "      <td>3</td>\n",
       "      <td>5266</td>\n",
       "      <td>368</td>\n",
       "      <td>408</td>\n",
       "      <td>11420</td>\n",
       "      <td>235</td>\n",
       "      <td>108819032</td>\n",
       "      <td>7995</td>\n",
       "      <td>2170</td>\n",
       "      <td>False</td>\n",
       "      <td>True</td>\n",
       "      <td>2009</td>\n",
       "    </tr>\n",
       "    <tr>\n",
       "      <th>1</th>\n",
       "      <td>1427667012105371652</td>\n",
       "      <td>What have we become 😔😂  Toddler Cites Freedom ...</td>\n",
       "      <td>21447363</td>\n",
       "      <td>2021-08-17</td>\n",
       "      <td>18</td>\n",
       "      <td>en</td>\n",
       "      <td>0</td>\n",
       "      <td>0.0</td>\n",
       "      <td>104</td>\n",
       "      <td>0.0</td>\n",
       "      <td>False</td>\n",
       "      <td>True</td>\n",
       "      <td>1</td>\n",
       "      <td>3</td>\n",
       "      <td>5638</td>\n",
       "      <td>476</td>\n",
       "      <td>438</td>\n",
       "      <td>11420</td>\n",
       "      <td>235</td>\n",
       "      <td>108819032</td>\n",
       "      <td>7995</td>\n",
       "      <td>2170</td>\n",
       "      <td>False</td>\n",
       "      <td>True</td>\n",
       "      <td>2009</td>\n",
       "    </tr>\n",
       "    <tr>\n",
       "      <th>2</th>\n",
       "      <td>1427497703596990467</td>\n",
       "      <td>The tech giants that refuse to massively addre...</td>\n",
       "      <td>21447363</td>\n",
       "      <td>2021-08-17</td>\n",
       "      <td>7</td>\n",
       "      <td>en</td>\n",
       "      <td>0</td>\n",
       "      <td>0.0</td>\n",
       "      <td>157</td>\n",
       "      <td>0.0</td>\n",
       "      <td>True</td>\n",
       "      <td>True</td>\n",
       "      <td>1</td>\n",
       "      <td>3</td>\n",
       "      <td>8810</td>\n",
       "      <td>546</td>\n",
       "      <td>1211</td>\n",
       "      <td>11420</td>\n",
       "      <td>235</td>\n",
       "      <td>108819032</td>\n",
       "      <td>7995</td>\n",
       "      <td>2170</td>\n",
       "      <td>False</td>\n",
       "      <td>True</td>\n",
       "      <td>2009</td>\n",
       "    </tr>\n",
       "    <tr>\n",
       "      <th>3</th>\n",
       "      <td>1425588921233133572</td>\n",
       "      <td>Thank you @MTV @vmas! ⚔️💓  https://t.co/iyo2KW...</td>\n",
       "      <td>14230524</td>\n",
       "      <td>2021-08-12</td>\n",
       "      <td>0</td>\n",
       "      <td>en</td>\n",
       "      <td>1</td>\n",
       "      <td>0.0</td>\n",
       "      <td>50</td>\n",
       "      <td>0.0</td>\n",
       "      <td>False</td>\n",
       "      <td>True</td>\n",
       "      <td>1</td>\n",
       "      <td>1</td>\n",
       "      <td>42860</td>\n",
       "      <td>1124</td>\n",
       "      <td>5360</td>\n",
       "      <td>9519</td>\n",
       "      <td>119314</td>\n",
       "      <td>83675119</td>\n",
       "      <td>2310</td>\n",
       "      <td>1795</td>\n",
       "      <td>False</td>\n",
       "      <td>True</td>\n",
       "      <td>2008</td>\n",
       "    </tr>\n",
       "    <tr>\n",
       "      <th>4</th>\n",
       "      <td>1427806400919580672</td>\n",
       "      <td>Why would anyone be shocked that I’m drinking ...</td>\n",
       "      <td>19248106</td>\n",
       "      <td>2021-08-18</td>\n",
       "      <td>3</td>\n",
       "      <td>en</td>\n",
       "      <td>1</td>\n",
       "      <td>0.0</td>\n",
       "      <td>160</td>\n",
       "      <td>0.0</td>\n",
       "      <td>False</td>\n",
       "      <td>True</td>\n",
       "      <td>1</td>\n",
       "      <td>8</td>\n",
       "      <td>8723</td>\n",
       "      <td>339</td>\n",
       "      <td>965</td>\n",
       "      <td>10252</td>\n",
       "      <td>188</td>\n",
       "      <td>21612341</td>\n",
       "      <td>4346</td>\n",
       "      <td>2504</td>\n",
       "      <td>False</td>\n",
       "      <td>True</td>\n",
       "      <td>2009</td>\n",
       "    </tr>\n",
       "  </tbody>\n",
       "</table>\n",
       "</div>"
      ],
      "text/plain": [
       "                    id                                              tweet  \\\n",
       "0  1427736867739299841  Some casual suggestions to 😏SLIDE😏 into when u...   \n",
       "1  1427667012105371652  What have we become 😔😂  Toddler Cites Freedom ...   \n",
       "2  1427497703596990467  The tech giants that refuse to massively addre...   \n",
       "3  1425588921233133572  Thank you @MTV @vmas! ⚔️💓  https://t.co/iyo2KW...   \n",
       "4  1427806400919580672  Why would anyone be shocked that I’m drinking ...   \n",
       "\n",
       "    user_id         day  hour language  video  num_hashtags  tweet_length  \\\n",
       "0  21447363  2021-08-17    22       en      1           1.0           164   \n",
       "1  21447363  2021-08-17    18       en      0           0.0           104   \n",
       "2  21447363  2021-08-17     7       en      0           0.0           157   \n",
       "3  14230524  2021-08-12     0       en      1           0.0            50   \n",
       "4  19248106  2021-08-18     3       en      1           0.0           160   \n",
       "\n",
       "   num_photos  has_quotes  same_convo_id  number_times_repeated  \\\n",
       "0         3.0       False           True                      1   \n",
       "1         0.0       False           True                      1   \n",
       "2         0.0        True           True                      1   \n",
       "3         0.0       False           True                      1   \n",
       "4         0.0       False           True                      1   \n",
       "\n",
       "   number_tweets_in_period  nlikes  nreplies  nretweets  tweets  following  \\\n",
       "0                        3    5266       368        408   11420        235   \n",
       "1                        3    5638       476        438   11420        235   \n",
       "2                        3    8810       546       1211   11420        235   \n",
       "3                        1   42860      1124       5360    9519     119314   \n",
       "4                        8    8723       339        965   10252        188   \n",
       "\n",
       "   followers  likes  media private verified  join_datetime_year  \n",
       "0  108819032   7995   2170   False     True                2009  \n",
       "1  108819032   7995   2170   False     True                2009  \n",
       "2  108819032   7995   2170   False     True                2009  \n",
       "3   83675119   2310   1795   False     True                2008  \n",
       "4   21612341   4346   2504   False     True                2009  "
      ]
     },
     "execution_count": 55,
     "metadata": {},
     "output_type": "execute_result"
    }
   ],
   "source": [
    "final_data.head()"
   ]
  },
  {
   "cell_type": "markdown",
   "metadata": {},
   "source": [
    "## El target\n",
    "Ahora tenemos que ver que cogemos como el target. Ya hemos visto las 3 principales datos de interes y que tienen muchos outliers. Tambien hemos visto que algunos son 0 y otros no.\n",
    "\n",
    "Esto ya es un tema muy abierto porque podriamos hacer casi cualquier cosa. Yo estoy pensando varias cosas:\n",
    "\n",
    "* Tener outliers muy fuertes nos va a joder la regresion\n",
    "* No está 100% claro que significa \"popularidad\" - inicialmente la idea que tenian los clientes era contestar al tweet con contenido interesante, asi que quizas el numero de respuestas puede interesar (o quizas mejor tener pocas respuestas, para garantizar que llegamos antes de la gran ola de comentarios iniciales?)\n",
    "* Puede haber tweets que parecen populares en alguna de nuestras medidas y no la otra, pero la escala de cada uno es muy diferente"
   ]
  },
  {
   "cell_type": "code",
   "execution_count": 56,
   "metadata": {},
   "outputs": [
    {
     "data": {
      "text/html": [
       "<div>\n",
       "<style scoped>\n",
       "    .dataframe tbody tr th:only-of-type {\n",
       "        vertical-align: middle;\n",
       "    }\n",
       "\n",
       "    .dataframe tbody tr th {\n",
       "        vertical-align: top;\n",
       "    }\n",
       "\n",
       "    .dataframe thead th {\n",
       "        text-align: right;\n",
       "    }\n",
       "</style>\n",
       "<table border=\"1\" class=\"dataframe\">\n",
       "  <thead>\n",
       "    <tr style=\"text-align: right;\">\n",
       "      <th></th>\n",
       "      <th>nlikes</th>\n",
       "      <th>nreplies</th>\n",
       "      <th>nretweets</th>\n",
       "    </tr>\n",
       "  </thead>\n",
       "  <tbody>\n",
       "    <tr>\n",
       "      <th>0.70</th>\n",
       "      <td>226</td>\n",
       "      <td>28</td>\n",
       "      <td>52</td>\n",
       "    </tr>\n",
       "    <tr>\n",
       "      <th>0.80</th>\n",
       "      <td>526</td>\n",
       "      <td>56</td>\n",
       "      <td>104</td>\n",
       "    </tr>\n",
       "    <tr>\n",
       "      <th>0.90</th>\n",
       "      <td>2114</td>\n",
       "      <td>140</td>\n",
       "      <td>294</td>\n",
       "    </tr>\n",
       "    <tr>\n",
       "      <th>0.95</th>\n",
       "      <td>5831</td>\n",
       "      <td>312</td>\n",
       "      <td>797</td>\n",
       "    </tr>\n",
       "    <tr>\n",
       "      <th>0.99</th>\n",
       "      <td>30254</td>\n",
       "      <td>1398</td>\n",
       "      <td>3677</td>\n",
       "    </tr>\n",
       "  </tbody>\n",
       "</table>\n",
       "</div>"
      ],
      "text/plain": [
       "      nlikes  nreplies  nretweets\n",
       "0.70     226        28         52\n",
       "0.80     526        56        104\n",
       "0.90    2114       140        294\n",
       "0.95    5831       312        797\n",
       "0.99   30254      1398       3677"
      ]
     },
     "execution_count": 56,
     "metadata": {},
     "output_type": "execute_result"
    }
   ],
   "source": [
    "cont_cols = ['nlikes', 'nreplies', 'nretweets']\n",
    "tweets[cont_cols].quantile([0.7, 0.8, 0.9, 0.95, 0.99]).astype(int)"
   ]
  },
  {
   "cell_type": "markdown",
   "metadata": {},
   "source": [
    "Que valores podrian calificar como popular? igual apartir de 500 likes, 50 replies, y 100 retweets?"
   ]
  },
  {
   "cell_type": "code",
   "execution_count": 57,
   "metadata": {},
   "outputs": [
    {
     "data": {
      "text/html": [
       "<div>\n",
       "<style scoped>\n",
       "    .dataframe tbody tr th:only-of-type {\n",
       "        vertical-align: middle;\n",
       "    }\n",
       "\n",
       "    .dataframe tbody tr th {\n",
       "        vertical-align: top;\n",
       "    }\n",
       "\n",
       "    .dataframe thead th {\n",
       "        text-align: right;\n",
       "    }\n",
       "</style>\n",
       "<table border=\"1\" class=\"dataframe\">\n",
       "  <thead>\n",
       "    <tr style=\"text-align: right;\">\n",
       "      <th></th>\n",
       "      <th>nlikes</th>\n",
       "      <th>nreplies</th>\n",
       "      <th>nretweets</th>\n",
       "    </tr>\n",
       "  </thead>\n",
       "  <tbody>\n",
       "    <tr>\n",
       "      <th>count</th>\n",
       "      <td>161</td>\n",
       "      <td>161</td>\n",
       "      <td>161</td>\n",
       "    </tr>\n",
       "    <tr>\n",
       "      <th>mean</th>\n",
       "      <td>0</td>\n",
       "      <td>0</td>\n",
       "      <td>0</td>\n",
       "    </tr>\n",
       "    <tr>\n",
       "      <th>std</th>\n",
       "      <td>0</td>\n",
       "      <td>1</td>\n",
       "      <td>0</td>\n",
       "    </tr>\n",
       "    <tr>\n",
       "      <th>min</th>\n",
       "      <td>0</td>\n",
       "      <td>0</td>\n",
       "      <td>0</td>\n",
       "    </tr>\n",
       "    <tr>\n",
       "      <th>50%</th>\n",
       "      <td>0</td>\n",
       "      <td>0</td>\n",
       "      <td>0</td>\n",
       "    </tr>\n",
       "    <tr>\n",
       "      <th>90%</th>\n",
       "      <td>0</td>\n",
       "      <td>2</td>\n",
       "      <td>1</td>\n",
       "    </tr>\n",
       "    <tr>\n",
       "      <th>95%</th>\n",
       "      <td>0</td>\n",
       "      <td>3</td>\n",
       "      <td>2</td>\n",
       "    </tr>\n",
       "    <tr>\n",
       "      <th>99%</th>\n",
       "      <td>0</td>\n",
       "      <td>7</td>\n",
       "      <td>3</td>\n",
       "    </tr>\n",
       "    <tr>\n",
       "      <th>max</th>\n",
       "      <td>0</td>\n",
       "      <td>8</td>\n",
       "      <td>3</td>\n",
       "    </tr>\n",
       "  </tbody>\n",
       "</table>\n",
       "</div>"
      ],
      "text/plain": [
       "       nlikes  nreplies  nretweets\n",
       "count     161       161        161\n",
       "mean        0         0          0\n",
       "std         0         1          0\n",
       "min         0         0          0\n",
       "50%         0         0          0\n",
       "90%         0         2          1\n",
       "95%         0         3          2\n",
       "99%         0         7          3\n",
       "max         0         8          3"
      ]
     },
     "execution_count": 57,
     "metadata": {},
     "output_type": "execute_result"
    }
   ],
   "source": [
    "tweets.loc[tweets[cont_cols[0]] == 0, cont_cols].describe(percentiles=[0.9, 0.95, 0.99]).astype(int)"
   ]
  },
  {
   "cell_type": "code",
   "execution_count": 58,
   "metadata": {},
   "outputs": [
    {
     "data": {
      "text/html": [
       "<div>\n",
       "<style scoped>\n",
       "    .dataframe tbody tr th:only-of-type {\n",
       "        vertical-align: middle;\n",
       "    }\n",
       "\n",
       "    .dataframe tbody tr th {\n",
       "        vertical-align: top;\n",
       "    }\n",
       "\n",
       "    .dataframe thead th {\n",
       "        text-align: right;\n",
       "    }\n",
       "</style>\n",
       "<table border=\"1\" class=\"dataframe\">\n",
       "  <thead>\n",
       "    <tr style=\"text-align: right;\">\n",
       "      <th></th>\n",
       "      <th>nlikes</th>\n",
       "      <th>nreplies</th>\n",
       "      <th>nretweets</th>\n",
       "    </tr>\n",
       "  </thead>\n",
       "  <tbody>\n",
       "    <tr>\n",
       "      <th>count</th>\n",
       "      <td>4172</td>\n",
       "      <td>4172</td>\n",
       "      <td>4172</td>\n",
       "    </tr>\n",
       "    <tr>\n",
       "      <th>mean</th>\n",
       "      <td>38</td>\n",
       "      <td>0</td>\n",
       "      <td>10</td>\n",
       "    </tr>\n",
       "    <tr>\n",
       "      <th>std</th>\n",
       "      <td>186</td>\n",
       "      <td>0</td>\n",
       "      <td>28</td>\n",
       "    </tr>\n",
       "    <tr>\n",
       "      <th>min</th>\n",
       "      <td>0</td>\n",
       "      <td>0</td>\n",
       "      <td>0</td>\n",
       "    </tr>\n",
       "    <tr>\n",
       "      <th>50%</th>\n",
       "      <td>11</td>\n",
       "      <td>0</td>\n",
       "      <td>3</td>\n",
       "    </tr>\n",
       "    <tr>\n",
       "      <th>90%</th>\n",
       "      <td>68</td>\n",
       "      <td>0</td>\n",
       "      <td>16</td>\n",
       "    </tr>\n",
       "    <tr>\n",
       "      <th>95%</th>\n",
       "      <td>163</td>\n",
       "      <td>0</td>\n",
       "      <td>64</td>\n",
       "    </tr>\n",
       "    <tr>\n",
       "      <th>99%</th>\n",
       "      <td>351</td>\n",
       "      <td>0</td>\n",
       "      <td>150</td>\n",
       "    </tr>\n",
       "    <tr>\n",
       "      <th>max</th>\n",
       "      <td>6651</td>\n",
       "      <td>0</td>\n",
       "      <td>374</td>\n",
       "    </tr>\n",
       "  </tbody>\n",
       "</table>\n",
       "</div>"
      ],
      "text/plain": [
       "       nlikes  nreplies  nretweets\n",
       "count    4172      4172       4172\n",
       "mean       38         0         10\n",
       "std       186         0         28\n",
       "min         0         0          0\n",
       "50%        11         0          3\n",
       "90%        68         0         16\n",
       "95%       163         0         64\n",
       "99%       351         0        150\n",
       "max      6651         0        374"
      ]
     },
     "execution_count": 58,
     "metadata": {},
     "output_type": "execute_result"
    }
   ],
   "source": [
    "tweets.loc[tweets[cont_cols[1]] == 0, cont_cols].describe(percentiles=[0.9, 0.95, 0.99]).astype(int)"
   ]
  },
  {
   "cell_type": "code",
   "execution_count": 59,
   "metadata": {},
   "outputs": [
    {
     "data": {
      "text/html": [
       "<div>\n",
       "<style scoped>\n",
       "    .dataframe tbody tr th:only-of-type {\n",
       "        vertical-align: middle;\n",
       "    }\n",
       "\n",
       "    .dataframe tbody tr th {\n",
       "        vertical-align: top;\n",
       "    }\n",
       "\n",
       "    .dataframe thead th {\n",
       "        text-align: right;\n",
       "    }\n",
       "</style>\n",
       "<table border=\"1\" class=\"dataframe\">\n",
       "  <thead>\n",
       "    <tr style=\"text-align: right;\">\n",
       "      <th></th>\n",
       "      <th>nlikes</th>\n",
       "      <th>nreplies</th>\n",
       "      <th>nretweets</th>\n",
       "    </tr>\n",
       "  </thead>\n",
       "  <tbody>\n",
       "    <tr>\n",
       "      <th>count</th>\n",
       "      <td>1153</td>\n",
       "      <td>1153</td>\n",
       "      <td>1153</td>\n",
       "    </tr>\n",
       "    <tr>\n",
       "      <th>mean</th>\n",
       "      <td>9</td>\n",
       "      <td>1</td>\n",
       "      <td>0</td>\n",
       "    </tr>\n",
       "    <tr>\n",
       "      <th>std</th>\n",
       "      <td>18</td>\n",
       "      <td>2</td>\n",
       "      <td>0</td>\n",
       "    </tr>\n",
       "    <tr>\n",
       "      <th>min</th>\n",
       "      <td>0</td>\n",
       "      <td>0</td>\n",
       "      <td>0</td>\n",
       "    </tr>\n",
       "    <tr>\n",
       "      <th>50%</th>\n",
       "      <td>4</td>\n",
       "      <td>0</td>\n",
       "      <td>0</td>\n",
       "    </tr>\n",
       "    <tr>\n",
       "      <th>90%</th>\n",
       "      <td>20</td>\n",
       "      <td>3</td>\n",
       "      <td>0</td>\n",
       "    </tr>\n",
       "    <tr>\n",
       "      <th>95%</th>\n",
       "      <td>34</td>\n",
       "      <td>5</td>\n",
       "      <td>0</td>\n",
       "    </tr>\n",
       "    <tr>\n",
       "      <th>99%</th>\n",
       "      <td>81</td>\n",
       "      <td>10</td>\n",
       "      <td>0</td>\n",
       "    </tr>\n",
       "    <tr>\n",
       "      <th>max</th>\n",
       "      <td>310</td>\n",
       "      <td>45</td>\n",
       "      <td>0</td>\n",
       "    </tr>\n",
       "  </tbody>\n",
       "</table>\n",
       "</div>"
      ],
      "text/plain": [
       "       nlikes  nreplies  nretweets\n",
       "count    1153      1153       1153\n",
       "mean        9         1          0\n",
       "std        18         2          0\n",
       "min         0         0          0\n",
       "50%         4         0          0\n",
       "90%        20         3          0\n",
       "95%        34         5          0\n",
       "99%        81        10          0\n",
       "max       310        45          0"
      ]
     },
     "execution_count": 59,
     "metadata": {},
     "output_type": "execute_result"
    }
   ],
   "source": [
    "tweets.loc[tweets[cont_cols[2]] == 0, cont_cols].describe(percentiles=[0.9, 0.95, 0.99]).astype(int)"
   ]
  },
  {
   "cell_type": "markdown",
   "metadata": {},
   "source": [
    "Aqui vemos que pasa cuando algun valor es 0 - parece ser que si los likes son 0, realmente es muy poco probable que sea el tweet popular en las otras medidas. Para los replies y retweets, si son 0, tampoco parece que el tweet va a ser muy popular, aunque la relacion es menos fuerte que para los likes.\n",
    "\n",
    "Esto entonces parece significar que \"un tweet no va a ser popular si no es popular en cualquier de las medidas\" (solo hemos visto para cuando es igual a 0, pero podemos asumir que la relacion seguiria asi para valores bajos tambien)."
   ]
  },
  {
   "cell_type": "code",
   "execution_count": 60,
   "metadata": {},
   "outputs": [
    {
     "data": {
      "text/html": [
       "<div>\n",
       "<style scoped>\n",
       "    .dataframe tbody tr th:only-of-type {\n",
       "        vertical-align: middle;\n",
       "    }\n",
       "\n",
       "    .dataframe tbody tr th {\n",
       "        vertical-align: top;\n",
       "    }\n",
       "\n",
       "    .dataframe thead th {\n",
       "        text-align: right;\n",
       "    }\n",
       "</style>\n",
       "<table border=\"1\" class=\"dataframe\">\n",
       "  <thead>\n",
       "    <tr style=\"text-align: right;\">\n",
       "      <th></th>\n",
       "      <th>nlikes</th>\n",
       "      <th>nreplies</th>\n",
       "      <th>nretweets</th>\n",
       "    </tr>\n",
       "  </thead>\n",
       "  <tbody>\n",
       "    <tr>\n",
       "      <th>count</th>\n",
       "      <td>6088</td>\n",
       "      <td>6088</td>\n",
       "      <td>6088</td>\n",
       "    </tr>\n",
       "    <tr>\n",
       "      <th>mean</th>\n",
       "      <td>8143</td>\n",
       "      <td>398</td>\n",
       "      <td>1172</td>\n",
       "    </tr>\n",
       "    <tr>\n",
       "      <th>std</th>\n",
       "      <td>45842</td>\n",
       "      <td>2235</td>\n",
       "      <td>11506</td>\n",
       "    </tr>\n",
       "    <tr>\n",
       "      <th>min</th>\n",
       "      <td>527</td>\n",
       "      <td>0</td>\n",
       "      <td>2</td>\n",
       "    </tr>\n",
       "    <tr>\n",
       "      <th>25%</th>\n",
       "      <td>972</td>\n",
       "      <td>47</td>\n",
       "      <td>132</td>\n",
       "    </tr>\n",
       "    <tr>\n",
       "      <th>50%</th>\n",
       "      <td>2119</td>\n",
       "      <td>113</td>\n",
       "      <td>292</td>\n",
       "    </tr>\n",
       "    <tr>\n",
       "      <th>90%</th>\n",
       "      <td>16234</td>\n",
       "      <td>752</td>\n",
       "      <td>2169</td>\n",
       "    </tr>\n",
       "    <tr>\n",
       "      <th>max</th>\n",
       "      <td>1920242</td>\n",
       "      <td>88035</td>\n",
       "      <td>541964</td>\n",
       "    </tr>\n",
       "  </tbody>\n",
       "</table>\n",
       "</div>"
      ],
      "text/plain": [
       "        nlikes  nreplies  nretweets\n",
       "count     6088      6088       6088\n",
       "mean      8143       398       1172\n",
       "std      45842      2235      11506\n",
       "min        527         0          2\n",
       "25%        972        47        132\n",
       "50%       2119       113        292\n",
       "90%      16234       752       2169\n",
       "max    1920242     88035     541964"
      ]
     },
     "execution_count": 60,
     "metadata": {},
     "output_type": "execute_result"
    }
   ],
   "source": [
    "tweets.loc[tweets[cont_cols[0]] > tweets[cont_cols[0]].quantile(0.8), cont_cols].describe(percentiles=[0.25, 0.9]).astype(int)"
   ]
  },
  {
   "cell_type": "code",
   "execution_count": 61,
   "metadata": {},
   "outputs": [
    {
     "data": {
      "text/html": [
       "<div>\n",
       "<style scoped>\n",
       "    .dataframe tbody tr th:only-of-type {\n",
       "        vertical-align: middle;\n",
       "    }\n",
       "\n",
       "    .dataframe tbody tr th {\n",
       "        vertical-align: top;\n",
       "    }\n",
       "\n",
       "    .dataframe thead th {\n",
       "        text-align: right;\n",
       "    }\n",
       "</style>\n",
       "<table border=\"1\" class=\"dataframe\">\n",
       "  <thead>\n",
       "    <tr style=\"text-align: right;\">\n",
       "      <th></th>\n",
       "      <th>nlikes</th>\n",
       "      <th>nreplies</th>\n",
       "      <th>nretweets</th>\n",
       "    </tr>\n",
       "  </thead>\n",
       "  <tbody>\n",
       "    <tr>\n",
       "      <th>count</th>\n",
       "      <td>6054</td>\n",
       "      <td>6054</td>\n",
       "      <td>6054</td>\n",
       "    </tr>\n",
       "    <tr>\n",
       "      <th>mean</th>\n",
       "      <td>7760</td>\n",
       "      <td>426</td>\n",
       "      <td>1145</td>\n",
       "    </tr>\n",
       "    <tr>\n",
       "      <th>std</th>\n",
       "      <td>46020</td>\n",
       "      <td>2237</td>\n",
       "      <td>11540</td>\n",
       "    </tr>\n",
       "    <tr>\n",
       "      <th>min</th>\n",
       "      <td>7</td>\n",
       "      <td>57</td>\n",
       "      <td>1</td>\n",
       "    </tr>\n",
       "    <tr>\n",
       "      <th>25%</th>\n",
       "      <td>433</td>\n",
       "      <td>85</td>\n",
       "      <td>92</td>\n",
       "    </tr>\n",
       "    <tr>\n",
       "      <th>50%</th>\n",
       "      <td>1503</td>\n",
       "      <td>141</td>\n",
       "      <td>247</td>\n",
       "    </tr>\n",
       "    <tr>\n",
       "      <th>90%</th>\n",
       "      <td>16227</td>\n",
       "      <td>765</td>\n",
       "      <td>2172</td>\n",
       "    </tr>\n",
       "    <tr>\n",
       "      <th>max</th>\n",
       "      <td>1920242</td>\n",
       "      <td>88035</td>\n",
       "      <td>541964</td>\n",
       "    </tr>\n",
       "  </tbody>\n",
       "</table>\n",
       "</div>"
      ],
      "text/plain": [
       "        nlikes  nreplies  nretweets\n",
       "count     6054      6054       6054\n",
       "mean      7760       426       1145\n",
       "std      46020      2237      11540\n",
       "min          7        57          1\n",
       "25%        433        85         92\n",
       "50%       1503       141        247\n",
       "90%      16227       765       2172\n",
       "max    1920242     88035     541964"
      ]
     },
     "execution_count": 61,
     "metadata": {},
     "output_type": "execute_result"
    }
   ],
   "source": [
    "tweets.loc[tweets[cont_cols[1]] > tweets[cont_cols[1]].quantile(0.8), cont_cols].describe(percentiles=[0.25, 0.9]).astype(int)"
   ]
  },
  {
   "cell_type": "code",
   "execution_count": 62,
   "metadata": {},
   "outputs": [
    {
     "data": {
      "text/html": [
       "<div>\n",
       "<style scoped>\n",
       "    .dataframe tbody tr th:only-of-type {\n",
       "        vertical-align: middle;\n",
       "    }\n",
       "\n",
       "    .dataframe tbody tr th {\n",
       "        vertical-align: top;\n",
       "    }\n",
       "\n",
       "    .dataframe thead th {\n",
       "        text-align: right;\n",
       "    }\n",
       "</style>\n",
       "<table border=\"1\" class=\"dataframe\">\n",
       "  <thead>\n",
       "    <tr style=\"text-align: right;\">\n",
       "      <th></th>\n",
       "      <th>nlikes</th>\n",
       "      <th>nreplies</th>\n",
       "      <th>nretweets</th>\n",
       "    </tr>\n",
       "  </thead>\n",
       "  <tbody>\n",
       "    <tr>\n",
       "      <th>count</th>\n",
       "      <td>6064</td>\n",
       "      <td>6064</td>\n",
       "      <td>6064</td>\n",
       "    </tr>\n",
       "    <tr>\n",
       "      <th>mean</th>\n",
       "      <td>7996</td>\n",
       "      <td>397</td>\n",
       "      <td>1193</td>\n",
       "    </tr>\n",
       "    <tr>\n",
       "      <th>std</th>\n",
       "      <td>45956</td>\n",
       "      <td>2239</td>\n",
       "      <td>11527</td>\n",
       "    </tr>\n",
       "    <tr>\n",
       "      <th>min</th>\n",
       "      <td>41</td>\n",
       "      <td>0</td>\n",
       "      <td>105</td>\n",
       "    </tr>\n",
       "    <tr>\n",
       "      <th>25%</th>\n",
       "      <td>696</td>\n",
       "      <td>49</td>\n",
       "      <td>160</td>\n",
       "    </tr>\n",
       "    <tr>\n",
       "      <th>50%</th>\n",
       "      <td>1941</td>\n",
       "      <td>114</td>\n",
       "      <td>296</td>\n",
       "    </tr>\n",
       "    <tr>\n",
       "      <th>90%</th>\n",
       "      <td>16259</td>\n",
       "      <td>752</td>\n",
       "      <td>2172</td>\n",
       "    </tr>\n",
       "    <tr>\n",
       "      <th>max</th>\n",
       "      <td>1920242</td>\n",
       "      <td>88035</td>\n",
       "      <td>541964</td>\n",
       "    </tr>\n",
       "  </tbody>\n",
       "</table>\n",
       "</div>"
      ],
      "text/plain": [
       "        nlikes  nreplies  nretweets\n",
       "count     6064      6064       6064\n",
       "mean      7996       397       1193\n",
       "std      45956      2239      11527\n",
       "min         41         0        105\n",
       "25%        696        49        160\n",
       "50%       1941       114        296\n",
       "90%      16259       752       2172\n",
       "max    1920242     88035     541964"
      ]
     },
     "execution_count": 62,
     "metadata": {},
     "output_type": "execute_result"
    }
   ],
   "source": [
    "tweets.loc[tweets[cont_cols[2]] > tweets[cont_cols[2]].quantile(0.8), cont_cols].describe(percentiles=[0.25, 0.9]).astype(int)"
   ]
  },
  {
   "cell_type": "markdown",
   "metadata": {},
   "source": [
    "Vemos aqui que cuando uno de los valores es alto, tambien parece que los demas van a ser altos (por ejemplo, el percentil 25% es mas o menos donde deciamos que podriamos considerar que un tweet sea \"popular\").\n",
    "\n",
    "Con estos resultados me siento comodo solo cogiendo un target ya que la interpretacion de tal target sera un poco mas facil (o sea, mas facil interpretar que predecimos los likes que la media ponderada de las 3 cosas).\n",
    "\n",
    "Finalmente creo que cogere el numero de likes, simplemente porque tiene menos 0s y asi sera un poco mas facil para la regresion. Ahora bien - tendremos que quitar algunos de los outliers antes de entrenar."
   ]
  },
  {
   "cell_type": "markdown",
   "metadata": {},
   "source": [
    "### Separando train y test\n",
    "Antes de nada vamos a separar train y test para mantener todo mas limpio.\n",
    "\n",
    "Me di cuenta de algo importante! Nuestras colmnas que cuentan los tweets tienen en cuenta datos de test (tecnicamente), asi que tendremos que volver a hacer el calculo para evitar leaking.\n",
    "\n",
    "Voy a hacer esto por fechas - simplemente porque para nuestras variables que calculan agregaciones, sera mas limpio. Tenemos 7 dias, asi que podriamos coger 3 dias para train, 2 para validacion y 2 para test. Nota - no es necesario hacer esto por fechas, especialmente como tenemos pocos dias, pero quiero ver si las variables agregadas son buenas o no."
   ]
  },
  {
   "cell_type": "code",
   "execution_count": 63,
   "metadata": {},
   "outputs": [
    {
     "name": "stdout",
     "output_type": "stream",
     "text": [
      "(13228, 23)\n",
      "(7552, 23)\n",
      "(9675, 23)\n"
     ]
    }
   ],
   "source": [
    "train_days = ['2021-08-12', '2021-08-13', '2021-08-14']\n",
    "val_days = ['2021-08-15', '2021-08-16']\n",
    "test_days = ['2021-08-17', '2021-08-18']\n",
    "\n",
    "renew_cols = ['number_tweets_in_period', 'number_times_repeated']\n",
    "train = final_data[final_data.day.astype(str).isin(train_days)].reset_index(drop=True).drop(renew_cols, axis=1)\n",
    "val = final_data[final_data.day.astype(str).isin(val_days)].reset_index(drop=True).drop(renew_cols, axis=1)\n",
    "test = final_data[final_data.day.astype(str).isin(test_days)].reset_index(drop=True).drop(renew_cols, axis=1)\n",
    "\n",
    "print(train.shape)\n",
    "print(val.shape)\n",
    "print(test.shape)"
   ]
  },
  {
   "cell_type": "code",
   "execution_count": 64,
   "metadata": {},
   "outputs": [],
   "source": [
    "tweet_counts = train.tweet.value_counts().reset_index().rename(columns={'tweet' : 'number_times_repeated', 'index' : 'tweet'})\n",
    "train = train.merge(tweet_counts, how='left')\n",
    "val = val.merge(tweet_counts, how='left')\n",
    "test = test.merge(tweet_counts, how='left')\n",
    "\n",
    "user_tweets = train.groupby('user_id').id.nunique().reset_index().rename(columns={'id' : 'number_tweets_in_period'})\n",
    "train = train.merge(user_tweets, how='left')\n",
    "val = val.merge(user_tweets, how='left')\n",
    "test = test.merge(user_tweets, how='left')\n",
    "\n",
    "# Vamos a tener nulos porque habran usuarios / tweets que aparecen por primera vez - a estos les tenemos que poner un 0 pero tambien sumar 1 a todos!\n",
    "val[renew_cols] = val[renew_cols].fillna(0) + 1\n",
    "test[renew_cols] = test[renew_cols].fillna(0) + 1"
   ]
  },
  {
   "cell_type": "markdown",
   "metadata": {},
   "source": [
    "### Analizando relevancia de variables\n",
    "Ahora que tenemos todo bien separado, vamos a ver que factores influyen sobre el target. \n",
    "\n",
    "Primero voy a reducir los outliers pero solo en train. Hago esto poniendo un tope al valor que voy a fijar en el percentil 95. Esto me parece sensato y va a ayudar en el training."
   ]
  },
  {
   "cell_type": "code",
   "execution_count": 65,
   "metadata": {},
   "outputs": [],
   "source": [
    "target = 'nlikes'\n",
    "train[target] = train[target].clip(upper=train[target].quantile(0.95))"
   ]
  },
  {
   "cell_type": "markdown",
   "metadata": {},
   "source": [
    "Ahora vamos a echar un vistazo en como de importantes pueden ser algunas variables. Esto va a actuar como un primer \"filtro\" de las variables que pueden llegar a ser importantes."
   ]
  },
  {
   "cell_type": "code",
   "execution_count": 66,
   "metadata": {},
   "outputs": [],
   "source": [
    "cat_vars = ['hour', 'language', 'video', 'num_hashtags', 'num_photos', 'has_quotes', 'same_convo_id', 'verified', 'join_datetime_year', 'number_times_repeated']\n",
    "cont_vars = ['number_tweets_in_period', 'tweet_length', 'tweets', 'following', 'followers', 'likes', 'media', 'private']"
   ]
  },
  {
   "cell_type": "code",
   "execution_count": 67,
   "metadata": {},
   "outputs": [
    {
     "name": "stdout",
     "output_type": "stream",
     "text": [
      "    hour  count   mean  median   sem\n",
      "0      0    647  499.0    60.0  47.0\n",
      "1      1    581  539.0    65.0  55.0\n",
      "2      2    580  468.0    67.0  50.0\n",
      "3      3    506  636.0    72.0  63.0\n",
      "4      4    433  639.0    72.0  70.0\n",
      "5      5    442  727.0    82.0  73.0\n",
      "6      6    376  578.0    70.0  71.0\n",
      "7      7    289  520.0    74.0  77.0\n",
      "8      8    300  659.0    90.0  82.0\n",
      "9      9    306  684.0    73.0  82.0\n",
      "10    10    303  752.0    95.0  88.0\n",
      "11    11    321  810.0    90.0  90.0\n",
      "12    12    368  878.0    82.0  91.0\n",
      "13    13    404  679.0    70.0  79.0\n",
      "14    14    507  676.0    74.0  67.0\n",
      "15    15    744  720.0    81.0  56.0\n",
      "16    16    776  564.0    73.0  47.0\n",
      "17    17    810  555.0    62.0  47.0\n",
      "18    18    796  608.0    69.0  49.0\n",
      "19    19    853  621.0    67.0  49.0\n",
      "20    20    776  542.0    63.0  45.0\n",
      "21    21    755  682.0    54.0  55.0\n",
      "22    22    691  740.0    64.0  61.0\n",
      "23    23    664  811.0    81.0  65.0\n",
      "\n",
      "\n",
      "   language  count    mean  median    sem\n",
      "0        ar    404   608.0   176.0   61.0\n",
      "5        en  10549   520.0    54.0   13.0\n",
      "6        es   1032   730.0    86.0   47.0\n",
      "21       pt    472  1289.0   252.0   93.0\n",
      "27      und    343  1406.0   232.0  113.0\n",
      "\n",
      "\n",
      "   video  count    mean  median   sem\n",
      "0      0   9823   479.0    55.0  12.0\n",
      "1      1   3405  1100.0   157.0  32.0\n",
      "\n",
      "\n",
      "   num_hashtags  count   mean  median   sem\n",
      "0           0.0  12779  631.0    69.0  13.0\n",
      "1           1.0    301  873.0   145.0  93.0\n",
      "\n",
      "\n",
      "   num_photos  count   mean  median   sem\n",
      "0         0.0  13011  623.0    69.0  12.0\n",
      "\n",
      "\n",
      "   has_quotes  count   mean  median   sem\n",
      "0       False  12234  612.0    65.0  13.0\n",
      "1        True    994  973.0   216.0  51.0\n",
      "\n",
      "\n",
      "   same_convo_id  count   mean  median   sem\n",
      "0          False    552  630.0    38.0  62.0\n",
      "1           True  12676  639.0    72.0  13.0\n",
      "\n",
      "\n",
      "   verified  count   mean  median   sem\n",
      "0     False    389  217.0   159.0  28.0\n",
      "1      True  12839  652.0    69.0  13.0\n",
      "\n",
      "\n",
      "   join_datetime_year  count    mean  median    sem\n",
      "1                2007   4999   256.0    45.0   10.0\n",
      "2                2008   2948   467.0    41.0   23.0\n",
      "3                2009   2863  1032.0   136.0   34.0\n",
      "4                2010    648  1547.0   288.0   84.0\n",
      "5                2011   1068   773.0   150.0   47.0\n",
      "6                2012    347  1375.0   227.0  110.0\n",
      "8                2014    124   384.0   116.0   91.0\n",
      "\n",
      "\n",
      "   number_times_repeated  count   mean  median   sem\n",
      "0                      1  13121  640.0    70.0  13.0\n",
      "\n",
      "\n"
     ]
    }
   ],
   "source": [
    "for variable in cat_vars:\n",
    "    result = train.groupby(variable)[target].agg(['count', 'mean', 'median', 'sem']).round().reset_index()\n",
    "    \n",
    "    # Quiero eliminar los que tienen muy poca muestra\n",
    "    result = result[result['count'] > 100]\n",
    "    print(result)\n",
    "    print('\\n')"
   ]
  },
  {
   "cell_type": "code",
   "execution_count": 68,
   "metadata": {},
   "outputs": [],
   "source": [
    "interesting_cats = ['language', 'video', 'has_quotes', 'verified', 'join_datetime_year']"
   ]
  },
  {
   "cell_type": "markdown",
   "metadata": {},
   "source": [
    "Mirando los resultados, veo que hay columnas con poca muestra o que las diferencias de medias no son muy importantes (o sea, la diferencia no es bastante grande comparando con el standard error)."
   ]
  },
  {
   "cell_type": "code",
   "execution_count": 69,
   "metadata": {},
   "outputs": [
    {
     "data": {
      "text/plain": [
       "nlikes                     1.000000\n",
       "number_tweets_in_period   -0.342478\n",
       "tweet_length              -0.017472\n",
       "tweets                    -0.347574\n",
       "following                 -0.012992\n",
       "followers                  0.261038\n",
       "likes                     -0.015413\n",
       "media                     -0.249929\n",
       "Name: nlikes, dtype: float64"
      ]
     },
     "execution_count": 69,
     "metadata": {},
     "output_type": "execute_result"
    }
   ],
   "source": [
    "train[[target] + cont_vars].corr()['nlikes']"
   ]
  },
  {
   "cell_type": "code",
   "execution_count": 70,
   "metadata": {},
   "outputs": [],
   "source": [
    "interesting_cont = ['number_tweets_in_period', 'tweets', 'followers']"
   ]
  },
  {
   "cell_type": "markdown",
   "metadata": {},
   "source": [
    "Haciendo lo mismo - estas columnas me parecen interesantes. Hay que decir que para esta variable es importante reconocer que una correlacion estandar no es perfecta - el `tweet_length` por ejemplo tiene un patron raro y esto puede influir. De todas formas, ya tenemos bastantes variables asi que no hace falta profundizar mucho mas."
   ]
  },
  {
   "cell_type": "markdown",
   "metadata": {},
   "source": [
    "#### Creando variables y tratando los datos\n",
    "Ahora tenemos una idea de mas o menos que columnas pueden ser utiles. Vamos a progresar a crear un par de variables mas y tambien tratar algunos de los datos - como por ejemplo los followers, que sabemos que tiene outliers.\n",
    "\n",
    "Tambien (y lo que hacemos para empezar) hay que mirar si nuestras variables interesantes tienen mucha correlacion entre ellas - por ejemplo followers y tweets."
   ]
  },
  {
   "cell_type": "code",
   "execution_count": 71,
   "metadata": {},
   "outputs": [
    {
     "data": {
      "text/html": [
       "<div>\n",
       "<style scoped>\n",
       "    .dataframe tbody tr th:only-of-type {\n",
       "        vertical-align: middle;\n",
       "    }\n",
       "\n",
       "    .dataframe tbody tr th {\n",
       "        vertical-align: top;\n",
       "    }\n",
       "\n",
       "    .dataframe thead th {\n",
       "        text-align: right;\n",
       "    }\n",
       "</style>\n",
       "<table border=\"1\" class=\"dataframe\">\n",
       "  <thead>\n",
       "    <tr style=\"text-align: right;\">\n",
       "      <th></th>\n",
       "      <th>number_tweets_in_period</th>\n",
       "      <th>tweets</th>\n",
       "      <th>followers</th>\n",
       "      <th>join_datetime_year</th>\n",
       "    </tr>\n",
       "  </thead>\n",
       "  <tbody>\n",
       "    <tr>\n",
       "      <th>number_tweets_in_period</th>\n",
       "      <td>1.000000</td>\n",
       "      <td>0.828562</td>\n",
       "      <td>0.095518</td>\n",
       "      <td>-0.292635</td>\n",
       "    </tr>\n",
       "    <tr>\n",
       "      <th>tweets</th>\n",
       "      <td>0.828562</td>\n",
       "      <td>1.000000</td>\n",
       "      <td>0.226993</td>\n",
       "      <td>-0.431421</td>\n",
       "    </tr>\n",
       "    <tr>\n",
       "      <th>followers</th>\n",
       "      <td>0.095518</td>\n",
       "      <td>0.226993</td>\n",
       "      <td>1.000000</td>\n",
       "      <td>-0.199166</td>\n",
       "    </tr>\n",
       "    <tr>\n",
       "      <th>join_datetime_year</th>\n",
       "      <td>-0.292635</td>\n",
       "      <td>-0.431421</td>\n",
       "      <td>-0.199166</td>\n",
       "      <td>1.000000</td>\n",
       "    </tr>\n",
       "  </tbody>\n",
       "</table>\n",
       "</div>"
      ],
      "text/plain": [
       "                         number_tweets_in_period    tweets  followers  \\\n",
       "number_tweets_in_period                 1.000000  0.828562   0.095518   \n",
       "tweets                                  0.828562  1.000000   0.226993   \n",
       "followers                               0.095518  0.226993   1.000000   \n",
       "join_datetime_year                     -0.292635 -0.431421  -0.199166   \n",
       "\n",
       "                         join_datetime_year  \n",
       "number_tweets_in_period           -0.292635  \n",
       "tweets                            -0.431421  \n",
       "followers                         -0.199166  \n",
       "join_datetime_year                 1.000000  "
      ]
     },
     "execution_count": 71,
     "metadata": {},
     "output_type": "execute_result"
    }
   ],
   "source": [
    "train[interesting_cont + ['join_datetime_year']].corr()"
   ]
  },
  {
   "cell_type": "code",
   "execution_count": 72,
   "metadata": {},
   "outputs": [],
   "source": [
    "# Esto se podria hacer con un pipeline pero bueno, asi esta OK tambien\n",
    "outlier_capping = {\n",
    "    'tweets' : train.tweets.quantile(0.95),\n",
    "    'followers' : train.followers.quantile(0.95),\n",
    "    'media' : train.media.quantile(0.95),\n",
    "    'likes' : train.likes.quantile(0.95)\n",
    "}\n",
    "\n",
    "for outlier_cap in outlier_capping:\n",
    "    train[outlier_cap + '_capped'] = train[outlier_cap].clip(upper=outlier_capping[outlier_cap])"
   ]
  },
  {
   "cell_type": "code",
   "execution_count": 73,
   "metadata": {},
   "outputs": [],
   "source": [
    "train['tweets_per_time'] = train.tweets_capped / (2021 - train.join_datetime_year)\n",
    "train['followers_per_time'] = train.followers_capped / (2021 - train.join_datetime_year)\n",
    "\n",
    "train['media_per_tweets'] = train.media_capped / train.tweets_capped\n",
    "train['likes_per_tweets'] = train.likes_capped / train.tweets_capped\n",
    "train['followers_per_tweets'] = train.followers_capped / train.tweets_capped\n",
    "\n",
    "# No me preguntes porque estos numeros\n",
    "quantile_bins = [0, 0.5, 0.7, 0.95, 1]\n",
    "labels = ['Bajo', 'Medio', 'Alto', 'Muy alto']\n",
    "\n",
    "bin_cols = ['followers', 'tweets_per_time', 'followers_per_time', 'media_per_tweets', 'likes_per_tweets', 'followers_per_tweets']\n",
    "for bin_col in bin_cols:\n",
    "    train[bin_col + '_binned'] = pd.qcut(train[bin_col], quantile_bins, labels)"
   ]
  },
  {
   "cell_type": "code",
   "execution_count": 74,
   "metadata": {},
   "outputs": [
    {
     "name": "stdout",
     "output_type": "stream",
     "text": [
      "  followers_binned  count    mean  median   sem\n",
      "0             Bajo   6623   252.0    27.0  10.0\n",
      "1            Medio   2729   835.0    99.0  31.0\n",
      "2             Alto   3217  1123.0   139.0  34.0\n",
      "3         Muy alto    659  1354.0   405.0  72.0\n",
      "\n",
      "\n",
      "  tweets_per_time_binned  count    mean  median   sem\n",
      "0                   Bajo   6803  1056.0   143.0  22.0\n",
      "1                  Medio   2653   134.0    26.0  10.0\n",
      "2                   Alto   3368   210.0    63.0   9.0\n",
      "3               Muy alto    404   503.0    72.0  66.0\n",
      "\n",
      "\n",
      "  followers_per_time_binned  count    mean  median   sem\n",
      "0                      Bajo   6854   251.0    28.0  10.0\n",
      "1                     Medio   2634   697.0    85.0  29.0\n",
      "2                      Alto   3361   973.0   185.0  29.0\n",
      "3                  Muy alto    379  4285.0  5796.0  95.0\n",
      "\n",
      "\n",
      "  media_per_tweets_binned  count   mean  median   sem\n",
      "0                    Bajo   6628  653.0    85.0  18.0\n",
      "1                   Medio   2681  817.0   105.0  31.0\n",
      "2                    Alto   3377  428.0    35.0  20.0\n",
      "3                Muy alto    542  896.0    68.0  81.0\n",
      "\n",
      "\n",
      "  likes_per_tweets_binned  count    mean  median   sem\n",
      "0                    Bajo   6815   479.0    60.0  15.0\n",
      "1                   Medio   2450   600.0    41.0  29.0\n",
      "2                    Alto   3307   765.0   115.0  26.0\n",
      "3                Muy alto    656  1812.0   650.0  86.0\n",
      "\n",
      "\n",
      "  followers_per_tweets_binned  count    mean  median   sem\n",
      "0                        Bajo   6644   137.0    25.0   6.0\n",
      "1                       Medio   2617   323.0    89.0  15.0\n",
      "2                        Alto   3306  1415.0   362.0  34.0\n",
      "3                    Muy alto    661  3052.0  2542.0  91.0\n",
      "\n",
      "\n"
     ]
    }
   ],
   "source": [
    "cat_cols = [col + '_binned' for col in bin_cols]\n",
    "for variable in cat_cols:\n",
    "    result = train.groupby(variable)[target].agg(['count', 'mean', 'median', 'sem']).round().reset_index()\n",
    "    \n",
    "    # Quiero eliminar los que tienen muy poca muestra\n",
    "    result = result[result['count'] > 100]\n",
    "    print(result)\n",
    "    print('\\n')"
   ]
  },
  {
   "cell_type": "code",
   "execution_count": 75,
   "metadata": {},
   "outputs": [],
   "source": [
    "new_interesting_cat = ['followers_binned', 'likes_per_tweets_binned', 'followers_per_tweets_binned']"
   ]
  },
  {
   "cell_type": "code",
   "execution_count": 76,
   "metadata": {},
   "outputs": [
    {
     "data": {
      "text/plain": [
       "nlikes                  1.000000\n",
       "tweets_capped          -0.350800\n",
       "followers_capped        0.278862\n",
       "media_capped           -0.250471\n",
       "likes_capped           -0.016862\n",
       "tweets_per_time        -0.341925\n",
       "followers_per_time      0.352467\n",
       "media_per_tweets       -0.049162\n",
       "likes_per_tweets        0.147488\n",
       "followers_per_tweets    0.253815\n",
       "Name: nlikes, dtype: float64"
      ]
     },
     "execution_count": 76,
     "metadata": {},
     "output_type": "execute_result"
    }
   ],
   "source": [
    "cont_cols = [col for col in train if '_capped' in col] + ['tweets_per_time', 'followers_per_time', 'media_per_tweets', 'likes_per_tweets', 'followers_per_tweets']\n",
    "train[[target] + cont_cols].corr()['nlikes']"
   ]
  },
  {
   "cell_type": "code",
   "execution_count": 77,
   "metadata": {},
   "outputs": [
    {
     "data": {
      "text/html": [
       "<div>\n",
       "<style scoped>\n",
       "    .dataframe tbody tr th:only-of-type {\n",
       "        vertical-align: middle;\n",
       "    }\n",
       "\n",
       "    .dataframe tbody tr th {\n",
       "        vertical-align: top;\n",
       "    }\n",
       "\n",
       "    .dataframe thead th {\n",
       "        text-align: right;\n",
       "    }\n",
       "</style>\n",
       "<table border=\"1\" class=\"dataframe\">\n",
       "  <thead>\n",
       "    <tr style=\"text-align: right;\">\n",
       "      <th></th>\n",
       "      <th>tweets_capped</th>\n",
       "      <th>followers_capped</th>\n",
       "      <th>media_capped</th>\n",
       "      <th>likes_capped</th>\n",
       "      <th>tweets_per_time</th>\n",
       "      <th>followers_per_time</th>\n",
       "      <th>media_per_tweets</th>\n",
       "      <th>likes_per_tweets</th>\n",
       "      <th>followers_per_tweets</th>\n",
       "      <th>join_datetime_year</th>\n",
       "    </tr>\n",
       "  </thead>\n",
       "  <tbody>\n",
       "    <tr>\n",
       "      <th>tweets_capped</th>\n",
       "      <td>1.000000</td>\n",
       "      <td>0.264052</td>\n",
       "      <td>0.725595</td>\n",
       "      <td>-0.054499</td>\n",
       "      <td>0.982735</td>\n",
       "      <td>0.176078</td>\n",
       "      <td>0.168613</td>\n",
       "      <td>-0.259639</td>\n",
       "      <td>-0.193203</td>\n",
       "      <td>-0.438756</td>\n",
       "    </tr>\n",
       "    <tr>\n",
       "      <th>followers_capped</th>\n",
       "      <td>0.264052</td>\n",
       "      <td>1.000000</td>\n",
       "      <td>0.098895</td>\n",
       "      <td>-0.081778</td>\n",
       "      <td>0.223784</td>\n",
       "      <td>0.940871</td>\n",
       "      <td>-0.009552</td>\n",
       "      <td>-0.073269</td>\n",
       "      <td>0.106925</td>\n",
       "      <td>-0.203848</td>\n",
       "    </tr>\n",
       "    <tr>\n",
       "      <th>media_capped</th>\n",
       "      <td>0.725595</td>\n",
       "      <td>0.098895</td>\n",
       "      <td>1.000000</td>\n",
       "      <td>-0.121265</td>\n",
       "      <td>0.720427</td>\n",
       "      <td>0.051411</td>\n",
       "      <td>0.659159</td>\n",
       "      <td>-0.188993</td>\n",
       "      <td>-0.132586</td>\n",
       "      <td>-0.291024</td>\n",
       "    </tr>\n",
       "    <tr>\n",
       "      <th>likes_capped</th>\n",
       "      <td>-0.054499</td>\n",
       "      <td>-0.081778</td>\n",
       "      <td>-0.121265</td>\n",
       "      <td>1.000000</td>\n",
       "      <td>-0.030078</td>\n",
       "      <td>-0.095298</td>\n",
       "      <td>-0.143426</td>\n",
       "      <td>0.355742</td>\n",
       "      <td>-0.060467</td>\n",
       "      <td>0.057294</td>\n",
       "    </tr>\n",
       "    <tr>\n",
       "      <th>tweets_per_time</th>\n",
       "      <td>0.982735</td>\n",
       "      <td>0.223784</td>\n",
       "      <td>0.720427</td>\n",
       "      <td>-0.030078</td>\n",
       "      <td>1.000000</td>\n",
       "      <td>0.153577</td>\n",
       "      <td>0.171956</td>\n",
       "      <td>-0.256524</td>\n",
       "      <td>-0.188779</td>\n",
       "      <td>-0.318412</td>\n",
       "    </tr>\n",
       "    <tr>\n",
       "      <th>followers_per_time</th>\n",
       "      <td>0.176078</td>\n",
       "      <td>0.940871</td>\n",
       "      <td>0.051411</td>\n",
       "      <td>-0.095298</td>\n",
       "      <td>0.153577</td>\n",
       "      <td>1.000000</td>\n",
       "      <td>0.004620</td>\n",
       "      <td>-0.065876</td>\n",
       "      <td>0.169760</td>\n",
       "      <td>0.004266</td>\n",
       "    </tr>\n",
       "    <tr>\n",
       "      <th>media_per_tweets</th>\n",
       "      <td>0.168613</td>\n",
       "      <td>-0.009552</td>\n",
       "      <td>0.659159</td>\n",
       "      <td>-0.143426</td>\n",
       "      <td>0.171956</td>\n",
       "      <td>0.004620</td>\n",
       "      <td>1.000000</td>\n",
       "      <td>-0.087870</td>\n",
       "      <td>0.038430</td>\n",
       "      <td>0.003891</td>\n",
       "    </tr>\n",
       "    <tr>\n",
       "      <th>likes_per_tweets</th>\n",
       "      <td>-0.259639</td>\n",
       "      <td>-0.073269</td>\n",
       "      <td>-0.188993</td>\n",
       "      <td>0.355742</td>\n",
       "      <td>-0.256524</td>\n",
       "      <td>-0.065876</td>\n",
       "      <td>-0.087870</td>\n",
       "      <td>1.000000</td>\n",
       "      <td>0.083795</td>\n",
       "      <td>0.103025</td>\n",
       "    </tr>\n",
       "    <tr>\n",
       "      <th>followers_per_tweets</th>\n",
       "      <td>-0.193203</td>\n",
       "      <td>0.106925</td>\n",
       "      <td>-0.132586</td>\n",
       "      <td>-0.060467</td>\n",
       "      <td>-0.188779</td>\n",
       "      <td>0.169760</td>\n",
       "      <td>0.038430</td>\n",
       "      <td>0.083795</td>\n",
       "      <td>1.000000</td>\n",
       "      <td>0.203315</td>\n",
       "    </tr>\n",
       "    <tr>\n",
       "      <th>join_datetime_year</th>\n",
       "      <td>-0.438756</td>\n",
       "      <td>-0.203848</td>\n",
       "      <td>-0.291024</td>\n",
       "      <td>0.057294</td>\n",
       "      <td>-0.318412</td>\n",
       "      <td>0.004266</td>\n",
       "      <td>0.003891</td>\n",
       "      <td>0.103025</td>\n",
       "      <td>0.203315</td>\n",
       "      <td>1.000000</td>\n",
       "    </tr>\n",
       "  </tbody>\n",
       "</table>\n",
       "</div>"
      ],
      "text/plain": [
       "                      tweets_capped  followers_capped  media_capped  \\\n",
       "tweets_capped              1.000000          0.264052      0.725595   \n",
       "followers_capped           0.264052          1.000000      0.098895   \n",
       "media_capped               0.725595          0.098895      1.000000   \n",
       "likes_capped              -0.054499         -0.081778     -0.121265   \n",
       "tweets_per_time            0.982735          0.223784      0.720427   \n",
       "followers_per_time         0.176078          0.940871      0.051411   \n",
       "media_per_tweets           0.168613         -0.009552      0.659159   \n",
       "likes_per_tweets          -0.259639         -0.073269     -0.188993   \n",
       "followers_per_tweets      -0.193203          0.106925     -0.132586   \n",
       "join_datetime_year        -0.438756         -0.203848     -0.291024   \n",
       "\n",
       "                      likes_capped  tweets_per_time  followers_per_time  \\\n",
       "tweets_capped            -0.054499         0.982735            0.176078   \n",
       "followers_capped         -0.081778         0.223784            0.940871   \n",
       "media_capped             -0.121265         0.720427            0.051411   \n",
       "likes_capped              1.000000        -0.030078           -0.095298   \n",
       "tweets_per_time          -0.030078         1.000000            0.153577   \n",
       "followers_per_time       -0.095298         0.153577            1.000000   \n",
       "media_per_tweets         -0.143426         0.171956            0.004620   \n",
       "likes_per_tweets          0.355742        -0.256524           -0.065876   \n",
       "followers_per_tweets     -0.060467        -0.188779            0.169760   \n",
       "join_datetime_year        0.057294        -0.318412            0.004266   \n",
       "\n",
       "                      media_per_tweets  likes_per_tweets  \\\n",
       "tweets_capped                 0.168613         -0.259639   \n",
       "followers_capped             -0.009552         -0.073269   \n",
       "media_capped                  0.659159         -0.188993   \n",
       "likes_capped                 -0.143426          0.355742   \n",
       "tweets_per_time               0.171956         -0.256524   \n",
       "followers_per_time            0.004620         -0.065876   \n",
       "media_per_tweets              1.000000         -0.087870   \n",
       "likes_per_tweets             -0.087870          1.000000   \n",
       "followers_per_tweets          0.038430          0.083795   \n",
       "join_datetime_year            0.003891          0.103025   \n",
       "\n",
       "                      followers_per_tweets  join_datetime_year  \n",
       "tweets_capped                    -0.193203           -0.438756  \n",
       "followers_capped                  0.106925           -0.203848  \n",
       "media_capped                     -0.132586           -0.291024  \n",
       "likes_capped                     -0.060467            0.057294  \n",
       "tweets_per_time                  -0.188779           -0.318412  \n",
       "followers_per_time                0.169760            0.004266  \n",
       "media_per_tweets                  0.038430            0.003891  \n",
       "likes_per_tweets                  0.083795            0.103025  \n",
       "followers_per_tweets              1.000000            0.203315  \n",
       "join_datetime_year                0.203315            1.000000  "
      ]
     },
     "execution_count": 77,
     "metadata": {},
     "output_type": "execute_result"
    }
   ],
   "source": [
    "train[cont_cols + ['join_datetime_year']].corr()"
   ]
  },
  {
   "cell_type": "code",
   "execution_count": 78,
   "metadata": {},
   "outputs": [],
   "source": [
    "new_interesting_cont = ['tweets_capped', 'followers_capped']"
   ]
  },
  {
   "cell_type": "markdown",
   "metadata": {},
   "source": [
    "Otra vez - hemos seleccionado lo que parece interesante basado en la logica de antes. Aqui vemos que hay cosas que estan muy correlacionados entonces las queremos ignorar."
   ]
  },
  {
   "cell_type": "code",
   "execution_count": 79,
   "metadata": {},
   "outputs": [
    {
     "data": {
      "text/html": [
       "<div>\n",
       "<style scoped>\n",
       "    .dataframe tbody tr th:only-of-type {\n",
       "        vertical-align: middle;\n",
       "    }\n",
       "\n",
       "    .dataframe tbody tr th {\n",
       "        vertical-align: top;\n",
       "    }\n",
       "\n",
       "    .dataframe thead th {\n",
       "        text-align: right;\n",
       "    }\n",
       "</style>\n",
       "<table border=\"1\" class=\"dataframe\">\n",
       "  <thead>\n",
       "    <tr style=\"text-align: right;\">\n",
       "      <th></th>\n",
       "      <th>nlikes</th>\n",
       "      <th>language</th>\n",
       "      <th>video</th>\n",
       "      <th>has_quotes</th>\n",
       "      <th>verified</th>\n",
       "      <th>join_datetime_year</th>\n",
       "      <th>followers_binned</th>\n",
       "      <th>likes_per_tweets_binned</th>\n",
       "      <th>followers_per_tweets_binned</th>\n",
       "      <th>number_tweets_in_period</th>\n",
       "      <th>tweets</th>\n",
       "      <th>followers</th>\n",
       "      <th>tweets_capped</th>\n",
       "      <th>followers_capped</th>\n",
       "    </tr>\n",
       "  </thead>\n",
       "  <tbody>\n",
       "    <tr>\n",
       "      <th>0</th>\n",
       "      <td>5795.8</td>\n",
       "      <td>en</td>\n",
       "      <td>1</td>\n",
       "      <td>False</td>\n",
       "      <td>True</td>\n",
       "      <td>2008</td>\n",
       "      <td>Muy alto</td>\n",
       "      <td>Alto</td>\n",
       "      <td>Muy alto</td>\n",
       "      <td>1</td>\n",
       "      <td>9519</td>\n",
       "      <td>83675119</td>\n",
       "      <td>9519.0</td>\n",
       "      <td>38058905.0</td>\n",
       "    </tr>\n",
       "    <tr>\n",
       "      <th>1</th>\n",
       "      <td>1462.0</td>\n",
       "      <td>und</td>\n",
       "      <td>0</td>\n",
       "      <td>False</td>\n",
       "      <td>True</td>\n",
       "      <td>2009</td>\n",
       "      <td>Alto</td>\n",
       "      <td>Muy alto</td>\n",
       "      <td>Muy alto</td>\n",
       "      <td>3</td>\n",
       "      <td>10252</td>\n",
       "      <td>21612341</td>\n",
       "      <td>10252.0</td>\n",
       "      <td>21612341.0</td>\n",
       "    </tr>\n",
       "    <tr>\n",
       "      <th>2</th>\n",
       "      <td>5795.8</td>\n",
       "      <td>ht</td>\n",
       "      <td>1</td>\n",
       "      <td>False</td>\n",
       "      <td>True</td>\n",
       "      <td>2009</td>\n",
       "      <td>Alto</td>\n",
       "      <td>Muy alto</td>\n",
       "      <td>Muy alto</td>\n",
       "      <td>3</td>\n",
       "      <td>10252</td>\n",
       "      <td>21612341</td>\n",
       "      <td>10252.0</td>\n",
       "      <td>21612341.0</td>\n",
       "    </tr>\n",
       "    <tr>\n",
       "      <th>3</th>\n",
       "      <td>5795.8</td>\n",
       "      <td>en</td>\n",
       "      <td>1</td>\n",
       "      <td>False</td>\n",
       "      <td>True</td>\n",
       "      <td>2009</td>\n",
       "      <td>Alto</td>\n",
       "      <td>Muy alto</td>\n",
       "      <td>Muy alto</td>\n",
       "      <td>3</td>\n",
       "      <td>10252</td>\n",
       "      <td>21612341</td>\n",
       "      <td>10252.0</td>\n",
       "      <td>21612341.0</td>\n",
       "    </tr>\n",
       "    <tr>\n",
       "      <th>4</th>\n",
       "      <td>5795.8</td>\n",
       "      <td>en</td>\n",
       "      <td>1</td>\n",
       "      <td>False</td>\n",
       "      <td>True</td>\n",
       "      <td>2009</td>\n",
       "      <td>Muy alto</td>\n",
       "      <td>Muy alto</td>\n",
       "      <td>Alto</td>\n",
       "      <td>1</td>\n",
       "      <td>46950</td>\n",
       "      <td>83945698</td>\n",
       "      <td>46950.0</td>\n",
       "      <td>38058905.0</td>\n",
       "    </tr>\n",
       "    <tr>\n",
       "      <th>...</th>\n",
       "      <td>...</td>\n",
       "      <td>...</td>\n",
       "      <td>...</td>\n",
       "      <td>...</td>\n",
       "      <td>...</td>\n",
       "      <td>...</td>\n",
       "      <td>...</td>\n",
       "      <td>...</td>\n",
       "      <td>...</td>\n",
       "      <td>...</td>\n",
       "      <td>...</td>\n",
       "      <td>...</td>\n",
       "      <td>...</td>\n",
       "      <td>...</td>\n",
       "    </tr>\n",
       "    <tr>\n",
       "      <th>13223</th>\n",
       "      <td>2005.0</td>\n",
       "      <td>ko</td>\n",
       "      <td>1</td>\n",
       "      <td>False</td>\n",
       "      <td>True</td>\n",
       "      <td>2011</td>\n",
       "      <td>Bajo</td>\n",
       "      <td>Alto</td>\n",
       "      <td>Alto</td>\n",
       "      <td>9</td>\n",
       "      <td>4216</td>\n",
       "      <td>1869489</td>\n",
       "      <td>4216.0</td>\n",
       "      <td>1869489.0</td>\n",
       "    </tr>\n",
       "    <tr>\n",
       "      <th>13224</th>\n",
       "      <td>2086.0</td>\n",
       "      <td>ko</td>\n",
       "      <td>0</td>\n",
       "      <td>False</td>\n",
       "      <td>True</td>\n",
       "      <td>2011</td>\n",
       "      <td>Bajo</td>\n",
       "      <td>Alto</td>\n",
       "      <td>Alto</td>\n",
       "      <td>9</td>\n",
       "      <td>4216</td>\n",
       "      <td>1869489</td>\n",
       "      <td>4216.0</td>\n",
       "      <td>1869489.0</td>\n",
       "    </tr>\n",
       "    <tr>\n",
       "      <th>13225</th>\n",
       "      <td>1792.0</td>\n",
       "      <td>ko</td>\n",
       "      <td>1</td>\n",
       "      <td>False</td>\n",
       "      <td>True</td>\n",
       "      <td>2011</td>\n",
       "      <td>Bajo</td>\n",
       "      <td>Alto</td>\n",
       "      <td>Alto</td>\n",
       "      <td>9</td>\n",
       "      <td>4216</td>\n",
       "      <td>1869489</td>\n",
       "      <td>4216.0</td>\n",
       "      <td>1869489.0</td>\n",
       "    </tr>\n",
       "    <tr>\n",
       "      <th>13226</th>\n",
       "      <td>2323.0</td>\n",
       "      <td>ko</td>\n",
       "      <td>0</td>\n",
       "      <td>False</td>\n",
       "      <td>True</td>\n",
       "      <td>2011</td>\n",
       "      <td>Bajo</td>\n",
       "      <td>Alto</td>\n",
       "      <td>Alto</td>\n",
       "      <td>9</td>\n",
       "      <td>4216</td>\n",
       "      <td>1869489</td>\n",
       "      <td>4216.0</td>\n",
       "      <td>1869489.0</td>\n",
       "    </tr>\n",
       "    <tr>\n",
       "      <th>13227</th>\n",
       "      <td>5795.8</td>\n",
       "      <td>ko</td>\n",
       "      <td>1</td>\n",
       "      <td>False</td>\n",
       "      <td>True</td>\n",
       "      <td>2011</td>\n",
       "      <td>Bajo</td>\n",
       "      <td>Alto</td>\n",
       "      <td>Alto</td>\n",
       "      <td>9</td>\n",
       "      <td>4216</td>\n",
       "      <td>1869489</td>\n",
       "      <td>4216.0</td>\n",
       "      <td>1869489.0</td>\n",
       "    </tr>\n",
       "  </tbody>\n",
       "</table>\n",
       "<p>13228 rows × 14 columns</p>\n",
       "</div>"
      ],
      "text/plain": [
       "       nlikes language  video  has_quotes verified  join_datetime_year  \\\n",
       "0      5795.8       en      1       False     True                2008   \n",
       "1      1462.0      und      0       False     True                2009   \n",
       "2      5795.8       ht      1       False     True                2009   \n",
       "3      5795.8       en      1       False     True                2009   \n",
       "4      5795.8       en      1       False     True                2009   \n",
       "...       ...      ...    ...         ...      ...                 ...   \n",
       "13223  2005.0       ko      1       False     True                2011   \n",
       "13224  2086.0       ko      0       False     True                2011   \n",
       "13225  1792.0       ko      1       False     True                2011   \n",
       "13226  2323.0       ko      0       False     True                2011   \n",
       "13227  5795.8       ko      1       False     True                2011   \n",
       "\n",
       "      followers_binned likes_per_tweets_binned followers_per_tweets_binned  \\\n",
       "0             Muy alto                    Alto                    Muy alto   \n",
       "1                 Alto                Muy alto                    Muy alto   \n",
       "2                 Alto                Muy alto                    Muy alto   \n",
       "3                 Alto                Muy alto                    Muy alto   \n",
       "4             Muy alto                Muy alto                        Alto   \n",
       "...                ...                     ...                         ...   \n",
       "13223             Bajo                    Alto                        Alto   \n",
       "13224             Bajo                    Alto                        Alto   \n",
       "13225             Bajo                    Alto                        Alto   \n",
       "13226             Bajo                    Alto                        Alto   \n",
       "13227             Bajo                    Alto                        Alto   \n",
       "\n",
       "       number_tweets_in_period  tweets  followers  tweets_capped  \\\n",
       "0                            1    9519   83675119         9519.0   \n",
       "1                            3   10252   21612341        10252.0   \n",
       "2                            3   10252   21612341        10252.0   \n",
       "3                            3   10252   21612341        10252.0   \n",
       "4                            1   46950   83945698        46950.0   \n",
       "...                        ...     ...        ...            ...   \n",
       "13223                        9    4216    1869489         4216.0   \n",
       "13224                        9    4216    1869489         4216.0   \n",
       "13225                        9    4216    1869489         4216.0   \n",
       "13226                        9    4216    1869489         4216.0   \n",
       "13227                        9    4216    1869489         4216.0   \n",
       "\n",
       "       followers_capped  \n",
       "0            38058905.0  \n",
       "1            21612341.0  \n",
       "2            21612341.0  \n",
       "3            21612341.0  \n",
       "4            38058905.0  \n",
       "...                 ...  \n",
       "13223         1869489.0  \n",
       "13224         1869489.0  \n",
       "13225         1869489.0  \n",
       "13226         1869489.0  \n",
       "13227         1869489.0  \n",
       "\n",
       "[13228 rows x 14 columns]"
      ]
     },
     "execution_count": 79,
     "metadata": {},
     "output_type": "execute_result"
    }
   ],
   "source": [
    "keep = [target] + interesting_cats + new_interesting_cat + interesting_cont + new_interesting_cont\n",
    "train[keep]"
   ]
  },
  {
   "cell_type": "markdown",
   "metadata": {},
   "source": [
    "## Preparando los datos\n",
    "Ahora toca preparar los datos para el entrenamiento.\n",
    "\n",
    "Hemos hecho varias cosas en la ultima seccion asi que esto se complica un pelin (pero tampoco mucho). Lo mas importante es recuperar los valores del \"binning\" y \"capping\" que hicimos. Tambien vamos a quedarnos con una simple columna de si el tweet es ingles y remplazar nuestras categorias de \"bajo\" ... \"muy alto\" con algo numerico - para evitar tener muchas columnas de dummies."
   ]
  },
  {
   "cell_type": "code",
   "execution_count": 80,
   "metadata": {},
   "outputs": [],
   "source": [
    "def cap_values(dataset):\n",
    "    TO_CAP = ['tweets', 'followers', 'likes']\n",
    "    \n",
    "    for cap in TO_CAP:\n",
    "        dataset[cap + '_capped'] = dataset[cap].clip(upper=outlier_capping[cap])"
   ]
  },
  {
   "cell_type": "code",
   "execution_count": 81,
   "metadata": {},
   "outputs": [],
   "source": [
    "def create_variables(dataset):\n",
    "    dataset['likes_per_tweets'] = dataset.likes_capped / dataset.tweets_capped\n",
    "    dataset['followers_per_tweets'] = dataset.followers_capped / dataset.tweets_capped\n",
    "\n",
    "    dataset['is_english'] = (dataset.language == 'en').astype(int)\n",
    "    dataset['has_quotes'] = dataset.has_quotes.astype(int)\n",
    "    dataset['verified'] = dataset.verified.astype(int)"
   ]
  },
  {
   "cell_type": "code",
   "execution_count": 82,
   "metadata": {},
   "outputs": [],
   "source": [
    "def bin_values(dataset):\n",
    "    TO_BIN = ['followers', 'likes_per_tweets', 'followers_per_tweets']\n",
    "    QUANTILES = [0, 0.5, 0.7, 0.95, 1]\n",
    "    LABELS = [1, 2, 3, 4]\n",
    "\n",
    "    # Tenemos que primero coger los valores de train y luego aplicar\n",
    "    for bin_var in TO_BIN:\n",
    "        bins = train[bin_var].quantile(QUANTILES).tolist()\n",
    "\n",
    "        # Puede ser que tenemos algunos valores fuera del rango de train, que estaran por arriba o por abajo\n",
    "        dataset[bin_var + '_binned'] = pd.cut(dataset[bin_var], bins, include_lowest=True, labels=LABELS).fillna(LABELS[0])"
   ]
  },
  {
   "cell_type": "code",
   "execution_count": 83,
   "metadata": {},
   "outputs": [],
   "source": [
    "FINAL_COLS = [\n",
    "    target,\n",
    "    'video', 'has_quotes', 'verified', \n",
    "    'join_datetime_year', 'followers_binned', \n",
    "    'likes_per_tweets_binned', 'followers_per_tweets_binned', \n",
    "    'number_tweets_in_period', 'tweets_capped', \n",
    "    'followers_capped'\n",
    "]\n",
    "\n",
    "def prepare_data(dataset):\n",
    "    cap_values(dataset)\n",
    "    create_variables(dataset)\n",
    "    bin_values(dataset)\n",
    "\n",
    "    missing = [col for col in FINAL_COLS if not col in dataset]\n",
    "\n",
    "    try:\n",
    "        assert len(missing) == 0\n",
    "    except:\n",
    "        print(f'The following columns are missing:\\n{missing}')\n",
    "        raise"
   ]
  },
  {
   "cell_type": "code",
   "execution_count": 84,
   "metadata": {},
   "outputs": [],
   "source": [
    "prepare_data(train)\n",
    "prepare_data(val)\n",
    "prepare_data(test)"
   ]
  },
  {
   "cell_type": "code",
   "execution_count": 85,
   "metadata": {},
   "outputs": [
    {
     "data": {
      "text/html": [
       "<div>\n",
       "<style scoped>\n",
       "    .dataframe tbody tr th:only-of-type {\n",
       "        vertical-align: middle;\n",
       "    }\n",
       "\n",
       "    .dataframe tbody tr th {\n",
       "        vertical-align: top;\n",
       "    }\n",
       "\n",
       "    .dataframe thead th {\n",
       "        text-align: right;\n",
       "    }\n",
       "</style>\n",
       "<table border=\"1\" class=\"dataframe\">\n",
       "  <thead>\n",
       "    <tr style=\"text-align: right;\">\n",
       "      <th></th>\n",
       "      <th>nlikes</th>\n",
       "      <th>video</th>\n",
       "      <th>has_quotes</th>\n",
       "      <th>verified</th>\n",
       "      <th>join_datetime_year</th>\n",
       "      <th>followers_binned</th>\n",
       "      <th>likes_per_tweets_binned</th>\n",
       "      <th>followers_per_tweets_binned</th>\n",
       "      <th>number_tweets_in_period</th>\n",
       "      <th>tweets_capped</th>\n",
       "      <th>followers_capped</th>\n",
       "    </tr>\n",
       "  </thead>\n",
       "  <tbody>\n",
       "    <tr>\n",
       "      <th>0</th>\n",
       "      <td>18073</td>\n",
       "      <td>1</td>\n",
       "      <td>0</td>\n",
       "      <td>1</td>\n",
       "      <td>2009</td>\n",
       "      <td>3</td>\n",
       "      <td>4</td>\n",
       "      <td>4</td>\n",
       "      <td>4.0</td>\n",
       "      <td>10252.0</td>\n",
       "      <td>21612341.0</td>\n",
       "    </tr>\n",
       "    <tr>\n",
       "      <th>1</th>\n",
       "      <td>11140</td>\n",
       "      <td>1</td>\n",
       "      <td>0</td>\n",
       "      <td>1</td>\n",
       "      <td>2009</td>\n",
       "      <td>3</td>\n",
       "      <td>4</td>\n",
       "      <td>4</td>\n",
       "      <td>4.0</td>\n",
       "      <td>10252.0</td>\n",
       "      <td>21612341.0</td>\n",
       "    </tr>\n",
       "    <tr>\n",
       "      <th>2</th>\n",
       "      <td>14605</td>\n",
       "      <td>1</td>\n",
       "      <td>0</td>\n",
       "      <td>1</td>\n",
       "      <td>2009</td>\n",
       "      <td>3</td>\n",
       "      <td>4</td>\n",
       "      <td>4</td>\n",
       "      <td>4.0</td>\n",
       "      <td>10252.0</td>\n",
       "      <td>21612341.0</td>\n",
       "    </tr>\n",
       "    <tr>\n",
       "      <th>3</th>\n",
       "      <td>72513</td>\n",
       "      <td>0</td>\n",
       "      <td>1</td>\n",
       "      <td>1</td>\n",
       "      <td>2009</td>\n",
       "      <td>4</td>\n",
       "      <td>4</td>\n",
       "      <td>3</td>\n",
       "      <td>2.0</td>\n",
       "      <td>46950.0</td>\n",
       "      <td>38058905.0</td>\n",
       "    </tr>\n",
       "    <tr>\n",
       "      <th>4</th>\n",
       "      <td>42980</td>\n",
       "      <td>0</td>\n",
       "      <td>0</td>\n",
       "      <td>1</td>\n",
       "      <td>2009</td>\n",
       "      <td>4</td>\n",
       "      <td>4</td>\n",
       "      <td>3</td>\n",
       "      <td>2.0</td>\n",
       "      <td>46950.0</td>\n",
       "      <td>38058905.0</td>\n",
       "    </tr>\n",
       "    <tr>\n",
       "      <th>...</th>\n",
       "      <td>...</td>\n",
       "      <td>...</td>\n",
       "      <td>...</td>\n",
       "      <td>...</td>\n",
       "      <td>...</td>\n",
       "      <td>...</td>\n",
       "      <td>...</td>\n",
       "      <td>...</td>\n",
       "      <td>...</td>\n",
       "      <td>...</td>\n",
       "      <td>...</td>\n",
       "    </tr>\n",
       "    <tr>\n",
       "      <th>7547</th>\n",
       "      <td>5384</td>\n",
       "      <td>0</td>\n",
       "      <td>0</td>\n",
       "      <td>1</td>\n",
       "      <td>2011</td>\n",
       "      <td>1</td>\n",
       "      <td>3</td>\n",
       "      <td>3</td>\n",
       "      <td>10.0</td>\n",
       "      <td>4216.0</td>\n",
       "      <td>1869489.0</td>\n",
       "    </tr>\n",
       "    <tr>\n",
       "      <th>7548</th>\n",
       "      <td>3513</td>\n",
       "      <td>0</td>\n",
       "      <td>0</td>\n",
       "      <td>1</td>\n",
       "      <td>2011</td>\n",
       "      <td>1</td>\n",
       "      <td>3</td>\n",
       "      <td>3</td>\n",
       "      <td>10.0</td>\n",
       "      <td>4216.0</td>\n",
       "      <td>1869489.0</td>\n",
       "    </tr>\n",
       "    <tr>\n",
       "      <th>7549</th>\n",
       "      <td>6053</td>\n",
       "      <td>1</td>\n",
       "      <td>0</td>\n",
       "      <td>1</td>\n",
       "      <td>2011</td>\n",
       "      <td>1</td>\n",
       "      <td>3</td>\n",
       "      <td>3</td>\n",
       "      <td>10.0</td>\n",
       "      <td>4216.0</td>\n",
       "      <td>1869489.0</td>\n",
       "    </tr>\n",
       "    <tr>\n",
       "      <th>7550</th>\n",
       "      <td>37</td>\n",
       "      <td>1</td>\n",
       "      <td>0</td>\n",
       "      <td>1</td>\n",
       "      <td>2008</td>\n",
       "      <td>1</td>\n",
       "      <td>1</td>\n",
       "      <td>3</td>\n",
       "      <td>1.0</td>\n",
       "      <td>19867.0</td>\n",
       "      <td>1849529.0</td>\n",
       "    </tr>\n",
       "    <tr>\n",
       "      <th>7551</th>\n",
       "      <td>4085</td>\n",
       "      <td>1</td>\n",
       "      <td>0</td>\n",
       "      <td>1</td>\n",
       "      <td>2011</td>\n",
       "      <td>1</td>\n",
       "      <td>3</td>\n",
       "      <td>3</td>\n",
       "      <td>1.0</td>\n",
       "      <td>7744.0</td>\n",
       "      <td>2003463.0</td>\n",
       "    </tr>\n",
       "  </tbody>\n",
       "</table>\n",
       "<p>7552 rows × 11 columns</p>\n",
       "</div>"
      ],
      "text/plain": [
       "      nlikes  video  has_quotes  verified  join_datetime_year  \\\n",
       "0      18073      1           0         1                2009   \n",
       "1      11140      1           0         1                2009   \n",
       "2      14605      1           0         1                2009   \n",
       "3      72513      0           1         1                2009   \n",
       "4      42980      0           0         1                2009   \n",
       "...      ...    ...         ...       ...                 ...   \n",
       "7547    5384      0           0         1                2011   \n",
       "7548    3513      0           0         1                2011   \n",
       "7549    6053      1           0         1                2011   \n",
       "7550      37      1           0         1                2008   \n",
       "7551    4085      1           0         1                2011   \n",
       "\n",
       "     followers_binned likes_per_tweets_binned followers_per_tweets_binned  \\\n",
       "0                   3                       4                           4   \n",
       "1                   3                       4                           4   \n",
       "2                   3                       4                           4   \n",
       "3                   4                       4                           3   \n",
       "4                   4                       4                           3   \n",
       "...               ...                     ...                         ...   \n",
       "7547                1                       3                           3   \n",
       "7548                1                       3                           3   \n",
       "7549                1                       3                           3   \n",
       "7550                1                       1                           3   \n",
       "7551                1                       3                           3   \n",
       "\n",
       "      number_tweets_in_period  tweets_capped  followers_capped  \n",
       "0                         4.0        10252.0        21612341.0  \n",
       "1                         4.0        10252.0        21612341.0  \n",
       "2                         4.0        10252.0        21612341.0  \n",
       "3                         2.0        46950.0        38058905.0  \n",
       "4                         2.0        46950.0        38058905.0  \n",
       "...                       ...            ...               ...  \n",
       "7547                     10.0         4216.0         1869489.0  \n",
       "7548                     10.0         4216.0         1869489.0  \n",
       "7549                     10.0         4216.0         1869489.0  \n",
       "7550                      1.0        19867.0         1849529.0  \n",
       "7551                      1.0         7744.0         2003463.0  \n",
       "\n",
       "[7552 rows x 11 columns]"
      ]
     },
     "execution_count": 85,
     "metadata": {},
     "output_type": "execute_result"
    }
   ],
   "source": [
    "val[FINAL_COLS]"
   ]
  },
  {
   "cell_type": "code",
   "execution_count": 86,
   "metadata": {},
   "outputs": [
    {
     "data": {
      "text/plain": [
       "nlikes                         0\n",
       "video                          0\n",
       "has_quotes                     0\n",
       "verified                       0\n",
       "join_datetime_year             0\n",
       "followers_binned               0\n",
       "likes_per_tweets_binned        0\n",
       "followers_per_tweets_binned    0\n",
       "number_tweets_in_period        0\n",
       "tweets_capped                  0\n",
       "followers_capped               0\n",
       "dtype: int64"
      ]
     },
     "execution_count": 86,
     "metadata": {},
     "output_type": "execute_result"
    }
   ],
   "source": [
    "val[FINAL_COLS].isna().sum()"
   ]
  },
  {
   "cell_type": "markdown",
   "metadata": {},
   "source": [
    "Ojo que en nuestro train - el nlikes esta modificado, pero en los demas no!"
   ]
  },
  {
   "cell_type": "markdown",
   "metadata": {},
   "source": [
    "## Entrenando modelos y evaluando\n",
    "Vamos a entrenar unos modelos y evaluarlos. Vamos a empezar con un baseline sencillo de coger la media de train y aplicarlo a val. Para metricas vamos a usar el median absolute error generalmente - es una metrica sencilla que sera bastante robusto al rango amplio del target."
   ]
  },
  {
   "cell_type": "code",
   "execution_count": 87,
   "metadata": {},
   "outputs": [
    {
     "name": "stdout",
     "output_type": "stream",
     "text": [
      "62.0\n",
      "64.0\n"
     ]
    }
   ],
   "source": [
    "baseline_median = train[target].median()\n",
    "\n",
    "train['predictions_baseline'] = baseline_median\n",
    "val['predictions_baseline'] = baseline_median\n",
    "\n",
    "print(median_absolute_error(train[target], train['predictions_baseline']))\n",
    "print(median_absolute_error(val[target], val['predictions_baseline']))"
   ]
  },
  {
   "cell_type": "markdown",
   "metadata": {},
   "source": [
    "OK asi que empezamos con un baseline que no parece tan mal - los valores son muy similares para train y validation que es lo esperado.\n",
    "\n",
    "Vamos ahora a entrenar dos regresiones lineales - uno con las variables de followers y video y luego uno con tooodas las demas variables. Asi tendremos una idea de la mejora."
   ]
  },
  {
   "cell_type": "code",
   "execution_count": 105,
   "metadata": {},
   "outputs": [],
   "source": [
    "def train_linreg(variables, name):\n",
    "    model = LinearRegression()\n",
    "    model.fit(train[variables], train[target])\n",
    "\n",
    "    predictions_name = f'predictions_{name}'\n",
    "    train[predictions_name] = model.predict(train[variables])\n",
    "    val[predictions_name] = model.predict(val[variables])\n",
    "\n",
    "    train_error = median_absolute_error(train[target], train[predictions_name])\n",
    "    val_error = median_absolute_error(val[target], val[predictions_name])\n",
    "    print(f'We had a training score of {train_error} and a validation score of {val_error}')\n",
    "\n",
    "    return model"
   ]
  },
  {
   "cell_type": "code",
   "execution_count": 106,
   "metadata": {},
   "outputs": [
    {
     "name": "stdout",
     "output_type": "stream",
     "text": [
      "We had a training score of 392.7040629833618 and a validation score of 464.72205496473265\n"
     ]
    }
   ],
   "source": [
    "variables = ['followers_capped', 'video']\n",
    "lin_reg_basic = train_linreg(variables, 'basic')"
   ]
  },
  {
   "cell_type": "code",
   "execution_count": 112,
   "metadata": {},
   "outputs": [
    {
     "name": "stdout",
     "output_type": "stream",
     "text": [
      "We had a training score of 440.75161215665867 and a validation score of 464.35381374803546\n"
     ]
    }
   ],
   "source": [
    "variables = [col for col in FINAL_COLS if col != target]\n",
    "lin_reg_all = train_linreg(variables, 'all_variables')"
   ]
  },
  {
   "cell_type": "markdown",
   "metadata": {},
   "source": [
    "Muy curioso! Estamos empeorando..."
   ]
  },
  {
   "cell_type": "code",
   "execution_count": 95,
   "metadata": {},
   "outputs": [
    {
     "name": "stdout",
     "output_type": "stream",
     "text": [
      "For the baseline prediction we have an MAE for small values of 55.0 and 3019.0 for large values\n",
      "For the basic prediction we have an MAE for small values of 293.0 and 2083.0 for large values\n",
      "For the all_variables prediction we have an MAE for small values of 393.0 and 1586.0 for large values\n"
     ]
    }
   ],
   "source": [
    "prediction_cols = [col for col in val if 'predictions' in col]\n",
    "\n",
    "val['is_large'] = val[target] > val[target].quantile(0.8)\n",
    "c = val.is_large\n",
    "for col in prediction_cols:\n",
    "    val_error_small = median_absolute_error(val.loc[~c, target], val.loc[~c, col]).round()\n",
    "    val_error_large = median_absolute_error(val.loc[c, target], val.loc[c, col]).round()\n",
    "\n",
    "    print(f'For the {col.replace(\"predictions_\", \"\")} prediction we have an MAE for small values of {val_error_small} and {val_error_large} for large values')"
   ]
  },
  {
   "cell_type": "markdown",
   "metadata": {},
   "source": [
    "Ah ha! Pues lo que esta pasando es que añadiendo variables mejoramos la prediccion - pero solo para los likes que son altos! Esto es muy habitual y es un problema de las regresiones."
   ]
  },
  {
   "cell_type": "code",
   "execution_count": 100,
   "metadata": {},
   "outputs": [
    {
     "data": {
      "image/png": "[encoded data removed]",
      "text/plain": [
       "<Figure size 640x480 with 1 Axes>"
      ]
     },
     "metadata": {},
     "output_type": "display_data"
    }
   ],
   "source": [
    "graph_data = pd.melt(val[[target, 'is_large'] + prediction_cols], [target, 'is_large'], var_name='prediction_name')\n",
    "\n",
    "graph = (\n",
    "    pn.ggplot(graph_data, pn.aes(x=target, y='value', color='prediction_name'))\n",
    "    + pn.geom_point()\n",
    "    + pn.xlim(0, val[target].quantile(0.95))\n",
    ")\n",
    "\n",
    "graph.draw();"
   ]
  },
  {
   "cell_type": "code",
   "execution_count": 103,
   "metadata": {},
   "outputs": [
    {
     "data": {
      "text/plain": [
       "nlikes                       1.000000\n",
       "predictions_baseline              NaN\n",
       "predictions_basic            0.195145\n",
       "predictions_all_variables    0.317356\n",
       "Name: nlikes, dtype: float64"
      ]
     },
     "execution_count": 103,
     "metadata": {},
     "output_type": "execute_result"
    }
   ],
   "source": [
    "val[[target] + prediction_cols].corr()[target]"
   ]
  },
  {
   "cell_type": "code",
   "execution_count": 101,
   "metadata": {},
   "outputs": [
    {
     "data": {
      "image/png": "[encoded data removed]",
      "text/plain": [
       "<Figure size 640x480 with 1 Axes>"
      ]
     },
     "metadata": {},
     "output_type": "display_data"
    }
   ],
   "source": [
    "graph = (\n",
    "    pn.ggplot(graph_data, pn.aes(x='is_large', y='value', color='prediction_name'))\n",
    "    + pn.geom_boxplot(outlier_size=0)\n",
    ")\n",
    "\n",
    "graph.draw();"
   ]
  },
  {
   "cell_type": "markdown",
   "metadata": {},
   "source": [
    "Podemos apreciar en estos 2 graficos 2 cosas:\n",
    "\n",
    "* El baseline parece muy relevante para los valores bajos del target, pero cuando sube, ya no tiene ningun sentido --> esto se traduce en una correlacion mucho mejor para el modelo mas complejo\n",
    "* Estamos prediciendo valores negativos con nuestro modelo complejo!\n",
    "\n",
    "Lo de predecir valores negativos no es tan problematico - en realidad podriamos capar el valor minimo en 0 y andando."
   ]
  },
  {
   "cell_type": "code",
   "execution_count": 104,
   "metadata": {},
   "outputs": [
    {
     "data": {
      "text/plain": [
       "['predictions_baseline', 'predictions_basic', 'predictions_all_variables']"
      ]
     },
     "execution_count": 104,
     "metadata": {},
     "output_type": "execute_result"
    }
   ],
   "source": [
    "prediction_cols"
   ]
  },
  {
   "cell_type": "code",
   "execution_count": 109,
   "metadata": {},
   "outputs": [
    {
     "name": "stdout",
     "output_type": "stream",
     "text": [
      "378.3386700033152\n",
      "270.0\n",
      "1566.0\n"
     ]
    }
   ],
   "source": [
    "val['predictions_all_variables_capped'] = val.predictions_all_variables.clip(lower=0)\n",
    "\n",
    "print(median_absolute_error(val[target], val['predictions_all_variables_capped']))\n",
    "print(median_absolute_error(val.loc[~c, target], val.loc[~c, 'predictions_all_variables_capped']).round())\n",
    "print(median_absolute_error(val.loc[c, target], val.loc[c, 'predictions_all_variables_capped']).round())"
   ]
  },
  {
   "cell_type": "markdown",
   "metadata": {},
   "source": [
    "Mejora ligeramente los resultados del modelo.\n",
    "\n",
    "Otra cosa que podriamos hacer en este sentido es remplazar valores \"bajos\" por nuestro baseline - pero ojo - no podemos mirar el target! Miramos a ver si predecimos por debajo del cuantil 80% del train"
   ]
  },
  {
   "cell_type": "code",
   "execution_count": 110,
   "metadata": {},
   "outputs": [],
   "source": [
    "val['predicted_low'] = val['predictions_all_variables_capped'] < train[target].quantile(0.8)\n",
    "\n",
    "val['predictions_all_variables_capped_combine_baseline'] = val.predictions_all_variables_capped\n",
    "val.loc[(val.predictions_all_variables_capped_combine_baseline > 0) & val.predicted_low, 'predictions_all_variables_capped_combine_baseline'] = baseline_median"
   ]
  },
  {
   "cell_type": "code",
   "execution_count": 111,
   "metadata": {},
   "outputs": [
    {
     "name": "stdout",
     "output_type": "stream",
     "text": [
      "347.7321953984356\n",
      "88.0\n",
      "1595.0\n"
     ]
    }
   ],
   "source": [
    "print(median_absolute_error(val[target], val['predictions_all_variables_capped_combine_baseline']))\n",
    "print(median_absolute_error(val.loc[~c, target], val.loc[~c, 'predictions_all_variables_capped_combine_baseline']).round())\n",
    "print(median_absolute_error(val.loc[c, target], val.loc[c, 'predictions_all_variables_capped_combine_baseline']).round())"
   ]
  },
  {
   "cell_type": "markdown",
   "metadata": {},
   "source": [
    "Pues hemos mejorado algo pero no mucho!\n",
    "\n",
    "### Influencia de las variables\n",
    "Otra cosa interesante es ver como influyen las diferentes variables sobre la regresion"
   ]
  },
  {
   "cell_type": "code",
   "execution_count": 117,
   "metadata": {},
   "outputs": [
    {
     "data": {
      "text/plain": [
       "[('video', 234.9563775541368),\n",
       " ('has_quotes', -135.39887621285033),\n",
       " ('verified', 344.359172490941),\n",
       " ('join_datetime_year', 128.14640283899524),\n",
       " ('followers_binned', -81.00522764753394),\n",
       " ('likes_per_tweets_binned', -53.495856701721586),\n",
       " ('followers_per_tweets_binned', 330.3019830771135),\n",
       " ('number_tweets_in_period', -0.7095464168642042),\n",
       " ('tweets_capped', -0.0021162291741919047),\n",
       " ('followers_capped', 4.007127404788927e-05)]"
      ]
     },
     "execution_count": 117,
     "metadata": {},
     "output_type": "execute_result"
    }
   ],
   "source": [
    "[(col, coef) for col, coef in zip([col for col in FINAL_COLS if col != target], lin_reg_all.coef_)]"
   ]
  },
  {
   "cell_type": "markdown",
   "metadata": {},
   "source": [
    "Aqui podemos apreciar varias cosas:\n",
    "\n",
    "* Las variables que influyen de forma positiva, por ejemplo si es verificado\n",
    "* La escala - pero aqui es dificil comparar porque las variables no estan normalizadas!\n",
    "* Lo malo de incluir tantas variables! Vemos que followers reduce por un lado pero sube por otro - esto pasara por tener demasiadas\n",
    "\n",
    "### Un modelo mas poderoso\n",
    "Solo para ver que tal - vamos a entrenar un random forest."
   ]
  },
  {
   "cell_type": "code",
   "execution_count": 121,
   "metadata": {},
   "outputs": [
    {
     "name": "stdout",
     "output_type": "stream",
     "text": [
      "We had a training score of 55.33466200030249 and a validation score of 83.5732966179157\n",
      "42.0\n",
      "1711.0\n"
     ]
    }
   ],
   "source": [
    "variables = [col for col in FINAL_COLS if col != target]\n",
    "model = RandomForestRegressor(random_state=1)\n",
    "model.fit(train[variables], train[target])\n",
    "\n",
    "predictions_name = 'predictions_rf'\n",
    "train[predictions_name] = model.predict(train[variables])\n",
    "val[predictions_name] = model.predict(val[variables])\n",
    "\n",
    "train_error = median_absolute_error(train[target], train[predictions_name])\n",
    "val_error = median_absolute_error(val[target], val[predictions_name])\n",
    "print(f'We had a training score of {train_error} and a validation score of {val_error}')\n",
    "\n",
    "print(median_absolute_error(val.loc[~c, target], val.loc[~c, 'predictions_rf']).round())\n",
    "print(median_absolute_error(val.loc[c, target], val.loc[c, 'predictions_rf']).round())"
   ]
  },
  {
   "cell_type": "code",
   "execution_count": 122,
   "metadata": {},
   "outputs": [],
   "source": [
    "prediction_cols.append('predictions_rf')"
   ]
  },
  {
   "cell_type": "code",
   "execution_count": 127,
   "metadata": {},
   "outputs": [
    {
     "data": {
      "image/png": "[encoded data removed]",
      "text/plain": [
       "<Figure size 1100x400 with 1 Axes>"
      ]
     },
     "metadata": {},
     "output_type": "display_data"
    }
   ],
   "source": [
    "graph_data = pd.melt(val[[target, 'is_large'] + prediction_cols], 'is_large', var_name='prediction_name')\n",
    "\n",
    "graph = (\n",
    "    pn.ggplot(graph_data, pn.aes(x='prediction_name', y='value'))\n",
    "    + pn.geom_boxplot(outlier_size=0)\n",
    "    + pn.coord_cartesian(ylim=(0, val[target].quantile(0.95)))\n",
    "    + pn.theme(figure_size=(11, 4))\n",
    ")\n",
    "\n",
    "graph.draw();"
   ]
  },
  {
   "cell_type": "code",
   "execution_count": 128,
   "metadata": {},
   "outputs": [
    {
     "data": {
      "text/plain": [
       "nlikes                       1.000000\n",
       "predictions_baseline              NaN\n",
       "predictions_basic            0.195145\n",
       "predictions_all_variables    0.317356\n",
       "predictions_rf               0.444962\n",
       "Name: nlikes, dtype: float64"
      ]
     },
     "execution_count": 128,
     "metadata": {},
     "output_type": "execute_result"
    }
   ],
   "source": [
    "val[[target] + prediction_cols].corr()[target]"
   ]
  },
  {
   "cell_type": "markdown",
   "metadata": {},
   "source": [
    "Podemos ver que:\n",
    "\n",
    "* Para los valores mas pequeños conseguimos mejorar mucho y esto hace que el score y correlacion mejoran mucho en general\n",
    "* Para los valores grandes no hay mucha diferencia\n",
    "* La distribucion de valores que predecimos parece mucho mas similar a la distribucion original del target\n",
    "* Vemos que tambien hay bastante diferencia entre el score para train y validacion - esto es un problema comun de los modelos poderosos que se llama overfitting.\n",
    "\n",
    "En general es dificil evaluar bien problemas de regresion - pero definitivamente nuestro modelo poderoso ha mejorado bastante la prediccion. \n",
    "\n",
    "Sin ir demasiado lejos - nos acordamos de que queremos entender si un tweet va a ser popular o no. Entonces, podriamos decir que si predicimos que un tweet va a tener un cierto numero de likes, va a ser popular. Vamos a intentar evaluar esto directamente, ya que parece lo mas relevante. Como el umbral, vamos a coger el percentil 80% de train. Comparamos si el tweet de val fue popular y si predecimos que va a ser popular.\n"
   ]
  },
  {
   "cell_type": "code",
   "execution_count": 135,
   "metadata": {},
   "outputs": [
    {
     "name": "stdout",
     "output_type": "stream",
     "text": [
      "predictions_baseline 0.76\n",
      "predictions_basic 0.6\n",
      "predictions_all_variables 0.68\n",
      "predictions_rf 0.86\n"
     ]
    }
   ],
   "source": [
    "is_popular_val = val[target] > train[target].quantile(0.8)\n",
    "is_popular_pred = val[prediction_cols] > train[target].quantile(0.8)\n",
    "\n",
    "for col in prediction_cols:\n",
    "    print(col, (is_popular_val == is_popular_pred[col]).mean().round(2))"
   ]
  },
  {
   "cell_type": "markdown",
   "metadata": {},
   "source": [
    "Otra vez parece ser que el baseline es bastante bueno! Pero esto no cuenta - porque predice lo mismo para todos los tweets (que van a ser poco populares), asi que es totalmente inutil. Aqui si que vemos que el random forest ha mejorado las cosas bastante."
   ]
  },
  {
   "cell_type": "markdown",
   "metadata": {},
   "source": [
    "### Test\n",
    "Como ultima tarea, vamos a predicir sobre test - utilizaremos nuestro random forest ya que tiene tan buena pinta la prediccion."
   ]
  },
  {
   "cell_type": "code",
   "execution_count": 137,
   "metadata": {},
   "outputs": [
    {
     "name": "stdout",
     "output_type": "stream",
     "text": [
      "We had a test score of 72.63585499627548\n",
      "41.0\n",
      "1104.0\n"
     ]
    }
   ],
   "source": [
    "test[predictions_name] = model.predict(test[variables])\n",
    "test['is_large'] = test[target] > train[target].quantile(0.8)\n",
    "c = test.is_large\n",
    "\n",
    "test_error = median_absolute_error(test[target], test[predictions_name])\n",
    "print(f'We had a test score of {test_error}')\n",
    "\n",
    "print(median_absolute_error(test.loc[~c, target], test.loc[~c, 'predictions_rf']).round())\n",
    "print(median_absolute_error(test.loc[c, target], test.loc[c, 'predictions_rf']).round())"
   ]
  },
  {
   "cell_type": "markdown",
   "metadata": {},
   "source": [
    "Muy bien! Algo muy similar a los datos de validacion."
   ]
  },
  {
   "cell_type": "markdown",
   "metadata": {},
   "source": [
    "## Ultimos comentarios\n",
    "Hemos profundizado bastante en esta parte de la evaluacion - mucho mas de lo que se esperaba de vosotros (de hecho, la mayoria de los proyectos entregados tuvieron un 100% en la parte de evaluacion). Esto lo he hecho porque realmente es lo mas importante de cualquier modelo y podemos ser bastante creativos a la hora de hacer este proceso."
   ]
  }
 ],
 "metadata": {
  "interpreter": {
   "hash": "74a568880be0cfc5745ab616d2ec23524bd7f26e651cefe4e246d5d739ab7712"
  },
  "kernelspec": {
   "display_name": "Python 3.9.7 ('generic-ds')",
   "language": "python",
   "name": "python3"
  },
  "language_info": {
   "codemirror_mode": {
    "name": "ipython",
    "version": 3
   },
   "file_extension": ".py",
   "mimetype": "text/x-python",
   "name": "python",
   "nbconvert_exporter": "python",
   "pygments_lexer": "ipython3",
   "version": "3.9.7"
  },
  "orig_nbformat": 4
 },
 "nbformat": 4,
 "nbformat_minor": 2
}
