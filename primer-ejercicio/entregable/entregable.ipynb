{
 "cells": [
  {
   "attachments": {},
   "cell_type": "markdown",
   "metadata": {},
   "source": [
    "# Quiero comprar una casa: Predecir precios de viviendas\n",
    "**Contexto**: Estamos buscando comprar una vivienda por la zona de Ames, Iowa. Eres adicto a los chollos y quieres comprar a muy buen precio.\n",
    "\n",
    "**Objetivo**: De alguna manera, ganar confianza sobre los precios de las viviendas para poder comprar al mejor precio.\n",
    "\n",
    "**Metodología**: Crear un modelo de regresión para predecir los precios de las viviendas.\n",
    "\n",
    "**Datos**: Datos históricos de ventas de viviendas en la zona de Ames, Iowa. Ver `data_description.txt` para más contexto.\n",
    "\n",
    "## Que tienes que hacer tu?\n",
    "Como mínimo, seguir las instrucciones de este notebook y contestar a las preguntas para conseguir crear un modelo que cumple con el objetivo del proyecto. Las preguntas cubren los requisitos mínimos para poder crear un modelo, pero es recomendable ir un poco más allá para aprender más.\n",
    "\n",
    "### Entregable: cómo hacerlo y qué incluir\n",
    "Lo más sencillo es copiar este notebook y trabajar directamente dentro de ello. \n",
    "\n",
    "Antes de todo *no hay ninguna respuesta \"correcta\"*. Lo importante es tomar decisiones y razonar estas decisiones. Este razonamiento se debe basar en análisis de los datos y tu conocimiento del problema.\n",
    "\n",
    "El contenido que incluyáis debería\n",
    "\n",
    "1. Contestar a las preguntas\n",
    " * Código es parte de contestar a las preguntas\n",
    " * Es necesario incluir texto para contestar a preguntas (castellano o ingles)\n",
    " * Gráficos ayudan a explicar tus argumentos\n",
    "2. Ser auto-explicativo\n",
    " * El código que genera un análisis debería estar cerca del texto de este análisis - escribe como si estuvieras contando un cuento\n",
    " * Lo más importante es explicar tu razonamiento en cada paso\n",
    " * El notebook se debería de poder ejecutar de arriba abajo\n",
    "3. Ser *breve* - si algo no contribuye a contestar a las preguntas, por favor no incluirlo\n",
    " * A veces uno intenta hacer algo que no funciona - esto también ayuda a contestar la pregunta (para saber lo que NO funciona)\n",
    " * Si haces una algo que te parece muy interesante pero no ayuda mucho, podéis incluirlo en un fichero aparte\n",
    "\n",
    "\n",
    "Es muy normal que como vas avanzando tus respuestas a preguntas anteriores pueden cambiar. Si has contestado algo y luego te has dado cuenta que no te guste tu respuesta - cámbialo! No hay problema. En realidad esto es un proceso cíclico, no lineal.\n",
    "\n",
    "No hay requisitos de librerías / lenguajes pero es altamente recomendable usar Python y tirar principalmente de `Pandas` y `scikit-learn`.\n",
    "\n",
    "#### Por qué lo hacemos asi?\n",
    "Este formato es algo muy típico de las pruebas que hacen las empresas en procesos de selección, donde el objetivo es mostrar tus habilidades y como te acercas a problemas reales de data science. Intentamos replicar esto para que podéis ganar confianza al futuro si os enfrentéis a esto. \n",
    "\n",
    "### Estructura\n",
    "El notebook se compone por varias secciones que reflejan los pasos típicos de la creación de un modelo. Iremos introduciendo estas secciones en diferentes semanas. Cada sección depende de lo que has hecho anteriormente.\n",
    "\n",
    "Cada sección viene con las preguntas de la sección. Lo más normal para contestar a la pregunta seria\n",
    "\n",
    "1. Empezar con la pregunta - dejando tus pensamientos iniciales\n",
    "2. Código y texto que ayuda en desarrollar tu respuesta\n",
    "3. Un comentario final que expone tu \"respuesta\" definitiva - un resumen de los comentarios anteriores\n",
    "\n",
    "Nota que a veces la \"pregunta\" es más bien una instrucción. Aquí esperamos un un resultado final más que una respuesta en texto. Aún así, es importante incluir explicación de lo que estás haciendo!\n",
    "\n",
    "Los datos se encuentran en `primer-ejercicio/data/house-price-data.csv`."
   ]
  },
  {
   "attachments": {},
   "cell_type": "markdown",
   "metadata": {},
   "source": [
    "## Entender los datos\n",
    "Lo más importante de cualquier problema de data science es entender los datos. Si no entiendes - no puedes crear un modelo que tenga sentido."
   ]
  },
  {
   "attachments": {},
   "cell_type": "markdown",
   "metadata": {},
   "source": [
    "### Cargar los datos\n",
    "Lo primero de todo es cargar los datos, asegurar que está todo bien y empezar a formar ideas sobre como se relacionan los datos con nuestro problema."
   ]
  },
  {
   "attachments": {},
   "cell_type": "markdown",
   "metadata": {},
   "source": [
    "1. Cargar los datos y imprimir las primeras 5 filas"
   ]
  },
  {
   "cell_type": "code",
   "execution_count": null,
   "metadata": {},
   "outputs": [],
   "source": [
    "# Código"
   ]
  },
  {
   "attachments": {},
   "cell_type": "markdown",
   "metadata": {},
   "source": [
    "2. Se han cargado de forma correcta los datos? Cómo lo sabemos?"
   ]
  },
  {
   "cell_type": "code",
   "execution_count": null,
   "metadata": {},
   "outputs": [],
   "source": [
    "# Código"
   ]
  },
  {
   "attachments": {},
   "cell_type": "markdown",
   "metadata": {},
   "source": [
    "*Texto explicando nuestro razonamiento*"
   ]
  },
  {
   "attachments": {},
   "cell_type": "markdown",
   "metadata": {},
   "source": [
    "3. Tras una mirada inicial - que parece que tenemos en nuestros datos?"
   ]
  },
  {
   "attachments": {},
   "cell_type": "markdown",
   "metadata": {},
   "source": [
    "### Analizar los datos\n",
    "Para entender lo que tenemos en los datos, los tenemos que analizar. En realidad, este paso es el más importante de todos y puede durar horas, días o meses (la verdad es que en una empresa, nunca terminamos de analizar los datos). El conocimiento que ganamos aquí forma la base del razonamiento que usaremos para hacer decisiones en el futuro.\n",
    "\n",
    "Aquí buscamos cosas como\n",
    "\n",
    "1. El comportamiento de nuestros datos\n",
    "2. Los problemas que podemos tener\n",
    "3. Una impresión inicial de lo que podemos y de lo no podemos hacer con estos datos\n",
    "4. Las metodologías que seguramente vamos a usar"
   ]
  },
  {
   "attachments": {},
   "cell_type": "markdown",
   "metadata": {},
   "source": [
    "1. Cuantas filas de datos tenemos? Qué representa cada fila?"
   ]
  },
  {
   "attachments": {},
   "cell_type": "markdown",
   "metadata": {},
   "source": [
    "2. Hay filas que no son relevantes para nuestro problema?"
   ]
  },
  {
   "attachments": {},
   "cell_type": "markdown",
   "metadata": {},
   "source": [
    "3. Qué variables crees que van a ser los más importantes? Como se comportan estos datos? Qué variable será nuestro target?"
   ]
  },
  {
   "attachments": {},
   "cell_type": "markdown",
   "metadata": {},
   "source": [
    "4. Cuándo se construyeron los diferentes casas? Dibuja un gráfico para visualizarlo"
   ]
  },
  {
   "attachments": {},
   "cell_type": "markdown",
   "metadata": {},
   "source": [
    "5. Cuánto tiempo tardaron las diferentes casas en venderse? Dibuja un gráfico para visualizarlo"
   ]
  },
  {
   "attachments": {},
   "cell_type": "markdown",
   "metadata": {},
   "source": [
    "### Limpiar los datos\n",
    "Cuando creamos un modelo, no hay forma de \"mágicamente\" contar al modelo que es lo que queremos. Tenemos que usar unos datos que representan bien nuestro problema y crear un modelo que predice algo que alinea con la respuesta que buscamos.\n",
    "\n",
    "Si los datos son \"sucios\" (malos, con problemas, reflejan algo que no representa bien a nuestro problema) - nuestro modelo va a predecir cosas que no acaban de tener mucho sentido, no son de fiar o directamente son equivocadas.\n",
    "\n",
    "Cosas que queremos evitar\n",
    "\n",
    "* Datos que no tienen que ver con nuestro problema\n",
    "* Datos que tienen poca muestra\n",
    "* Outliers\n",
    "* Nulos"
   ]
  },
  {
   "attachments": {},
   "cell_type": "markdown",
   "metadata": {},
   "source": [
    "1. Identifique los principales problemas que tienen las variables que parecen (por ahora) más interesantes para el modelo"
   ]
  },
  {
   "attachments": {},
   "cell_type": "markdown",
   "metadata": {},
   "source": [
    "2. Arregla los problemas"
   ]
  },
  {
   "attachments": {},
   "cell_type": "markdown",
   "metadata": {},
   "source": [
    "3. Borra todos los datos que no son relevantes para el problema - simplifica los datos"
   ]
  },
  {
   "attachments": {},
   "cell_type": "markdown",
   "metadata": {},
   "source": [
    "## Preparación de los datos para el modelo\n",
    "Ahora que entendemos bien los datos, tomamos un paso más directo hacia la creación de nuestro modelo preparando los datos para el entrenamiento."
   ]
  },
  {
   "attachments": {},
   "cell_type": "markdown",
   "metadata": {},
   "source": [
    "### Relevancia de variables\n",
    "Por norma general, queremos incluir variables que son importantes en la predicción de nuestro target:\n",
    "\n",
    "* Tener menos variables más relevantes suele ser mejor - porque simplifica el modelo\n",
    "* Si no tenemos variables relevantes, los resultados del modelo van a ser malos\n",
    "\n",
    "Para analizar la relevancia, normalmente miramos que haya \"correlaciones\" entre diferentes variables y el target. Hay muchas formas de analizar estas \"correlaciones\", como por ejemplo:\n",
    "\n",
    "* Coeficiente de correlación (variables continuas)\n",
    "* La media del target para cada valor del variable (variables NO continuas)"
   ]
  },
  {
   "attachments": {},
   "cell_type": "markdown",
   "metadata": {},
   "source": [
    "1. Qué variables son los más relevantes? Analiza la relevancia para comprobarlo"
   ]
  },
  {
   "attachments": {},
   "cell_type": "markdown",
   "metadata": {},
   "source": [
    "2. Podemos crear algunas variables para mejorar la relevancia?"
   ]
  },
  {
   "attachments": {},
   "cell_type": "markdown",
   "metadata": {},
   "source": [
    "### Train y test\n",
    "Dividir los datos en train y test (o train, test y validación) es un paso fundamental para la correcta evaluación de nuestro modelo. Buscamos replicar el efecto de \"tener datos nuevos\". \n",
    "\n",
    "Nota: En realidad, lo más correcto seria dividir en train / test ANTES de analizar relevancias - pero simplificamos un poco por ahora.\n",
    "\n",
    "Nota 2: Si dividimos de forma *random* es importante fijar el seed (te vas a volver loco si no)"
   ]
  },
  {
   "attachments": {},
   "cell_type": "markdown",
   "metadata": {},
   "source": [
    "1. Qué variables quieres elegir para tu `X` final?"
   ]
  },
  {
   "attachments": {},
   "cell_type": "markdown",
   "metadata": {},
   "source": [
    "2. Divide los datos en train / test"
   ]
  },
  {
   "attachments": {},
   "cell_type": "markdown",
   "metadata": {},
   "source": [
    "## Modelado\n",
    "Ahora vamos a entrenar el modelo. Si has hecho lo anterior bien, este paso es muy sencillo. Normalmente incluimos aquí optimizaciones del modelo, pero para el primer ejercicio esto es de menor importancia."
   ]
  },
  {
   "attachments": {},
   "cell_type": "markdown",
   "metadata": {},
   "source": [
    "### Entrenar el modelo\n",
    "La parta más sexy, pero por ahora lo más sencillo. Tiramos de librerías de modelos ya hechos para simplificarnos la vida.  "
   ]
  },
  {
   "attachments": {},
   "cell_type": "markdown",
   "metadata": {},
   "source": [
    "1. Crea un modelo de regresión"
   ]
  },
  {
   "attachments": {},
   "cell_type": "markdown",
   "metadata": {},
   "source": [
    "2. Generar predicciones para tu conjunto de test"
   ]
  },
  {
   "attachments": {},
   "cell_type": "markdown",
   "metadata": {},
   "source": [
    "### Evaluar el modelo\n",
    "No vamos a dedicar mucho esfuerzo en este paso por ahora, pero es fundamental evaluar las predicciones que hemos generado. El objetivo es entender lo bueno que es nuestro modelo, para entender si podemos fiar de los resultados y usarlo para responder a nuestro problema."
   ]
  },
  {
   "attachments": {},
   "cell_type": "markdown",
   "metadata": {},
   "source": [
    "1. Elige las métricas para tu evaluación"
   ]
  },
  {
   "attachments": {},
   "cell_type": "markdown",
   "metadata": {},
   "source": [
    "2. Evalúa las predicciones generadas"
   ]
  },
  {
   "attachments": {},
   "cell_type": "markdown",
   "metadata": {},
   "source": [
    "3. El modelo funciona? Se podría utilizar para ayudarnos con el problema que tenemos?"
   ]
  }
 ],
 "metadata": {
  "language_info": {
   "name": "python"
  },
  "orig_nbformat": 4
 },
 "nbformat": 4,
 "nbformat_minor": 2
}
